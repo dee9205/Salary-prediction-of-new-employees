{
 "cells": [
  {
   "cell_type": "markdown",
   "id": "7b992bf1",
   "metadata": {},
   "source": [
    "## Deepak\n",
    "## Data Science ( 1st June )\n",
    "\n",
    "**Create a machine learning model which will help the company in determining the salary of newly hired employees using the given data. I will also show the prediction on demo data, using best model at the end.** "
   ]
  },
  {
   "cell_type": "markdown",
   "id": "dbcd579e",
   "metadata": {},
   "source": [
    "# Data importing :"
   ]
  },
  {
   "cell_type": "code",
   "execution_count": 1,
   "id": "0c6e2a74",
   "metadata": {},
   "outputs": [],
   "source": [
    "# Importing all required libraries\n",
    "\n",
    "import pandas as pd\n",
    "import seaborn as sns\n",
    "import numpy as np\n",
    "\n",
    "from sklearn.model_selection import train_test_split\n",
    "from sklearn.preprocessing import StandardScaler\n",
    "from sklearn.linear_model import LinearRegression\n",
    "from sklearn.metrics import mean_squared_error, r2_score\n",
    "from sklearn.linear_model import Ridge, Lasso\n",
    "from sklearn import preprocessing"
   ]
  },
  {
   "cell_type": "code",
   "execution_count": 2,
   "id": "a34e298e",
   "metadata": {},
   "outputs": [],
   "source": [
    "# Loading all the data , by using pandas pd.read function\n",
    "\n",
    "df = pd.read_csv('E:/Data Science with python/Python - machine learning/Project/ML case Study.csv', header=0)\n",
    "college = pd.read_csv('E:/Data Science with python/Python - machine learning/Project/colleges.csv', header=0)\n",
    "cities = pd.read_csv('E:/Data Science with python/Python - machine learning/Project/cities.csv', header=0)"
   ]
  },
  {
   "cell_type": "code",
   "execution_count": 3,
   "id": "efed2c7a",
   "metadata": {},
   "outputs": [
    {
     "data": {
      "text/html": [
       "<div>\n",
       "<style scoped>\n",
       "    .dataframe tbody tr th:only-of-type {\n",
       "        vertical-align: middle;\n",
       "    }\n",
       "\n",
       "    .dataframe tbody tr th {\n",
       "        vertical-align: top;\n",
       "    }\n",
       "\n",
       "    .dataframe thead th {\n",
       "        text-align: right;\n",
       "    }\n",
       "</style>\n",
       "<table border=\"1\" class=\"dataframe\">\n",
       "  <thead>\n",
       "    <tr style=\"text-align: right;\">\n",
       "      <th></th>\n",
       "      <th>College</th>\n",
       "      <th>City</th>\n",
       "      <th>Role</th>\n",
       "      <th>Previous CTC</th>\n",
       "      <th>Previous job change</th>\n",
       "      <th>Graduation Marks</th>\n",
       "      <th>EXP (Month)</th>\n",
       "      <th>CTC</th>\n",
       "    </tr>\n",
       "  </thead>\n",
       "  <tbody>\n",
       "    <tr>\n",
       "      <th>0</th>\n",
       "      <td>SVNIT Surat</td>\n",
       "      <td>Asansol</td>\n",
       "      <td>Manager</td>\n",
       "      <td>55523</td>\n",
       "      <td>3</td>\n",
       "      <td>66</td>\n",
       "      <td>19</td>\n",
       "      <td>71406.58</td>\n",
       "    </tr>\n",
       "    <tr>\n",
       "      <th>1</th>\n",
       "      <td>NIT Bhopal</td>\n",
       "      <td>Ajmer</td>\n",
       "      <td>Executive</td>\n",
       "      <td>57081</td>\n",
       "      <td>1</td>\n",
       "      <td>84</td>\n",
       "      <td>18</td>\n",
       "      <td>68005.87</td>\n",
       "    </tr>\n",
       "    <tr>\n",
       "      <th>2</th>\n",
       "      <td>IEM, Kolkata</td>\n",
       "      <td>Rajpur Sonarpur</td>\n",
       "      <td>Executive</td>\n",
       "      <td>60347</td>\n",
       "      <td>2</td>\n",
       "      <td>52</td>\n",
       "      <td>28</td>\n",
       "      <td>76764.02</td>\n",
       "    </tr>\n",
       "    <tr>\n",
       "      <th>3</th>\n",
       "      <td>KIIT, Bhubaneswar</td>\n",
       "      <td>Ajmer</td>\n",
       "      <td>Executive</td>\n",
       "      <td>49010</td>\n",
       "      <td>2</td>\n",
       "      <td>81</td>\n",
       "      <td>33</td>\n",
       "      <td>82092.39</td>\n",
       "    </tr>\n",
       "    <tr>\n",
       "      <th>4</th>\n",
       "      <td>DTU</td>\n",
       "      <td>Durgapur</td>\n",
       "      <td>Executive</td>\n",
       "      <td>57879</td>\n",
       "      <td>4</td>\n",
       "      <td>74</td>\n",
       "      <td>32</td>\n",
       "      <td>73878.10</td>\n",
       "    </tr>\n",
       "  </tbody>\n",
       "</table>\n",
       "</div>"
      ],
      "text/plain": [
       "             College             City       Role  Previous CTC  \\\n",
       "0        SVNIT Surat          Asansol    Manager         55523   \n",
       "1         NIT Bhopal            Ajmer  Executive         57081   \n",
       "2       IEM, Kolkata  Rajpur Sonarpur  Executive         60347   \n",
       "3  KIIT, Bhubaneswar            Ajmer  Executive         49010   \n",
       "4                DTU         Durgapur  Executive         57879   \n",
       "\n",
       "   Previous job change  Graduation Marks  EXP (Month)       CTC  \n",
       "0                    3                66           19  71406.58  \n",
       "1                    1                84           18  68005.87  \n",
       "2                    2                52           28  76764.02  \n",
       "3                    2                81           33  82092.39  \n",
       "4                    4                74           32  73878.10  "
      ]
     },
     "execution_count": 3,
     "metadata": {},
     "output_type": "execute_result"
    }
   ],
   "source": [
    "# First five rows of main dataframe (df) to analyze\n",
    "\n",
    "df.head()"
   ]
  },
  {
   "cell_type": "code",
   "execution_count": 4,
   "id": "1c28ea94",
   "metadata": {},
   "outputs": [],
   "source": [
    "# Storing data into Tier1, Tier2, Tier3 that are lists, using tolist function from collage dataframe.\n",
    "\n",
    "Tier1 = college[\"Tier 1\"].tolist()\n",
    "Tier2 = college[\"Tier 2\"].tolist()\n",
    "Tier3 = college[\"Tier 3\"].tolist()"
   ]
  },
  {
   "cell_type": "code",
   "execution_count": 5,
   "id": "1a4a8fc4",
   "metadata": {},
   "outputs": [],
   "source": [
    "# Replacing main dataframe that is df's \"college\" column values with list category Tier1,Tier2,Tier3\n",
    "\n",
    "for item in df.College:\n",
    "    if item in Tier1:\n",
    "        df[\"College\"].replace(item,1,inplace=True)\n",
    "    elif item in Tier2:\n",
    "        df[\"College\"].replace(item,2,inplace=True)\n",
    "    elif item in Tier3:\n",
    "        df[\"College\"].replace(item,3,inplace=True)\n",
    "    "
   ]
  },
  {
   "cell_type": "code",
   "execution_count": 6,
   "id": "b252ffe3",
   "metadata": {},
   "outputs": [
    {
     "data": {
      "text/html": [
       "<div>\n",
       "<style scoped>\n",
       "    .dataframe tbody tr th:only-of-type {\n",
       "        vertical-align: middle;\n",
       "    }\n",
       "\n",
       "    .dataframe tbody tr th {\n",
       "        vertical-align: top;\n",
       "    }\n",
       "\n",
       "    .dataframe thead th {\n",
       "        text-align: right;\n",
       "    }\n",
       "</style>\n",
       "<table border=\"1\" class=\"dataframe\">\n",
       "  <thead>\n",
       "    <tr style=\"text-align: right;\">\n",
       "      <th></th>\n",
       "      <th>College</th>\n",
       "      <th>City</th>\n",
       "      <th>Role</th>\n",
       "      <th>Previous CTC</th>\n",
       "      <th>Previous job change</th>\n",
       "      <th>Graduation Marks</th>\n",
       "      <th>EXP (Month)</th>\n",
       "      <th>CTC</th>\n",
       "    </tr>\n",
       "  </thead>\n",
       "  <tbody>\n",
       "    <tr>\n",
       "      <th>0</th>\n",
       "      <td>2</td>\n",
       "      <td>Asansol</td>\n",
       "      <td>Manager</td>\n",
       "      <td>55523</td>\n",
       "      <td>3</td>\n",
       "      <td>66</td>\n",
       "      <td>19</td>\n",
       "      <td>71406.58</td>\n",
       "    </tr>\n",
       "    <tr>\n",
       "      <th>1</th>\n",
       "      <td>2</td>\n",
       "      <td>Ajmer</td>\n",
       "      <td>Executive</td>\n",
       "      <td>57081</td>\n",
       "      <td>1</td>\n",
       "      <td>84</td>\n",
       "      <td>18</td>\n",
       "      <td>68005.87</td>\n",
       "    </tr>\n",
       "    <tr>\n",
       "      <th>2</th>\n",
       "      <td>3</td>\n",
       "      <td>Rajpur Sonarpur</td>\n",
       "      <td>Executive</td>\n",
       "      <td>60347</td>\n",
       "      <td>2</td>\n",
       "      <td>52</td>\n",
       "      <td>28</td>\n",
       "      <td>76764.02</td>\n",
       "    </tr>\n",
       "    <tr>\n",
       "      <th>3</th>\n",
       "      <td>3</td>\n",
       "      <td>Ajmer</td>\n",
       "      <td>Executive</td>\n",
       "      <td>49010</td>\n",
       "      <td>2</td>\n",
       "      <td>81</td>\n",
       "      <td>33</td>\n",
       "      <td>82092.39</td>\n",
       "    </tr>\n",
       "    <tr>\n",
       "      <th>4</th>\n",
       "      <td>1</td>\n",
       "      <td>Durgapur</td>\n",
       "      <td>Executive</td>\n",
       "      <td>57879</td>\n",
       "      <td>4</td>\n",
       "      <td>74</td>\n",
       "      <td>32</td>\n",
       "      <td>73878.10</td>\n",
       "    </tr>\n",
       "  </tbody>\n",
       "</table>\n",
       "</div>"
      ],
      "text/plain": [
       "   College             City       Role  Previous CTC  Previous job change  \\\n",
       "0        2          Asansol    Manager         55523                    3   \n",
       "1        2            Ajmer  Executive         57081                    1   \n",
       "2        3  Rajpur Sonarpur  Executive         60347                    2   \n",
       "3        3            Ajmer  Executive         49010                    2   \n",
       "4        1         Durgapur  Executive         57879                    4   \n",
       "\n",
       "   Graduation Marks  EXP (Month)       CTC  \n",
       "0                66           19  71406.58  \n",
       "1                84           18  68005.87  \n",
       "2                52           28  76764.02  \n",
       "3                81           33  82092.39  \n",
       "4                74           32  73878.10  "
      ]
     },
     "execution_count": 6,
     "metadata": {},
     "output_type": "execute_result"
    }
   ],
   "source": [
    "# Checking if the values of collage is replaced with tier1 that is 1, tier2 that is 1, tier3 that is 1 or not. \n",
    "\n",
    "df.head()"
   ]
  },
  {
   "cell_type": "code",
   "execution_count": 7,
   "id": "c3e023eb",
   "metadata": {},
   "outputs": [
    {
     "data": {
      "text/html": [
       "<div>\n",
       "<style scoped>\n",
       "    .dataframe tbody tr th:only-of-type {\n",
       "        vertical-align: middle;\n",
       "    }\n",
       "\n",
       "    .dataframe tbody tr th {\n",
       "        vertical-align: top;\n",
       "    }\n",
       "\n",
       "    .dataframe thead th {\n",
       "        text-align: right;\n",
       "    }\n",
       "</style>\n",
       "<table border=\"1\" class=\"dataframe\">\n",
       "  <thead>\n",
       "    <tr style=\"text-align: right;\">\n",
       "      <th></th>\n",
       "      <th>Metrio City</th>\n",
       "      <th>non-metro cities</th>\n",
       "    </tr>\n",
       "  </thead>\n",
       "  <tbody>\n",
       "    <tr>\n",
       "      <th>0</th>\n",
       "      <td>Mumbai</td>\n",
       "      <td>Dehradun</td>\n",
       "    </tr>\n",
       "    <tr>\n",
       "      <th>1</th>\n",
       "      <td>Delhi</td>\n",
       "      <td>Durgapur</td>\n",
       "    </tr>\n",
       "    <tr>\n",
       "      <th>2</th>\n",
       "      <td>Kolkata</td>\n",
       "      <td>Asansol</td>\n",
       "    </tr>\n",
       "    <tr>\n",
       "      <th>3</th>\n",
       "      <td>Chennai</td>\n",
       "      <td>Rourkela</td>\n",
       "    </tr>\n",
       "    <tr>\n",
       "      <th>4</th>\n",
       "      <td>Bangalore</td>\n",
       "      <td>Kozhikode</td>\n",
       "    </tr>\n",
       "  </tbody>\n",
       "</table>\n",
       "</div>"
      ],
      "text/plain": [
       "  Metrio City non-metro cities\n",
       "0      Mumbai         Dehradun\n",
       "1       Delhi         Durgapur\n",
       "2     Kolkata          Asansol\n",
       "3     Chennai         Rourkela\n",
       "4   Bangalore        Kozhikode"
      ]
     },
     "execution_count": 7,
     "metadata": {},
     "output_type": "execute_result"
    }
   ],
   "source": [
    "# First five rows of cities dataframe\n",
    "\n",
    "cities.head()"
   ]
  },
  {
   "cell_type": "code",
   "execution_count": 8,
   "id": "0490ab75",
   "metadata": {},
   "outputs": [],
   "source": [
    "# Storing data into metro, non_metro that are lists, using tolist function from cities dataframe.\n",
    "\n",
    "metro = cities[\"Metrio City\"].tolist()\n",
    "non_metro = cities[\"non-metro cities\"].tolist()"
   ]
  },
  {
   "cell_type": "code",
   "execution_count": 9,
   "id": "516a95c6",
   "metadata": {},
   "outputs": [],
   "source": [
    "# Replacing main dataframe that is df's \"cities\" column values with list category metro and non_metro\n",
    "\n",
    "for item in df.City:\n",
    "    if item in metro:\n",
    "        df[\"City\"].replace(item,1,inplace=True)\n",
    "    elif item in non_metro:\n",
    "        df[\"City\"].replace(item,0,inplace=True)"
   ]
  },
  {
   "cell_type": "code",
   "execution_count": 10,
   "id": "917da4c5",
   "metadata": {},
   "outputs": [
    {
     "data": {
      "text/html": [
       "<div>\n",
       "<style scoped>\n",
       "    .dataframe tbody tr th:only-of-type {\n",
       "        vertical-align: middle;\n",
       "    }\n",
       "\n",
       "    .dataframe tbody tr th {\n",
       "        vertical-align: top;\n",
       "    }\n",
       "\n",
       "    .dataframe thead th {\n",
       "        text-align: right;\n",
       "    }\n",
       "</style>\n",
       "<table border=\"1\" class=\"dataframe\">\n",
       "  <thead>\n",
       "    <tr style=\"text-align: right;\">\n",
       "      <th></th>\n",
       "      <th>College</th>\n",
       "      <th>City</th>\n",
       "      <th>Role</th>\n",
       "      <th>Previous CTC</th>\n",
       "      <th>Previous job change</th>\n",
       "      <th>Graduation Marks</th>\n",
       "      <th>EXP (Month)</th>\n",
       "      <th>CTC</th>\n",
       "    </tr>\n",
       "  </thead>\n",
       "  <tbody>\n",
       "    <tr>\n",
       "      <th>0</th>\n",
       "      <td>2</td>\n",
       "      <td>0</td>\n",
       "      <td>Manager</td>\n",
       "      <td>55523</td>\n",
       "      <td>3</td>\n",
       "      <td>66</td>\n",
       "      <td>19</td>\n",
       "      <td>71406.58</td>\n",
       "    </tr>\n",
       "    <tr>\n",
       "      <th>1</th>\n",
       "      <td>2</td>\n",
       "      <td>0</td>\n",
       "      <td>Executive</td>\n",
       "      <td>57081</td>\n",
       "      <td>1</td>\n",
       "      <td>84</td>\n",
       "      <td>18</td>\n",
       "      <td>68005.87</td>\n",
       "    </tr>\n",
       "    <tr>\n",
       "      <th>2</th>\n",
       "      <td>3</td>\n",
       "      <td>0</td>\n",
       "      <td>Executive</td>\n",
       "      <td>60347</td>\n",
       "      <td>2</td>\n",
       "      <td>52</td>\n",
       "      <td>28</td>\n",
       "      <td>76764.02</td>\n",
       "    </tr>\n",
       "    <tr>\n",
       "      <th>3</th>\n",
       "      <td>3</td>\n",
       "      <td>0</td>\n",
       "      <td>Executive</td>\n",
       "      <td>49010</td>\n",
       "      <td>2</td>\n",
       "      <td>81</td>\n",
       "      <td>33</td>\n",
       "      <td>82092.39</td>\n",
       "    </tr>\n",
       "    <tr>\n",
       "      <th>4</th>\n",
       "      <td>1</td>\n",
       "      <td>0</td>\n",
       "      <td>Executive</td>\n",
       "      <td>57879</td>\n",
       "      <td>4</td>\n",
       "      <td>74</td>\n",
       "      <td>32</td>\n",
       "      <td>73878.10</td>\n",
       "    </tr>\n",
       "    <tr>\n",
       "      <th>5</th>\n",
       "      <td>2</td>\n",
       "      <td>0</td>\n",
       "      <td>Executive</td>\n",
       "      <td>54340</td>\n",
       "      <td>4</td>\n",
       "      <td>73</td>\n",
       "      <td>31</td>\n",
       "      <td>59950.89</td>\n",
       "    </tr>\n",
       "    <tr>\n",
       "      <th>6</th>\n",
       "      <td>3</td>\n",
       "      <td>1</td>\n",
       "      <td>Executive</td>\n",
       "      <td>60298</td>\n",
       "      <td>1</td>\n",
       "      <td>42</td>\n",
       "      <td>46</td>\n",
       "      <td>66602.34</td>\n",
       "    </tr>\n",
       "    <tr>\n",
       "      <th>7</th>\n",
       "      <td>2</td>\n",
       "      <td>1</td>\n",
       "      <td>Executive</td>\n",
       "      <td>49944</td>\n",
       "      <td>2</td>\n",
       "      <td>56</td>\n",
       "      <td>37</td>\n",
       "      <td>57768.44</td>\n",
       "    </tr>\n",
       "    <tr>\n",
       "      <th>8</th>\n",
       "      <td>3</td>\n",
       "      <td>1</td>\n",
       "      <td>Executive</td>\n",
       "      <td>53124</td>\n",
       "      <td>4</td>\n",
       "      <td>40</td>\n",
       "      <td>37</td>\n",
       "      <td>70083.30</td>\n",
       "    </tr>\n",
       "    <tr>\n",
       "      <th>9</th>\n",
       "      <td>1</td>\n",
       "      <td>0</td>\n",
       "      <td>Executive</td>\n",
       "      <td>51141</td>\n",
       "      <td>1</td>\n",
       "      <td>47</td>\n",
       "      <td>60</td>\n",
       "      <td>85648.48</td>\n",
       "    </tr>\n",
       "  </tbody>\n",
       "</table>\n",
       "</div>"
      ],
      "text/plain": [
       "   College  City       Role  Previous CTC  Previous job change  \\\n",
       "0        2     0    Manager         55523                    3   \n",
       "1        2     0  Executive         57081                    1   \n",
       "2        3     0  Executive         60347                    2   \n",
       "3        3     0  Executive         49010                    2   \n",
       "4        1     0  Executive         57879                    4   \n",
       "5        2     0  Executive         54340                    4   \n",
       "6        3     1  Executive         60298                    1   \n",
       "7        2     1  Executive         49944                    2   \n",
       "8        3     1  Executive         53124                    4   \n",
       "9        1     0  Executive         51141                    1   \n",
       "\n",
       "   Graduation Marks  EXP (Month)       CTC  \n",
       "0                66           19  71406.58  \n",
       "1                84           18  68005.87  \n",
       "2                52           28  76764.02  \n",
       "3                81           33  82092.39  \n",
       "4                74           32  73878.10  \n",
       "5                73           31  59950.89  \n",
       "6                42           46  66602.34  \n",
       "7                56           37  57768.44  \n",
       "8                40           37  70083.30  \n",
       "9                47           60  85648.48  "
      ]
     },
     "execution_count": 10,
     "metadata": {},
     "output_type": "execute_result"
    }
   ],
   "source": [
    "# Checking if the values of cities is replaced with metro that is 1, non-metro that is 0 or not. \n",
    "\n",
    "df.head(10)"
   ]
  },
  {
   "cell_type": "markdown",
   "id": "a4330ade",
   "metadata": {},
   "source": [
    "--------------------------------------------------------------------------------------------------------------------------------"
   ]
  },
  {
   "cell_type": "markdown",
   "id": "0b1f7ce1",
   "metadata": {},
   "source": [
    "# Data pre-processing :"
   ]
  },
  {
   "cell_type": "markdown",
   "id": "d77cece1",
   "metadata": {},
   "source": [
    "* ### Missing value imputation"
   ]
  },
  {
   "cell_type": "code",
   "execution_count": 11,
   "id": "233bbca6",
   "metadata": {},
   "outputs": [
    {
     "name": "stdout",
     "output_type": "stream",
     "text": [
      "<class 'pandas.core.frame.DataFrame'>\n",
      "RangeIndex: 1589 entries, 0 to 1588\n",
      "Data columns (total 8 columns):\n",
      " #   Column               Non-Null Count  Dtype  \n",
      "---  ------               --------------  -----  \n",
      " 0   College              1589 non-null   int64  \n",
      " 1   City                 1589 non-null   int64  \n",
      " 2   Role                 1589 non-null   object \n",
      " 3   Previous CTC         1589 non-null   int64  \n",
      " 4   Previous job change  1589 non-null   int64  \n",
      " 5   Graduation Marks     1589 non-null   int64  \n",
      " 6   EXP (Month)          1589 non-null   int64  \n",
      " 7   CTC                  1589 non-null   float64\n",
      "dtypes: float64(1), int64(6), object(1)\n",
      "memory usage: 99.4+ KB\n"
     ]
    }
   ],
   "source": [
    "# Checking quick summary of dataframe df in order to find any missing values.\n",
    "\n",
    "df.info()"
   ]
  },
  {
   "cell_type": "markdown",
   "id": "3dfef8b5",
   "metadata": {},
   "source": [
    "#### Observation\n",
    "There is no missing values so, we don't have need to do missing value imputation."
   ]
  },
  {
   "cell_type": "markdown",
   "id": "de4f2374",
   "metadata": {},
   "source": [
    "* ### Dummy variable creation"
   ]
  },
  {
   "cell_type": "code",
   "execution_count": 12,
   "id": "65e7a9c5",
   "metadata": {},
   "outputs": [],
   "source": [
    "# Getting dummy variables (in the form of 0 and 1) for our all categorical columns / variables.\n",
    "\n",
    "df = pd.get_dummies(df)"
   ]
  },
  {
   "cell_type": "code",
   "execution_count": 13,
   "id": "6099508c",
   "metadata": {},
   "outputs": [
    {
     "data": {
      "text/html": [
       "<div>\n",
       "<style scoped>\n",
       "    .dataframe tbody tr th:only-of-type {\n",
       "        vertical-align: middle;\n",
       "    }\n",
       "\n",
       "    .dataframe tbody tr th {\n",
       "        vertical-align: top;\n",
       "    }\n",
       "\n",
       "    .dataframe thead th {\n",
       "        text-align: right;\n",
       "    }\n",
       "</style>\n",
       "<table border=\"1\" class=\"dataframe\">\n",
       "  <thead>\n",
       "    <tr style=\"text-align: right;\">\n",
       "      <th></th>\n",
       "      <th>College</th>\n",
       "      <th>City</th>\n",
       "      <th>Previous CTC</th>\n",
       "      <th>Previous job change</th>\n",
       "      <th>Graduation Marks</th>\n",
       "      <th>EXP (Month)</th>\n",
       "      <th>CTC</th>\n",
       "      <th>Role_Executive</th>\n",
       "      <th>Role_Manager</th>\n",
       "    </tr>\n",
       "  </thead>\n",
       "  <tbody>\n",
       "    <tr>\n",
       "      <th>0</th>\n",
       "      <td>2</td>\n",
       "      <td>0</td>\n",
       "      <td>55523</td>\n",
       "      <td>3</td>\n",
       "      <td>66</td>\n",
       "      <td>19</td>\n",
       "      <td>71406.58</td>\n",
       "      <td>False</td>\n",
       "      <td>True</td>\n",
       "    </tr>\n",
       "    <tr>\n",
       "      <th>1</th>\n",
       "      <td>2</td>\n",
       "      <td>0</td>\n",
       "      <td>57081</td>\n",
       "      <td>1</td>\n",
       "      <td>84</td>\n",
       "      <td>18</td>\n",
       "      <td>68005.87</td>\n",
       "      <td>True</td>\n",
       "      <td>False</td>\n",
       "    </tr>\n",
       "    <tr>\n",
       "      <th>2</th>\n",
       "      <td>3</td>\n",
       "      <td>0</td>\n",
       "      <td>60347</td>\n",
       "      <td>2</td>\n",
       "      <td>52</td>\n",
       "      <td>28</td>\n",
       "      <td>76764.02</td>\n",
       "      <td>True</td>\n",
       "      <td>False</td>\n",
       "    </tr>\n",
       "    <tr>\n",
       "      <th>3</th>\n",
       "      <td>3</td>\n",
       "      <td>0</td>\n",
       "      <td>49010</td>\n",
       "      <td>2</td>\n",
       "      <td>81</td>\n",
       "      <td>33</td>\n",
       "      <td>82092.39</td>\n",
       "      <td>True</td>\n",
       "      <td>False</td>\n",
       "    </tr>\n",
       "    <tr>\n",
       "      <th>4</th>\n",
       "      <td>1</td>\n",
       "      <td>0</td>\n",
       "      <td>57879</td>\n",
       "      <td>4</td>\n",
       "      <td>74</td>\n",
       "      <td>32</td>\n",
       "      <td>73878.10</td>\n",
       "      <td>True</td>\n",
       "      <td>False</td>\n",
       "    </tr>\n",
       "  </tbody>\n",
       "</table>\n",
       "</div>"
      ],
      "text/plain": [
       "   College  City  Previous CTC  Previous job change  Graduation Marks  \\\n",
       "0        2     0         55523                    3                66   \n",
       "1        2     0         57081                    1                84   \n",
       "2        3     0         60347                    2                52   \n",
       "3        3     0         49010                    2                81   \n",
       "4        1     0         57879                    4                74   \n",
       "\n",
       "   EXP (Month)       CTC  Role_Executive  Role_Manager  \n",
       "0           19  71406.58           False          True  \n",
       "1           18  68005.87            True         False  \n",
       "2           28  76764.02            True         False  \n",
       "3           33  82092.39            True         False  \n",
       "4           32  73878.10            True         False  "
      ]
     },
     "execution_count": 13,
     "metadata": {},
     "output_type": "execute_result"
    }
   ],
   "source": [
    "# Checking of the categorical variable is changed into dummy variable or not.\n",
    "\n",
    "df.head()"
   ]
  },
  {
   "cell_type": "markdown",
   "id": "2cc44799",
   "metadata": {},
   "source": [
    "Dummy variable is created but not in the form of int value 0 and 1"
   ]
  },
  {
   "cell_type": "code",
   "execution_count": 14,
   "id": "6a3959c7",
   "metadata": {},
   "outputs": [],
   "source": [
    "# Converting created dummy variable values into integer.\n",
    "\n",
    "df = df.astype({\"Role_Executive\" : \"int\", \"Role_Manager\" : \"int\"})"
   ]
  },
  {
   "cell_type": "code",
   "execution_count": 15,
   "id": "2be7ce69",
   "metadata": {},
   "outputs": [
    {
     "data": {
      "text/html": [
       "<div>\n",
       "<style scoped>\n",
       "    .dataframe tbody tr th:only-of-type {\n",
       "        vertical-align: middle;\n",
       "    }\n",
       "\n",
       "    .dataframe tbody tr th {\n",
       "        vertical-align: top;\n",
       "    }\n",
       "\n",
       "    .dataframe thead th {\n",
       "        text-align: right;\n",
       "    }\n",
       "</style>\n",
       "<table border=\"1\" class=\"dataframe\">\n",
       "  <thead>\n",
       "    <tr style=\"text-align: right;\">\n",
       "      <th></th>\n",
       "      <th>College</th>\n",
       "      <th>City</th>\n",
       "      <th>Previous CTC</th>\n",
       "      <th>Previous job change</th>\n",
       "      <th>Graduation Marks</th>\n",
       "      <th>EXP (Month)</th>\n",
       "      <th>CTC</th>\n",
       "      <th>Role_Executive</th>\n",
       "      <th>Role_Manager</th>\n",
       "    </tr>\n",
       "  </thead>\n",
       "  <tbody>\n",
       "    <tr>\n",
       "      <th>0</th>\n",
       "      <td>2</td>\n",
       "      <td>0</td>\n",
       "      <td>55523</td>\n",
       "      <td>3</td>\n",
       "      <td>66</td>\n",
       "      <td>19</td>\n",
       "      <td>71406.58</td>\n",
       "      <td>0</td>\n",
       "      <td>1</td>\n",
       "    </tr>\n",
       "    <tr>\n",
       "      <th>1</th>\n",
       "      <td>2</td>\n",
       "      <td>0</td>\n",
       "      <td>57081</td>\n",
       "      <td>1</td>\n",
       "      <td>84</td>\n",
       "      <td>18</td>\n",
       "      <td>68005.87</td>\n",
       "      <td>1</td>\n",
       "      <td>0</td>\n",
       "    </tr>\n",
       "    <tr>\n",
       "      <th>2</th>\n",
       "      <td>3</td>\n",
       "      <td>0</td>\n",
       "      <td>60347</td>\n",
       "      <td>2</td>\n",
       "      <td>52</td>\n",
       "      <td>28</td>\n",
       "      <td>76764.02</td>\n",
       "      <td>1</td>\n",
       "      <td>0</td>\n",
       "    </tr>\n",
       "    <tr>\n",
       "      <th>3</th>\n",
       "      <td>3</td>\n",
       "      <td>0</td>\n",
       "      <td>49010</td>\n",
       "      <td>2</td>\n",
       "      <td>81</td>\n",
       "      <td>33</td>\n",
       "      <td>82092.39</td>\n",
       "      <td>1</td>\n",
       "      <td>0</td>\n",
       "    </tr>\n",
       "    <tr>\n",
       "      <th>4</th>\n",
       "      <td>1</td>\n",
       "      <td>0</td>\n",
       "      <td>57879</td>\n",
       "      <td>4</td>\n",
       "      <td>74</td>\n",
       "      <td>32</td>\n",
       "      <td>73878.10</td>\n",
       "      <td>1</td>\n",
       "      <td>0</td>\n",
       "    </tr>\n",
       "  </tbody>\n",
       "</table>\n",
       "</div>"
      ],
      "text/plain": [
       "   College  City  Previous CTC  Previous job change  Graduation Marks  \\\n",
       "0        2     0         55523                    3                66   \n",
       "1        2     0         57081                    1                84   \n",
       "2        3     0         60347                    2                52   \n",
       "3        3     0         49010                    2                81   \n",
       "4        1     0         57879                    4                74   \n",
       "\n",
       "   EXP (Month)       CTC  Role_Executive  Role_Manager  \n",
       "0           19  71406.58               0             1  \n",
       "1           18  68005.87               1             0  \n",
       "2           28  76764.02               1             0  \n",
       "3           33  82092.39               1             0  \n",
       "4           32  73878.10               1             0  "
      ]
     },
     "execution_count": 15,
     "metadata": {},
     "output_type": "execute_result"
    }
   ],
   "source": [
    "# Checking dummy variables are converted into int or not\n",
    "\n",
    "df.head()"
   ]
  },
  {
   "cell_type": "markdown",
   "id": "db544079",
   "metadata": {},
   "source": [
    "The dummy variables are converted successfully"
   ]
  },
  {
   "cell_type": "markdown",
   "id": "6434e525",
   "metadata": {},
   "source": [
    "* ### Correlation"
   ]
  },
  {
   "cell_type": "code",
   "execution_count": 16,
   "id": "6a12ff66",
   "metadata": {},
   "outputs": [
    {
     "data": {
      "text/html": [
       "<div>\n",
       "<style scoped>\n",
       "    .dataframe tbody tr th:only-of-type {\n",
       "        vertical-align: middle;\n",
       "    }\n",
       "\n",
       "    .dataframe tbody tr th {\n",
       "        vertical-align: top;\n",
       "    }\n",
       "\n",
       "    .dataframe thead th {\n",
       "        text-align: right;\n",
       "    }\n",
       "</style>\n",
       "<table border=\"1\" class=\"dataframe\">\n",
       "  <thead>\n",
       "    <tr style=\"text-align: right;\">\n",
       "      <th></th>\n",
       "      <th>College</th>\n",
       "      <th>City</th>\n",
       "      <th>Previous CTC</th>\n",
       "      <th>Previous job change</th>\n",
       "      <th>Graduation Marks</th>\n",
       "      <th>EXP (Month)</th>\n",
       "      <th>CTC</th>\n",
       "      <th>Role_Executive</th>\n",
       "      <th>Role_Manager</th>\n",
       "    </tr>\n",
       "  </thead>\n",
       "  <tbody>\n",
       "    <tr>\n",
       "      <th>College</th>\n",
       "      <td>1.000000</td>\n",
       "      <td>-0.014946</td>\n",
       "      <td>0.041979</td>\n",
       "      <td>-0.055060</td>\n",
       "      <td>0.003539</td>\n",
       "      <td>0.011752</td>\n",
       "      <td>-0.029592</td>\n",
       "      <td>0.014749</td>\n",
       "      <td>-0.014749</td>\n",
       "    </tr>\n",
       "    <tr>\n",
       "      <th>City</th>\n",
       "      <td>-0.014946</td>\n",
       "      <td>1.000000</td>\n",
       "      <td>0.004644</td>\n",
       "      <td>0.051670</td>\n",
       "      <td>-0.018616</td>\n",
       "      <td>-0.023613</td>\n",
       "      <td>-0.020365</td>\n",
       "      <td>0.048671</td>\n",
       "      <td>-0.048671</td>\n",
       "    </tr>\n",
       "    <tr>\n",
       "      <th>Previous CTC</th>\n",
       "      <td>0.041979</td>\n",
       "      <td>0.004644</td>\n",
       "      <td>1.000000</td>\n",
       "      <td>0.005756</td>\n",
       "      <td>-0.032976</td>\n",
       "      <td>0.119163</td>\n",
       "      <td>0.258000</td>\n",
       "      <td>-0.012321</td>\n",
       "      <td>0.012321</td>\n",
       "    </tr>\n",
       "    <tr>\n",
       "      <th>Previous job change</th>\n",
       "      <td>-0.055060</td>\n",
       "      <td>0.051670</td>\n",
       "      <td>0.005756</td>\n",
       "      <td>1.000000</td>\n",
       "      <td>0.019267</td>\n",
       "      <td>0.023488</td>\n",
       "      <td>0.011370</td>\n",
       "      <td>0.017150</td>\n",
       "      <td>-0.017150</td>\n",
       "    </tr>\n",
       "    <tr>\n",
       "      <th>Graduation Marks</th>\n",
       "      <td>0.003539</td>\n",
       "      <td>-0.018616</td>\n",
       "      <td>-0.032976</td>\n",
       "      <td>0.019267</td>\n",
       "      <td>1.000000</td>\n",
       "      <td>-0.057061</td>\n",
       "      <td>-0.005450</td>\n",
       "      <td>-0.017858</td>\n",
       "      <td>0.017858</td>\n",
       "    </tr>\n",
       "    <tr>\n",
       "      <th>EXP (Month)</th>\n",
       "      <td>0.011752</td>\n",
       "      <td>-0.023613</td>\n",
       "      <td>0.119163</td>\n",
       "      <td>0.023488</td>\n",
       "      <td>-0.057061</td>\n",
       "      <td>1.000000</td>\n",
       "      <td>0.301115</td>\n",
       "      <td>0.026751</td>\n",
       "      <td>-0.026751</td>\n",
       "    </tr>\n",
       "    <tr>\n",
       "      <th>CTC</th>\n",
       "      <td>-0.029592</td>\n",
       "      <td>-0.020365</td>\n",
       "      <td>0.258000</td>\n",
       "      <td>0.011370</td>\n",
       "      <td>-0.005450</td>\n",
       "      <td>0.301115</td>\n",
       "      <td>1.000000</td>\n",
       "      <td>-0.621311</td>\n",
       "      <td>0.621311</td>\n",
       "    </tr>\n",
       "    <tr>\n",
       "      <th>Role_Executive</th>\n",
       "      <td>0.014749</td>\n",
       "      <td>0.048671</td>\n",
       "      <td>-0.012321</td>\n",
       "      <td>0.017150</td>\n",
       "      <td>-0.017858</td>\n",
       "      <td>0.026751</td>\n",
       "      <td>-0.621311</td>\n",
       "      <td>1.000000</td>\n",
       "      <td>-1.000000</td>\n",
       "    </tr>\n",
       "    <tr>\n",
       "      <th>Role_Manager</th>\n",
       "      <td>-0.014749</td>\n",
       "      <td>-0.048671</td>\n",
       "      <td>0.012321</td>\n",
       "      <td>-0.017150</td>\n",
       "      <td>0.017858</td>\n",
       "      <td>-0.026751</td>\n",
       "      <td>0.621311</td>\n",
       "      <td>-1.000000</td>\n",
       "      <td>1.000000</td>\n",
       "    </tr>\n",
       "  </tbody>\n",
       "</table>\n",
       "</div>"
      ],
      "text/plain": [
       "                      College      City  Previous CTC  Previous job change  \\\n",
       "College              1.000000 -0.014946      0.041979            -0.055060   \n",
       "City                -0.014946  1.000000      0.004644             0.051670   \n",
       "Previous CTC         0.041979  0.004644      1.000000             0.005756   \n",
       "Previous job change -0.055060  0.051670      0.005756             1.000000   \n",
       "Graduation Marks     0.003539 -0.018616     -0.032976             0.019267   \n",
       "EXP (Month)          0.011752 -0.023613      0.119163             0.023488   \n",
       "CTC                 -0.029592 -0.020365      0.258000             0.011370   \n",
       "Role_Executive       0.014749  0.048671     -0.012321             0.017150   \n",
       "Role_Manager        -0.014749 -0.048671      0.012321            -0.017150   \n",
       "\n",
       "                     Graduation Marks  EXP (Month)       CTC  Role_Executive  \\\n",
       "College                      0.003539     0.011752 -0.029592        0.014749   \n",
       "City                        -0.018616    -0.023613 -0.020365        0.048671   \n",
       "Previous CTC                -0.032976     0.119163  0.258000       -0.012321   \n",
       "Previous job change          0.019267     0.023488  0.011370        0.017150   \n",
       "Graduation Marks             1.000000    -0.057061 -0.005450       -0.017858   \n",
       "EXP (Month)                 -0.057061     1.000000  0.301115        0.026751   \n",
       "CTC                         -0.005450     0.301115  1.000000       -0.621311   \n",
       "Role_Executive              -0.017858     0.026751 -0.621311        1.000000   \n",
       "Role_Manager                 0.017858    -0.026751  0.621311       -1.000000   \n",
       "\n",
       "                     Role_Manager  \n",
       "College                 -0.014749  \n",
       "City                    -0.048671  \n",
       "Previous CTC             0.012321  \n",
       "Previous job change     -0.017150  \n",
       "Graduation Marks         0.017858  \n",
       "EXP (Month)             -0.026751  \n",
       "CTC                      0.621311  \n",
       "Role_Executive          -1.000000  \n",
       "Role_Manager             1.000000  "
      ]
     },
     "execution_count": 16,
     "metadata": {},
     "output_type": "execute_result"
    }
   ],
   "source": [
    "# Checking correlation between independent and dependent to check tendency between them.\n",
    "# Checking correrlation between two independent variables to remove unneccessary variable (if value > 0.8)\n",
    "\n",
    "df.corr()"
   ]
  },
  {
   "cell_type": "markdown",
   "id": "3bfb2c17",
   "metadata": {},
   "source": [
    "There is no independent variables which contain value more than 0.8"
   ]
  },
  {
   "cell_type": "markdown",
   "id": "b259eb3a",
   "metadata": {},
   "source": [
    "* ### Outlier Treatment :"
   ]
  },
  {
   "cell_type": "code",
   "execution_count": 17,
   "id": "6f417947",
   "metadata": {},
   "outputs": [
    {
     "data": {
      "text/html": [
       "<div>\n",
       "<style scoped>\n",
       "    .dataframe tbody tr th:only-of-type {\n",
       "        vertical-align: middle;\n",
       "    }\n",
       "\n",
       "    .dataframe tbody tr th {\n",
       "        vertical-align: top;\n",
       "    }\n",
       "\n",
       "    .dataframe thead th {\n",
       "        text-align: right;\n",
       "    }\n",
       "</style>\n",
       "<table border=\"1\" class=\"dataframe\">\n",
       "  <thead>\n",
       "    <tr style=\"text-align: right;\">\n",
       "      <th></th>\n",
       "      <th>College</th>\n",
       "      <th>City</th>\n",
       "      <th>Previous CTC</th>\n",
       "      <th>Previous job change</th>\n",
       "      <th>Graduation Marks</th>\n",
       "      <th>EXP (Month)</th>\n",
       "      <th>CTC</th>\n",
       "      <th>Role_Executive</th>\n",
       "      <th>Role_Manager</th>\n",
       "    </tr>\n",
       "  </thead>\n",
       "  <tbody>\n",
       "    <tr>\n",
       "      <th>count</th>\n",
       "      <td>1589.000000</td>\n",
       "      <td>1589.000000</td>\n",
       "      <td>1589.000000</td>\n",
       "      <td>1589.000000</td>\n",
       "      <td>1589.000000</td>\n",
       "      <td>1589.000000</td>\n",
       "      <td>1589.000000</td>\n",
       "      <td>1589.000000</td>\n",
       "      <td>1589.000000</td>\n",
       "    </tr>\n",
       "    <tr>\n",
       "      <th>mean</th>\n",
       "      <td>1.975456</td>\n",
       "      <td>0.514160</td>\n",
       "      <td>55518.453744</td>\n",
       "      <td>2.528634</td>\n",
       "      <td>59.855255</td>\n",
       "      <td>39.044682</td>\n",
       "      <td>75353.278798</td>\n",
       "      <td>0.793581</td>\n",
       "      <td>0.206419</td>\n",
       "    </tr>\n",
       "    <tr>\n",
       "      <th>std</th>\n",
       "      <td>0.838330</td>\n",
       "      <td>0.499957</td>\n",
       "      <td>6655.218445</td>\n",
       "      <td>1.123918</td>\n",
       "      <td>14.935139</td>\n",
       "      <td>14.108875</td>\n",
       "      <td>12587.288237</td>\n",
       "      <td>0.404862</td>\n",
       "      <td>0.404862</td>\n",
       "    </tr>\n",
       "    <tr>\n",
       "      <th>min</th>\n",
       "      <td>1.000000</td>\n",
       "      <td>0.000000</td>\n",
       "      <td>36990.000000</td>\n",
       "      <td>1.000000</td>\n",
       "      <td>35.000000</td>\n",
       "      <td>18.000000</td>\n",
       "      <td>53020.320000</td>\n",
       "      <td>0.000000</td>\n",
       "      <td>0.000000</td>\n",
       "    </tr>\n",
       "    <tr>\n",
       "      <th>25%</th>\n",
       "      <td>1.000000</td>\n",
       "      <td>0.000000</td>\n",
       "      <td>50518.000000</td>\n",
       "      <td>2.000000</td>\n",
       "      <td>46.000000</td>\n",
       "      <td>26.000000</td>\n",
       "      <td>66902.350000</td>\n",
       "      <td>1.000000</td>\n",
       "      <td>0.000000</td>\n",
       "    </tr>\n",
       "    <tr>\n",
       "      <th>50%</th>\n",
       "      <td>2.000000</td>\n",
       "      <td>1.000000</td>\n",
       "      <td>55291.000000</td>\n",
       "      <td>3.000000</td>\n",
       "      <td>60.000000</td>\n",
       "      <td>39.000000</td>\n",
       "      <td>73028.670000</td>\n",
       "      <td>1.000000</td>\n",
       "      <td>0.000000</td>\n",
       "    </tr>\n",
       "    <tr>\n",
       "      <th>75%</th>\n",
       "      <td>3.000000</td>\n",
       "      <td>1.000000</td>\n",
       "      <td>60109.000000</td>\n",
       "      <td>4.000000</td>\n",
       "      <td>73.000000</td>\n",
       "      <td>51.000000</td>\n",
       "      <td>80588.670000</td>\n",
       "      <td>1.000000</td>\n",
       "      <td>0.000000</td>\n",
       "    </tr>\n",
       "    <tr>\n",
       "      <th>max</th>\n",
       "      <td>3.000000</td>\n",
       "      <td>1.000000</td>\n",
       "      <td>77911.000000</td>\n",
       "      <td>4.000000</td>\n",
       "      <td>85.000000</td>\n",
       "      <td>64.000000</td>\n",
       "      <td>123416.990000</td>\n",
       "      <td>1.000000</td>\n",
       "      <td>1.000000</td>\n",
       "    </tr>\n",
       "  </tbody>\n",
       "</table>\n",
       "</div>"
      ],
      "text/plain": [
       "           College         City  Previous CTC  Previous job change  \\\n",
       "count  1589.000000  1589.000000   1589.000000          1589.000000   \n",
       "mean      1.975456     0.514160  55518.453744             2.528634   \n",
       "std       0.838330     0.499957   6655.218445             1.123918   \n",
       "min       1.000000     0.000000  36990.000000             1.000000   \n",
       "25%       1.000000     0.000000  50518.000000             2.000000   \n",
       "50%       2.000000     1.000000  55291.000000             3.000000   \n",
       "75%       3.000000     1.000000  60109.000000             4.000000   \n",
       "max       3.000000     1.000000  77911.000000             4.000000   \n",
       "\n",
       "       Graduation Marks  EXP (Month)            CTC  Role_Executive  \\\n",
       "count       1589.000000  1589.000000    1589.000000     1589.000000   \n",
       "mean          59.855255    39.044682   75353.278798        0.793581   \n",
       "std           14.935139    14.108875   12587.288237        0.404862   \n",
       "min           35.000000    18.000000   53020.320000        0.000000   \n",
       "25%           46.000000    26.000000   66902.350000        1.000000   \n",
       "50%           60.000000    39.000000   73028.670000        1.000000   \n",
       "75%           73.000000    51.000000   80588.670000        1.000000   \n",
       "max           85.000000    64.000000  123416.990000        1.000000   \n",
       "\n",
       "       Role_Manager  \n",
       "count   1589.000000  \n",
       "mean       0.206419  \n",
       "std        0.404862  \n",
       "min        0.000000  \n",
       "25%        0.000000  \n",
       "50%        0.000000  \n",
       "75%        0.000000  \n",
       "max        1.000000  "
      ]
     },
     "execution_count": 17,
     "metadata": {},
     "output_type": "execute_result"
    }
   ],
   "source": [
    "# Getting EDD (Extended data Dictionay) of data to find any outliers in data\n",
    "\n",
    "df.describe()"
   ]
  },
  {
   "cell_type": "code",
   "execution_count": 18,
   "id": "0cab7582",
   "metadata": {},
   "outputs": [
    {
     "data": {
      "text/plain": [
       "<seaborn.axisgrid.JointGrid at 0x1e439750610>"
      ]
     },
     "execution_count": 18,
     "metadata": {},
     "output_type": "execute_result"
    },
    {
     "data": {
      "image/png": "[encoded data removed]",
      "text/plain": [
       "<Figure size 600x600 with 3 Axes>"
      ]
     },
     "metadata": {},
     "output_type": "display_data"
    }
   ],
   "source": [
    "# Checking outlier using jointplot between independent (\"Previous CTC\") and dependent variable that is \"CTC\".\n",
    "\n",
    "sns.jointplot(x = \"Previous CTC\", y = \"CTC\", data = df)"
   ]
  },
  {
   "cell_type": "code",
   "execution_count": 19,
   "id": "b784e7ad",
   "metadata": {},
   "outputs": [
    {
     "data": {
      "text/plain": [
       "<seaborn.axisgrid.JointGrid at 0x1e439e63f90>"
      ]
     },
     "execution_count": 19,
     "metadata": {},
     "output_type": "execute_result"
    },
    {
     "data": {
      "image/png": "[encoded data removed]",
      "text/plain": [
       "<Figure size 600x600 with 3 Axes>"
      ]
     },
     "metadata": {},
     "output_type": "display_data"
    }
   ],
   "source": [
    "# Checking outlier using jointplot between independent (\"Previous job change\") and dependent variable that is \"CTC\".\n",
    "\n",
    "sns.jointplot(x = \"Previous job change\", y = \"CTC\", data = df)"
   ]
  },
  {
   "cell_type": "code",
   "execution_count": 20,
   "id": "b47faa9c",
   "metadata": {},
   "outputs": [
    {
     "data": {
      "text/plain": [
       "<seaborn.axisgrid.JointGrid at 0x1e43a35f8d0>"
      ]
     },
     "execution_count": 20,
     "metadata": {},
     "output_type": "execute_result"
    },
    {
     "data": {
      "image/png": "[encoded data removed]",
      "text/plain": [
       "<Figure size 600x600 with 3 Axes>"
      ]
     },
     "metadata": {},
     "output_type": "display_data"
    }
   ],
   "source": [
    "# Checking outlier using jointplot between independent (\"Graduation Marks\") and dependent variable that is \"CTC\".\n",
    "\n",
    "sns.jointplot(x = \"Graduation Marks\", y = \"CTC\", data = df)"
   ]
  },
  {
   "cell_type": "code",
   "execution_count": 21,
   "id": "91840011",
   "metadata": {},
   "outputs": [
    {
     "data": {
      "text/plain": [
       "<seaborn.axisgrid.JointGrid at 0x1e43a9bb090>"
      ]
     },
     "execution_count": 21,
     "metadata": {},
     "output_type": "execute_result"
    },
    {
     "data": {
      "image/png": "[encoded data removed]",
      "text/plain": [
       "<Figure size 600x600 with 3 Axes>"
      ]
     },
     "metadata": {},
     "output_type": "display_data"
    }
   ],
   "source": [
    "# Checking outlier using jointplot between independent (\"EXP (Month)\") and dependent variable that is \"CTC\".\n",
    "\n",
    "sns.jointplot(x = \"EXP (Month)\", y = \"CTC\", data = df)"
   ]
  },
  {
   "cell_type": "code",
   "execution_count": 22,
   "id": "da84153e",
   "metadata": {},
   "outputs": [
    {
     "data": {
      "text/plain": [
       "<seaborn.axisgrid.JointGrid at 0x1e43ac33f90>"
      ]
     },
     "execution_count": 22,
     "metadata": {},
     "output_type": "execute_result"
    },
    {
     "data": {
      "image/png": "[encoded data removed]",
      "text/plain": [
       "<Figure size 600x600 with 3 Axes>"
      ]
     },
     "metadata": {},
     "output_type": "display_data"
    }
   ],
   "source": [
    "# Checking outlier using jointplot between independent (\"College\") and dependent variable that is \"CTC\".\n",
    "\n",
    "sns.jointplot(x = \"College\", y = \"CTC\", data = df)"
   ]
  },
  {
   "cell_type": "markdown",
   "id": "de0ba9d1",
   "metadata": {},
   "source": [
    "#### Observation :\n",
    "\n",
    "* Did not found any outlier between dependent and independent variables.\n",
    "* There is no data points that is far away from the exact data points.\n",
    "* By analyzing EDD there is no difference between mean and median for each attributes.\n",
    "* Also by analyzing EDD there is no huge difference between min to 25% and 75% to maximum."
   ]
  },
  {
   "cell_type": "markdown",
   "id": "db90758a",
   "metadata": {},
   "source": [
    "--------------------------------------------------------------------------------------------------------------------------------"
   ]
  },
  {
   "cell_type": "markdown",
   "id": "7c19495b",
   "metadata": {},
   "source": [
    "# Data spliting - dependent and independent"
   ]
  },
  {
   "cell_type": "code",
   "execution_count": 23,
   "id": "cd99ceb0",
   "metadata": {},
   "outputs": [],
   "source": [
    "# Splitting data into X and Y variable independent and dependent respectively.\n",
    "\n",
    "X = df.loc[:, df.columns != \"CTC\"]\n",
    "Y = df[\"CTC\"]"
   ]
  },
  {
   "cell_type": "code",
   "execution_count": 24,
   "id": "64bbfba1",
   "metadata": {},
   "outputs": [
    {
     "data": {
      "text/html": [
       "<div>\n",
       "<style scoped>\n",
       "    .dataframe tbody tr th:only-of-type {\n",
       "        vertical-align: middle;\n",
       "    }\n",
       "\n",
       "    .dataframe tbody tr th {\n",
       "        vertical-align: top;\n",
       "    }\n",
       "\n",
       "    .dataframe thead th {\n",
       "        text-align: right;\n",
       "    }\n",
       "</style>\n",
       "<table border=\"1\" class=\"dataframe\">\n",
       "  <thead>\n",
       "    <tr style=\"text-align: right;\">\n",
       "      <th></th>\n",
       "      <th>College</th>\n",
       "      <th>City</th>\n",
       "      <th>Previous CTC</th>\n",
       "      <th>Previous job change</th>\n",
       "      <th>Graduation Marks</th>\n",
       "      <th>EXP (Month)</th>\n",
       "      <th>Role_Executive</th>\n",
       "      <th>Role_Manager</th>\n",
       "    </tr>\n",
       "  </thead>\n",
       "  <tbody>\n",
       "    <tr>\n",
       "      <th>0</th>\n",
       "      <td>2</td>\n",
       "      <td>0</td>\n",
       "      <td>55523</td>\n",
       "      <td>3</td>\n",
       "      <td>66</td>\n",
       "      <td>19</td>\n",
       "      <td>0</td>\n",
       "      <td>1</td>\n",
       "    </tr>\n",
       "    <tr>\n",
       "      <th>1</th>\n",
       "      <td>2</td>\n",
       "      <td>0</td>\n",
       "      <td>57081</td>\n",
       "      <td>1</td>\n",
       "      <td>84</td>\n",
       "      <td>18</td>\n",
       "      <td>1</td>\n",
       "      <td>0</td>\n",
       "    </tr>\n",
       "    <tr>\n",
       "      <th>2</th>\n",
       "      <td>3</td>\n",
       "      <td>0</td>\n",
       "      <td>60347</td>\n",
       "      <td>2</td>\n",
       "      <td>52</td>\n",
       "      <td>28</td>\n",
       "      <td>1</td>\n",
       "      <td>0</td>\n",
       "    </tr>\n",
       "    <tr>\n",
       "      <th>3</th>\n",
       "      <td>3</td>\n",
       "      <td>0</td>\n",
       "      <td>49010</td>\n",
       "      <td>2</td>\n",
       "      <td>81</td>\n",
       "      <td>33</td>\n",
       "      <td>1</td>\n",
       "      <td>0</td>\n",
       "    </tr>\n",
       "    <tr>\n",
       "      <th>4</th>\n",
       "      <td>1</td>\n",
       "      <td>0</td>\n",
       "      <td>57879</td>\n",
       "      <td>4</td>\n",
       "      <td>74</td>\n",
       "      <td>32</td>\n",
       "      <td>1</td>\n",
       "      <td>0</td>\n",
       "    </tr>\n",
       "  </tbody>\n",
       "</table>\n",
       "</div>"
      ],
      "text/plain": [
       "   College  City  Previous CTC  Previous job change  Graduation Marks  \\\n",
       "0        2     0         55523                    3                66   \n",
       "1        2     0         57081                    1                84   \n",
       "2        3     0         60347                    2                52   \n",
       "3        3     0         49010                    2                81   \n",
       "4        1     0         57879                    4                74   \n",
       "\n",
       "   EXP (Month)  Role_Executive  Role_Manager  \n",
       "0           19               0             1  \n",
       "1           18               1             0  \n",
       "2           28               1             0  \n",
       "3           33               1             0  \n",
       "4           32               1             0  "
      ]
     },
     "execution_count": 24,
     "metadata": {},
     "output_type": "execute_result"
    }
   ],
   "source": [
    "# First five rows of independent variable X\n",
    "\n",
    "X.head()"
   ]
  },
  {
   "cell_type": "code",
   "execution_count": 25,
   "id": "81601789",
   "metadata": {},
   "outputs": [
    {
     "data": {
      "text/plain": [
       "0    71406.58\n",
       "1    68005.87\n",
       "2    76764.02\n",
       "3    82092.39\n",
       "4    73878.10\n",
       "Name: CTC, dtype: float64"
      ]
     },
     "execution_count": 25,
     "metadata": {},
     "output_type": "execute_result"
    }
   ],
   "source": [
    "# First five rows of Dependent variable Y\n",
    "\n",
    "Y.head()"
   ]
  },
  {
   "cell_type": "markdown",
   "id": "b811e162",
   "metadata": {},
   "source": [
    "--------------------------------------------------------------------------------------------------------------------------------"
   ]
  },
  {
   "cell_type": "markdown",
   "id": "e39b0994",
   "metadata": {},
   "source": [
    "# Model Selection"
   ]
  },
  {
   "cell_type": "markdown",
   "id": "8c115139",
   "metadata": {},
   "source": [
    "**Selecting regression models that are acceptable for predicting salary based on the input features. There are choices like, such as Linear Regression, Ridge regresson, Lasso Regression, KNN, Random forest Regression, Gradient boosting and XG Boosting regression.**"
   ]
  },
  {
   "cell_type": "markdown",
   "id": "512f93fc",
   "metadata": {},
   "source": [
    "* ## Simple linear regression"
   ]
  },
  {
   "cell_type": "code",
   "execution_count": 26,
   "id": "c0640931",
   "metadata": {},
   "outputs": [],
   "source": [
    "# Importing regresson statsmodel \n",
    "\n",
    "import statsmodels.api as sm"
   ]
  },
  {
   "cell_type": "code",
   "execution_count": 27,
   "id": "6962232a",
   "metadata": {},
   "outputs": [],
   "source": [
    "# Creating constant variable for X\n",
    "\n",
    "X_cons = sm.add_constant(X)"
   ]
  },
  {
   "cell_type": "code",
   "execution_count": 28,
   "id": "1c5ed520",
   "metadata": {},
   "outputs": [],
   "source": [
    "# Fitting the model with X_cons and Y\n",
    "\n",
    "lm = sm.OLS(Y, X_cons).fit()"
   ]
  },
  {
   "cell_type": "code",
   "execution_count": 29,
   "id": "1736b6bc",
   "metadata": {},
   "outputs": [
    {
     "data": {
      "text/html": [
       "<table class=\"simpletable\">\n",
       "<caption>OLS Regression Results</caption>\n",
       "<tr>\n",
       "  <th>Dep. Variable:</th>           <td>CTC</td>       <th>  R-squared:         </th> <td>   0.534</td> \n",
       "</tr>\n",
       "<tr>\n",
       "  <th>Model:</th>                   <td>OLS</td>       <th>  Adj. R-squared:    </th> <td>   0.532</td> \n",
       "</tr>\n",
       "<tr>\n",
       "  <th>Method:</th>             <td>Least Squares</td>  <th>  F-statistic:       </th> <td>   259.1</td> \n",
       "</tr>\n",
       "<tr>\n",
       "  <th>Date:</th>             <td>Wed, 11 Oct 2023</td> <th>  Prob (F-statistic):</th> <td>4.70e-257</td>\n",
       "</tr>\n",
       "<tr>\n",
       "  <th>Time:</th>                 <td>02:04:43</td>     <th>  Log-Likelihood:    </th> <td> -16648.</td> \n",
       "</tr>\n",
       "<tr>\n",
       "  <th>No. Observations:</th>      <td>  1589</td>      <th>  AIC:               </th> <td>3.331e+04</td>\n",
       "</tr>\n",
       "<tr>\n",
       "  <th>Df Residuals:</th>          <td>  1581</td>      <th>  BIC:               </th> <td>3.335e+04</td>\n",
       "</tr>\n",
       "<tr>\n",
       "  <th>Df Model:</th>              <td>     7</td>      <th>                     </th>     <td> </td>    \n",
       "</tr>\n",
       "<tr>\n",
       "  <th>Covariance Type:</th>      <td>nonrobust</td>    <th>                     </th>     <td> </td>    \n",
       "</tr>\n",
       "</table>\n",
       "<table class=\"simpletable\">\n",
       "<tr>\n",
       "           <td></td>              <th>coef</th>     <th>std err</th>      <th>t</th>      <th>P>|t|</th>  <th>[0.025</th>    <th>0.975]</th>  \n",
       "</tr>\n",
       "<tr>\n",
       "  <th>const</th>               <td> 3.211e+04</td> <td> 1463.780</td> <td>   21.936</td> <td> 0.000</td> <td> 2.92e+04</td> <td>  3.5e+04</td>\n",
       "</tr>\n",
       "<tr>\n",
       "  <th>College</th>             <td> -481.5147</td> <td>  258.382</td> <td>   -1.864</td> <td> 0.063</td> <td> -988.321</td> <td>   25.292</td>\n",
       "</tr>\n",
       "<tr>\n",
       "  <th>City</th>                <td>  380.8308</td> <td>  433.455</td> <td>    0.879</td> <td> 0.380</td> <td> -469.377</td> <td> 1231.039</td>\n",
       "</tr>\n",
       "<tr>\n",
       "  <th>Previous CTC</th>        <td>    0.4101</td> <td>    0.033</td> <td>   12.526</td> <td> 0.000</td> <td>    0.346</td> <td>    0.474</td>\n",
       "</tr>\n",
       "<tr>\n",
       "  <th>Previous job change</th> <td>  126.5653</td> <td>  192.887</td> <td>    0.656</td> <td> 0.512</td> <td> -251.776</td> <td>  504.906</td>\n",
       "</tr>\n",
       "<tr>\n",
       "  <th>Graduation Marks</th>    <td>    6.2362</td> <td>   14.502</td> <td>    0.430</td> <td> 0.667</td> <td>  -22.208</td> <td>   34.681</td>\n",
       "</tr>\n",
       "<tr>\n",
       "  <th>EXP (Month)</th>         <td>  261.3444</td> <td>   15.460</td> <td>   16.904</td> <td> 0.000</td> <td>  231.020</td> <td>  291.669</td>\n",
       "</tr>\n",
       "<tr>\n",
       "  <th>Role_Executive</th>      <td> 6311.2273</td> <td>  760.861</td> <td>    8.295</td> <td> 0.000</td> <td> 4818.825</td> <td> 7803.630</td>\n",
       "</tr>\n",
       "<tr>\n",
       "  <th>Role_Manager</th>        <td>  2.58e+04</td> <td>  797.098</td> <td>   32.366</td> <td> 0.000</td> <td> 2.42e+04</td> <td> 2.74e+04</td>\n",
       "</tr>\n",
       "</table>\n",
       "<table class=\"simpletable\">\n",
       "<tr>\n",
       "  <th>Omnibus:</th>       <td>49.726</td> <th>  Durbin-Watson:     </th> <td>   2.052</td>\n",
       "</tr>\n",
       "<tr>\n",
       "  <th>Prob(Omnibus):</th> <td> 0.000</td> <th>  Jarque-Bera (JB):  </th> <td>  55.299</td>\n",
       "</tr>\n",
       "<tr>\n",
       "  <th>Skew:</th>          <td> 0.408</td> <th>  Prob(JB):          </th> <td>9.82e-13</td>\n",
       "</tr>\n",
       "<tr>\n",
       "  <th>Kurtosis:</th>      <td> 3.411</td> <th>  Cond. No.          </th> <td>5.87e+20</td>\n",
       "</tr>\n",
       "</table><br/><br/>Notes:<br/>[1] Standard Errors assume that the covariance matrix of the errors is correctly specified.<br/>[2] The smallest eigenvalue is 1.44e-29. This might indicate that there are<br/>strong multicollinearity problems or that the design matrix is singular."
      ],
      "text/latex": [
       "\\begin{center}\n",
       "\\begin{tabular}{lclc}\n",
       "\\toprule\n",
       "\\textbf{Dep. Variable:}      &       CTC        & \\textbf{  R-squared:         } &     0.534   \\\\\n",
       "\\textbf{Model:}              &       OLS        & \\textbf{  Adj. R-squared:    } &     0.532   \\\\\n",
       "\\textbf{Method:}             &  Least Squares   & \\textbf{  F-statistic:       } &     259.1   \\\\\n",
       "\\textbf{Date:}               & Wed, 11 Oct 2023 & \\textbf{  Prob (F-statistic):} & 4.70e-257   \\\\\n",
       "\\textbf{Time:}               &     02:04:43     & \\textbf{  Log-Likelihood:    } &   -16648.   \\\\\n",
       "\\textbf{No. Observations:}   &        1589      & \\textbf{  AIC:               } & 3.331e+04   \\\\\n",
       "\\textbf{Df Residuals:}       &        1581      & \\textbf{  BIC:               } & 3.335e+04   \\\\\n",
       "\\textbf{Df Model:}           &           7      & \\textbf{                     } &             \\\\\n",
       "\\textbf{Covariance Type:}    &    nonrobust     & \\textbf{                     } &             \\\\\n",
       "\\bottomrule\n",
       "\\end{tabular}\n",
       "\\begin{tabular}{lcccccc}\n",
       "                             & \\textbf{coef} & \\textbf{std err} & \\textbf{t} & \\textbf{P$> |$t$|$} & \\textbf{[0.025} & \\textbf{0.975]}  \\\\\n",
       "\\midrule\n",
       "\\textbf{const}               &    3.211e+04  &     1463.780     &    21.936  &         0.000        &     2.92e+04    &      3.5e+04     \\\\\n",
       "\\textbf{College}             &    -481.5147  &      258.382     &    -1.864  &         0.063        &     -988.321    &       25.292     \\\\\n",
       "\\textbf{City}                &     380.8308  &      433.455     &     0.879  &         0.380        &     -469.377    &     1231.039     \\\\\n",
       "\\textbf{Previous CTC}        &       0.4101  &        0.033     &    12.526  &         0.000        &        0.346    &        0.474     \\\\\n",
       "\\textbf{Previous job change} &     126.5653  &      192.887     &     0.656  &         0.512        &     -251.776    &      504.906     \\\\\n",
       "\\textbf{Graduation Marks}    &       6.2362  &       14.502     &     0.430  &         0.667        &      -22.208    &       34.681     \\\\\n",
       "\\textbf{EXP (Month)}         &     261.3444  &       15.460     &    16.904  &         0.000        &      231.020    &      291.669     \\\\\n",
       "\\textbf{Role\\_Executive}     &    6311.2273  &      760.861     &     8.295  &         0.000        &     4818.825    &     7803.630     \\\\\n",
       "\\textbf{Role\\_Manager}       &     2.58e+04  &      797.098     &    32.366  &         0.000        &     2.42e+04    &     2.74e+04     \\\\\n",
       "\\bottomrule\n",
       "\\end{tabular}\n",
       "\\begin{tabular}{lclc}\n",
       "\\textbf{Omnibus:}       & 49.726 & \\textbf{  Durbin-Watson:     } &    2.052  \\\\\n",
       "\\textbf{Prob(Omnibus):} &  0.000 & \\textbf{  Jarque-Bera (JB):  } &   55.299  \\\\\n",
       "\\textbf{Skew:}          &  0.408 & \\textbf{  Prob(JB):          } & 9.82e-13  \\\\\n",
       "\\textbf{Kurtosis:}      &  3.411 & \\textbf{  Cond. No.          } & 5.87e+20  \\\\\n",
       "\\bottomrule\n",
       "\\end{tabular}\n",
       "%\\caption{OLS Regression Results}\n",
       "\\end{center}\n",
       "\n",
       "Notes: \\newline\n",
       " [1] Standard Errors assume that the covariance matrix of the errors is correctly specified. \\newline\n",
       " [2] The smallest eigenvalue is 1.44e-29. This might indicate that there are \\newline\n",
       " strong multicollinearity problems or that the design matrix is singular."
      ],
      "text/plain": [
       "<class 'statsmodels.iolib.summary.Summary'>\n",
       "\"\"\"\n",
       "                            OLS Regression Results                            \n",
       "==============================================================================\n",
       "Dep. Variable:                    CTC   R-squared:                       0.534\n",
       "Model:                            OLS   Adj. R-squared:                  0.532\n",
       "Method:                 Least Squares   F-statistic:                     259.1\n",
       "Date:                Wed, 11 Oct 2023   Prob (F-statistic):          4.70e-257\n",
       "Time:                        02:04:43   Log-Likelihood:                -16648.\n",
       "No. Observations:                1589   AIC:                         3.331e+04\n",
       "Df Residuals:                    1581   BIC:                         3.335e+04\n",
       "Df Model:                           7                                         \n",
       "Covariance Type:            nonrobust                                         \n",
       "=======================================================================================\n",
       "                          coef    std err          t      P>|t|      [0.025      0.975]\n",
       "---------------------------------------------------------------------------------------\n",
       "const                3.211e+04   1463.780     21.936      0.000    2.92e+04     3.5e+04\n",
       "College              -481.5147    258.382     -1.864      0.063    -988.321      25.292\n",
       "City                  380.8308    433.455      0.879      0.380    -469.377    1231.039\n",
       "Previous CTC            0.4101      0.033     12.526      0.000       0.346       0.474\n",
       "Previous job change   126.5653    192.887      0.656      0.512    -251.776     504.906\n",
       "Graduation Marks        6.2362     14.502      0.430      0.667     -22.208      34.681\n",
       "EXP (Month)           261.3444     15.460     16.904      0.000     231.020     291.669\n",
       "Role_Executive       6311.2273    760.861      8.295      0.000    4818.825    7803.630\n",
       "Role_Manager          2.58e+04    797.098     32.366      0.000    2.42e+04    2.74e+04\n",
       "==============================================================================\n",
       "Omnibus:                       49.726   Durbin-Watson:                   2.052\n",
       "Prob(Omnibus):                  0.000   Jarque-Bera (JB):               55.299\n",
       "Skew:                           0.408   Prob(JB):                     9.82e-13\n",
       "Kurtosis:                       3.411   Cond. No.                     5.87e+20\n",
       "==============================================================================\n",
       "\n",
       "Notes:\n",
       "[1] Standard Errors assume that the covariance matrix of the errors is correctly specified.\n",
       "[2] The smallest eigenvalue is 1.44e-29. This might indicate that there are\n",
       "strong multicollinearity problems or that the design matrix is singular.\n",
       "\"\"\""
      ]
     },
     "execution_count": 29,
     "metadata": {},
     "output_type": "execute_result"
    }
   ],
   "source": [
    "# Getting the summary of the model\n",
    "\n",
    "lm.summary()"
   ]
  },
  {
   "cell_type": "markdown",
   "id": "27edc1d0",
   "metadata": {},
   "source": [
    "#### Model Interpretation / evaluation"
   ]
  },
  {
   "cell_type": "markdown",
   "id": "e00a7da9",
   "metadata": {},
   "source": [
    "* An R-squared value of 0.534 indicates that model explains a moderate amount of the variance in the dependent variable.\n",
    "* The adjusted R-squared value of 0.532 suggests that while the model explains a similar amount of variance, it may benefit from simplification if have included unnecessary predictors.\n",
    "* Our model has a highly significant F-statistic, which supports the idea that at least one of the independent variables in model is contributing significantly to explaining the variance in the dependent variable. "
   ]
  },
  {
   "cell_type": "markdown",
   "id": "b3543a87",
   "metadata": {},
   "source": [
    "--------------------------------------------------------------------------------------------------------------------------------"
   ]
  },
  {
   "cell_type": "markdown",
   "id": "00d9d4de",
   "metadata": {},
   "source": [
    "* ## Linear Regression"
   ]
  },
  {
   "cell_type": "code",
   "execution_count": 30,
   "id": "e71528ff",
   "metadata": {},
   "outputs": [],
   "source": [
    "# Splitting data into train and test dataset\n",
    "\n",
    "X_train, X_test, Y_train, Y_test = train_test_split(X,Y, test_size = 0.2, random_state = 42)"
   ]
  },
  {
   "cell_type": "code",
   "execution_count": 31,
   "id": "bde5e52a",
   "metadata": {},
   "outputs": [],
   "source": [
    "# Creating model object\n",
    "\n",
    "lm2 = LinearRegression()"
   ]
  },
  {
   "cell_type": "code",
   "execution_count": 32,
   "id": "53cd378b",
   "metadata": {},
   "outputs": [
    {
     "data": {
      "text/html": [
       "<style>#sk-container-id-1 {color: black;}#sk-container-id-1 pre{padding: 0;}#sk-container-id-1 div.sk-toggleable {background-color: white;}#sk-container-id-1 label.sk-toggleable__label {cursor: pointer;display: block;width: 100%;margin-bottom: 0;padding: 0.3em;box-sizing: border-box;text-align: center;}#sk-container-id-1 label.sk-toggleable__label-arrow:before {content: \"▸\";float: left;margin-right: 0.25em;color: #696969;}#sk-container-id-1 label.sk-toggleable__label-arrow:hover:before {color: black;}#sk-container-id-1 div.sk-estimator:hover label.sk-toggleable__label-arrow:before {color: black;}#sk-container-id-1 div.sk-toggleable__content {max-height: 0;max-width: 0;overflow: hidden;text-align: left;background-color: #f0f8ff;}#sk-container-id-1 div.sk-toggleable__content pre {margin: 0.2em;color: black;border-radius: 0.25em;background-color: #f0f8ff;}#sk-container-id-1 input.sk-toggleable__control:checked~div.sk-toggleable__content {max-height: 200px;max-width: 100%;overflow: auto;}#sk-container-id-1 input.sk-toggleable__control:checked~label.sk-toggleable__label-arrow:before {content: \"▾\";}#sk-container-id-1 div.sk-estimator input.sk-toggleable__control:checked~label.sk-toggleable__label {background-color: #d4ebff;}#sk-container-id-1 div.sk-label input.sk-toggleable__control:checked~label.sk-toggleable__label {background-color: #d4ebff;}#sk-container-id-1 input.sk-hidden--visually {border: 0;clip: rect(1px 1px 1px 1px);clip: rect(1px, 1px, 1px, 1px);height: 1px;margin: -1px;overflow: hidden;padding: 0;position: absolute;width: 1px;}#sk-container-id-1 div.sk-estimator {font-family: monospace;background-color: #f0f8ff;border: 1px dotted black;border-radius: 0.25em;box-sizing: border-box;margin-bottom: 0.5em;}#sk-container-id-1 div.sk-estimator:hover {background-color: #d4ebff;}#sk-container-id-1 div.sk-parallel-item::after {content: \"\";width: 100%;border-bottom: 1px solid gray;flex-grow: 1;}#sk-container-id-1 div.sk-label:hover label.sk-toggleable__label {background-color: #d4ebff;}#sk-container-id-1 div.sk-serial::before {content: \"\";position: absolute;border-left: 1px solid gray;box-sizing: border-box;top: 0;bottom: 0;left: 50%;z-index: 0;}#sk-container-id-1 div.sk-serial {display: flex;flex-direction: column;align-items: center;background-color: white;padding-right: 0.2em;padding-left: 0.2em;position: relative;}#sk-container-id-1 div.sk-item {position: relative;z-index: 1;}#sk-container-id-1 div.sk-parallel {display: flex;align-items: stretch;justify-content: center;background-color: white;position: relative;}#sk-container-id-1 div.sk-item::before, #sk-container-id-1 div.sk-parallel-item::before {content: \"\";position: absolute;border-left: 1px solid gray;box-sizing: border-box;top: 0;bottom: 0;left: 50%;z-index: -1;}#sk-container-id-1 div.sk-parallel-item {display: flex;flex-direction: column;z-index: 1;position: relative;background-color: white;}#sk-container-id-1 div.sk-parallel-item:first-child::after {align-self: flex-end;width: 50%;}#sk-container-id-1 div.sk-parallel-item:last-child::after {align-self: flex-start;width: 50%;}#sk-container-id-1 div.sk-parallel-item:only-child::after {width: 0;}#sk-container-id-1 div.sk-dashed-wrapped {border: 1px dashed gray;margin: 0 0.4em 0.5em 0.4em;box-sizing: border-box;padding-bottom: 0.4em;background-color: white;}#sk-container-id-1 div.sk-label label {font-family: monospace;font-weight: bold;display: inline-block;line-height: 1.2em;}#sk-container-id-1 div.sk-label-container {text-align: center;}#sk-container-id-1 div.sk-container {/* jupyter's `normalize.less` sets `[hidden] { display: none; }` but bootstrap.min.css set `[hidden] { display: none !important; }` so we also need the `!important` here to be able to override the default hidden behavior on the sphinx rendered scikit-learn.org. See: https://github.com/scikit-learn/scikit-learn/issues/21755 */display: inline-block !important;position: relative;}#sk-container-id-1 div.sk-text-repr-fallback {display: none;}</style><div id=\"sk-container-id-1\" class=\"sk-top-container\"><div class=\"sk-text-repr-fallback\"><pre>LinearRegression()</pre><b>In a Jupyter environment, please rerun this cell to show the HTML representation or trust the notebook. <br />On GitHub, the HTML representation is unable to render, please try loading this page with nbviewer.org.</b></div><div class=\"sk-container\" hidden><div class=\"sk-item\"><div class=\"sk-estimator sk-toggleable\"><input class=\"sk-toggleable__control sk-hidden--visually\" id=\"sk-estimator-id-1\" type=\"checkbox\" checked><label for=\"sk-estimator-id-1\" class=\"sk-toggleable__label sk-toggleable__label-arrow\">LinearRegression</label><div class=\"sk-toggleable__content\"><pre>LinearRegression()</pre></div></div></div></div></div>"
      ],
      "text/plain": [
       "LinearRegression()"
      ]
     },
     "execution_count": 32,
     "metadata": {},
     "output_type": "execute_result"
    }
   ],
   "source": [
    "# Fitting our model over train data set\n",
    "\n",
    "lm2.fit(X_train, Y_train)"
   ]
  },
  {
   "cell_type": "code",
   "execution_count": 33,
   "id": "3d4775da",
   "metadata": {},
   "outputs": [
    {
     "name": "stdout",
     "output_type": "stream",
     "text": [
      "48530.60802986835 [-5.17509158e+02  4.82800374e+02  4.22242899e-01  8.74331790e+00\n",
      "  1.94023127e+00  2.43718541e+02 -9.30104190e+03  9.30104190e+03]\n"
     ]
    }
   ],
   "source": [
    "# Printing values of intercept and coefficient\n",
    "\n",
    "print(lm2.intercept_, lm2.coef_)"
   ]
  },
  {
   "cell_type": "markdown",
   "id": "6dfc49a5",
   "metadata": {},
   "source": [
    "#### Model Accuracy"
   ]
  },
  {
   "cell_type": "code",
   "execution_count": 34,
   "id": "e1e7c453",
   "metadata": {},
   "outputs": [
    {
     "name": "stdout",
     "output_type": "stream",
     "text": [
      "r2 score of test set:  0.5933517958385074\n",
      "r2 score of train set:  0.5137747142134839\n",
      "MSE of test set 77362774.94956572\n"
     ]
    }
   ],
   "source": [
    "# Calcualting model accuracy for test and train data\n",
    "\n",
    "print('r2 score of test set: ', r2_score(Y_test, lm2.predict(X_test)))\n",
    "print('r2 score of train set: ', r2_score(Y_train, lm2.predict(X_train)))\n",
    "print('MSE of test set', mean_squared_error(Y_test, lm2.predict(X_test)))"
   ]
  },
  {
   "cell_type": "code",
   "execution_count": 35,
   "id": "3784332e",
   "metadata": {},
   "outputs": [
    {
     "data": {
      "text/plain": [
       "<seaborn.axisgrid.JointGrid at 0x1e43ceae510>"
      ]
     },
     "execution_count": 35,
     "metadata": {},
     "output_type": "execute_result"
    },
    {
     "data": {
      "image/png": "[encoded data removed]",
      "text/plain": [
       "<Figure size 600x600 with 3 Axes>"
      ]
     },
     "metadata": {},
     "output_type": "display_data"
    }
   ],
   "source": [
    "# Joint plot of predicted and the true value\n",
    "\n",
    "sns.jointplot(x = Y_test, y = lm2.predict(X_test), kind = \"reg\")"
   ]
  },
  {
   "cell_type": "markdown",
   "id": "3e4b10bb",
   "metadata": {},
   "source": [
    "#### Model Interpretation / evaluation"
   ]
  },
  {
   "cell_type": "markdown",
   "id": "fe76a55b",
   "metadata": {},
   "source": [
    "* Our model has a training MSE of 73096299.02751341, which suggests that it fits the training data reasonably well.\n",
    "* The test MSE of 77362774.94956572 indicates how well model generalizes to new data. It's slightly higher than the training MSE, which is expected.\n",
    "* A test R-squared score of 0.59 indicates that our linear regression model explains approximately 59% of the variance in the dependent variable (the variable we're trying to predict) for the test data."
   ]
  },
  {
   "cell_type": "markdown",
   "id": "5c754761",
   "metadata": {},
   "source": [
    "--------------------------------------------------------------------------------------------------------------------------------"
   ]
  },
  {
   "cell_type": "markdown",
   "id": "7d17d25b",
   "metadata": {},
   "source": [
    "* ## Ridge Regression"
   ]
  },
  {
   "cell_type": "code",
   "execution_count": 36,
   "id": "f70cb60e",
   "metadata": {},
   "outputs": [],
   "source": [
    "# Creating scaler object which will store the scaling information of our X train variable\n",
    "\n",
    "scaler = preprocessing.StandardScaler().fit(X_train)"
   ]
  },
  {
   "cell_type": "code",
   "execution_count": 37,
   "id": "4811221b",
   "metadata": {},
   "outputs": [],
   "source": [
    "# Transform our X_train into X_train_scale\n",
    "\n",
    "X_train_s = scaler.transform(X_train)"
   ]
  },
  {
   "cell_type": "code",
   "execution_count": 38,
   "id": "a287ecd8",
   "metadata": {},
   "outputs": [],
   "source": [
    "# Transform our X_test into X_test_scale\n",
    "\n",
    "X_test_s = scaler.transform(X_test)"
   ]
  },
  {
   "cell_type": "code",
   "execution_count": 39,
   "id": "4c0da860",
   "metadata": {},
   "outputs": [],
   "source": [
    "# Creating ridge regresson model object\n",
    "\n",
    "lm_rid = Ridge(alpha = 0.5)"
   ]
  },
  {
   "cell_type": "code",
   "execution_count": 40,
   "id": "732b514d",
   "metadata": {},
   "outputs": [
    {
     "data": {
      "text/html": [
       "<style>#sk-container-id-2 {color: black;}#sk-container-id-2 pre{padding: 0;}#sk-container-id-2 div.sk-toggleable {background-color: white;}#sk-container-id-2 label.sk-toggleable__label {cursor: pointer;display: block;width: 100%;margin-bottom: 0;padding: 0.3em;box-sizing: border-box;text-align: center;}#sk-container-id-2 label.sk-toggleable__label-arrow:before {content: \"▸\";float: left;margin-right: 0.25em;color: #696969;}#sk-container-id-2 label.sk-toggleable__label-arrow:hover:before {color: black;}#sk-container-id-2 div.sk-estimator:hover label.sk-toggleable__label-arrow:before {color: black;}#sk-container-id-2 div.sk-toggleable__content {max-height: 0;max-width: 0;overflow: hidden;text-align: left;background-color: #f0f8ff;}#sk-container-id-2 div.sk-toggleable__content pre {margin: 0.2em;color: black;border-radius: 0.25em;background-color: #f0f8ff;}#sk-container-id-2 input.sk-toggleable__control:checked~div.sk-toggleable__content {max-height: 200px;max-width: 100%;overflow: auto;}#sk-container-id-2 input.sk-toggleable__control:checked~label.sk-toggleable__label-arrow:before {content: \"▾\";}#sk-container-id-2 div.sk-estimator input.sk-toggleable__control:checked~label.sk-toggleable__label {background-color: #d4ebff;}#sk-container-id-2 div.sk-label input.sk-toggleable__control:checked~label.sk-toggleable__label {background-color: #d4ebff;}#sk-container-id-2 input.sk-hidden--visually {border: 0;clip: rect(1px 1px 1px 1px);clip: rect(1px, 1px, 1px, 1px);height: 1px;margin: -1px;overflow: hidden;padding: 0;position: absolute;width: 1px;}#sk-container-id-2 div.sk-estimator {font-family: monospace;background-color: #f0f8ff;border: 1px dotted black;border-radius: 0.25em;box-sizing: border-box;margin-bottom: 0.5em;}#sk-container-id-2 div.sk-estimator:hover {background-color: #d4ebff;}#sk-container-id-2 div.sk-parallel-item::after {content: \"\";width: 100%;border-bottom: 1px solid gray;flex-grow: 1;}#sk-container-id-2 div.sk-label:hover label.sk-toggleable__label {background-color: #d4ebff;}#sk-container-id-2 div.sk-serial::before {content: \"\";position: absolute;border-left: 1px solid gray;box-sizing: border-box;top: 0;bottom: 0;left: 50%;z-index: 0;}#sk-container-id-2 div.sk-serial {display: flex;flex-direction: column;align-items: center;background-color: white;padding-right: 0.2em;padding-left: 0.2em;position: relative;}#sk-container-id-2 div.sk-item {position: relative;z-index: 1;}#sk-container-id-2 div.sk-parallel {display: flex;align-items: stretch;justify-content: center;background-color: white;position: relative;}#sk-container-id-2 div.sk-item::before, #sk-container-id-2 div.sk-parallel-item::before {content: \"\";position: absolute;border-left: 1px solid gray;box-sizing: border-box;top: 0;bottom: 0;left: 50%;z-index: -1;}#sk-container-id-2 div.sk-parallel-item {display: flex;flex-direction: column;z-index: 1;position: relative;background-color: white;}#sk-container-id-2 div.sk-parallel-item:first-child::after {align-self: flex-end;width: 50%;}#sk-container-id-2 div.sk-parallel-item:last-child::after {align-self: flex-start;width: 50%;}#sk-container-id-2 div.sk-parallel-item:only-child::after {width: 0;}#sk-container-id-2 div.sk-dashed-wrapped {border: 1px dashed gray;margin: 0 0.4em 0.5em 0.4em;box-sizing: border-box;padding-bottom: 0.4em;background-color: white;}#sk-container-id-2 div.sk-label label {font-family: monospace;font-weight: bold;display: inline-block;line-height: 1.2em;}#sk-container-id-2 div.sk-label-container {text-align: center;}#sk-container-id-2 div.sk-container {/* jupyter's `normalize.less` sets `[hidden] { display: none; }` but bootstrap.min.css set `[hidden] { display: none !important; }` so we also need the `!important` here to be able to override the default hidden behavior on the sphinx rendered scikit-learn.org. See: https://github.com/scikit-learn/scikit-learn/issues/21755 */display: inline-block !important;position: relative;}#sk-container-id-2 div.sk-text-repr-fallback {display: none;}</style><div id=\"sk-container-id-2\" class=\"sk-top-container\"><div class=\"sk-text-repr-fallback\"><pre>Ridge(alpha=0.5)</pre><b>In a Jupyter environment, please rerun this cell to show the HTML representation or trust the notebook. <br />On GitHub, the HTML representation is unable to render, please try loading this page with nbviewer.org.</b></div><div class=\"sk-container\" hidden><div class=\"sk-item\"><div class=\"sk-estimator sk-toggleable\"><input class=\"sk-toggleable__control sk-hidden--visually\" id=\"sk-estimator-id-2\" type=\"checkbox\" checked><label for=\"sk-estimator-id-2\" class=\"sk-toggleable__label sk-toggleable__label-arrow\">Ridge</label><div class=\"sk-toggleable__content\"><pre>Ridge(alpha=0.5)</pre></div></div></div></div></div>"
      ],
      "text/plain": [
       "Ridge(alpha=0.5)"
      ]
     },
     "execution_count": 40,
     "metadata": {},
     "output_type": "execute_result"
    }
   ],
   "source": [
    "# Fitting our model over train data set\n",
    "\n",
    "lm_rid.fit(X_train_s, Y_train)"
   ]
  },
  {
   "cell_type": "code",
   "execution_count": 41,
   "id": "f4432d44",
   "metadata": {},
   "outputs": [
    {
     "name": "stdout",
     "output_type": "stream",
     "text": [
      "r2 score of test set:  0.5933113651558912\n",
      "r2 score of train set:  0.5137746805678054\n",
      "MSE of test set:  77370466.68352221\n"
     ]
    }
   ],
   "source": [
    "# Calcualting model accuracy for test and train data\n",
    "\n",
    "print('r2 score of test set: ', r2_score(Y_test, lm_rid.predict(X_test_s)))\n",
    "print('r2 score of train set: ', r2_score(Y_train, lm_rid.predict(X_train_s)))\n",
    "print('MSE of test set: ', mean_squared_error(Y_test, lm_rid.predict(X_test_s)))"
   ]
  },
  {
   "cell_type": "markdown",
   "id": "4170539a",
   "metadata": {},
   "source": [
    "#### Model Interpretation / evaluation"
   ]
  },
  {
   "cell_type": "markdown",
   "id": "4c41fb02",
   "metadata": {},
   "source": [
    "* The model may be reasonably generalizing to fresh, untested data if the Test R-squared value is higher than the Train R-squared value. This is a good indicator since it shows that the model is not seriously overfit to the training set of data.\n",
    "\n",
    "* With a test R-squared of 0.5933, the model successfully accounts for a sizable percentage of the variation in the test data. It suggests that the dependent variable, CTC, may be somewhat predicted by the Ridge Regression model.\n",
    "\n",
    "* A modest Train R-squared of 0.5137 indicates that the model has some capacity to explain the training set of data.\n"
   ]
  },
  {
   "cell_type": "markdown",
   "id": "8bdb0a3a",
   "metadata": {},
   "source": [
    "* ### Ridge pregression - Validation curve"
   ]
  },
  {
   "cell_type": "code",
   "execution_count": 42,
   "id": "2fd6aa9d",
   "metadata": {},
   "outputs": [],
   "source": [
    "# Importing validation curve from sklearn\n",
    "\n",
    "from sklearn.model_selection import validation_curve"
   ]
  },
  {
   "cell_type": "code",
   "execution_count": 43,
   "id": "671d74ab",
   "metadata": {},
   "outputs": [],
   "source": [
    "# Creating param range for alpha using numpy array function\n",
    "\n",
    "param_range = np.logspace(-2,8,100)"
   ]
  },
  {
   "cell_type": "code",
   "execution_count": 44,
   "id": "5d2150e1",
   "metadata": {},
   "outputs": [
    {
     "data": {
      "text/plain": [
       "array([1.00000000e-02, 1.26185688e-02, 1.59228279e-02, 2.00923300e-02,\n",
       "       2.53536449e-02, 3.19926714e-02, 4.03701726e-02, 5.09413801e-02,\n",
       "       6.42807312e-02, 8.11130831e-02, 1.02353102e-01, 1.29154967e-01,\n",
       "       1.62975083e-01, 2.05651231e-01, 2.59502421e-01, 3.27454916e-01,\n",
       "       4.13201240e-01, 5.21400829e-01, 6.57933225e-01, 8.30217568e-01,\n",
       "       1.04761575e+00, 1.32194115e+00, 1.66810054e+00, 2.10490414e+00,\n",
       "       2.65608778e+00, 3.35160265e+00, 4.22924287e+00, 5.33669923e+00,\n",
       "       6.73415066e+00, 8.49753436e+00, 1.07226722e+01, 1.35304777e+01,\n",
       "       1.70735265e+01, 2.15443469e+01, 2.71858824e+01, 3.43046929e+01,\n",
       "       4.32876128e+01, 5.46227722e+01, 6.89261210e+01, 8.69749003e+01,\n",
       "       1.09749877e+02, 1.38488637e+02, 1.74752840e+02, 2.20513074e+02,\n",
       "       2.78255940e+02, 3.51119173e+02, 4.43062146e+02, 5.59081018e+02,\n",
       "       7.05480231e+02, 8.90215085e+02, 1.12332403e+03, 1.41747416e+03,\n",
       "       1.78864953e+03, 2.25701972e+03, 2.84803587e+03, 3.59381366e+03,\n",
       "       4.53487851e+03, 5.72236766e+03, 7.22080902e+03, 9.11162756e+03,\n",
       "       1.14975700e+04, 1.45082878e+04, 1.83073828e+04, 2.31012970e+04,\n",
       "       2.91505306e+04, 3.67837977e+04, 4.64158883e+04, 5.85702082e+04,\n",
       "       7.39072203e+04, 9.32603347e+04, 1.17681195e+05, 1.48496826e+05,\n",
       "       1.87381742e+05, 2.36448941e+05, 2.98364724e+05, 3.76493581e+05,\n",
       "       4.75081016e+05, 5.99484250e+05, 7.56463328e+05, 9.54548457e+05,\n",
       "       1.20450354e+06, 1.51991108e+06, 1.91791026e+06, 2.42012826e+06,\n",
       "       3.05385551e+06, 3.85352859e+06, 4.86260158e+06, 6.13590727e+06,\n",
       "       7.74263683e+06, 9.77009957e+06, 1.23284674e+07, 1.55567614e+07,\n",
       "       1.96304065e+07, 2.47707636e+07, 3.12571585e+07, 3.94420606e+07,\n",
       "       4.97702356e+07, 6.28029144e+07, 7.92482898e+07, 1.00000000e+08])"
      ]
     },
     "execution_count": 44,
     "metadata": {},
     "output_type": "execute_result"
    }
   ],
   "source": [
    "# Printing all potential alpha values\n",
    "\n",
    "param_range"
   ]
  },
  {
   "cell_type": "code",
   "execution_count": 45,
   "id": "d704e9f6",
   "metadata": {},
   "outputs": [],
   "source": [
    "# Calculating validation curve on train data set\n",
    "\n",
    "train_scores, test_scores = validation_curve(estimator = lm_rid, # model on which we want to do validation curve\n",
    "                                             X = X_train_s, # X feature which is our X_train_scaled in our case\n",
    "                                             y = Y_train, # Y feature which is our Y_train in our case\n",
    "                                             param_name = \"alpha\", # parameter name on which values we want to do validation curve\n",
    "                                             param_range = param_range, # value of all alpha, which is stored in param_Range\n",
    "                                             scoring = \"r2\") # want to calculate r2 score"
   ]
  },
  {
   "cell_type": "code",
   "execution_count": 46,
   "id": "1e88c377",
   "metadata": {},
   "outputs": [
    {
     "name": "stdout",
     "output_type": "stream",
     "text": [
      "[[5.10979008e-01 5.36437285e-01 4.99879242e-01 5.14327357e-01\n",
      "  5.09289503e-01]\n",
      " [5.10979008e-01 5.36437285e-01 4.99879242e-01 5.14327357e-01\n",
      "  5.09289503e-01]\n",
      " [5.10979008e-01 5.36437285e-01 4.99879242e-01 5.14327357e-01\n",
      "  5.09289503e-01]\n",
      " [5.10979008e-01 5.36437285e-01 4.99879242e-01 5.14327357e-01\n",
      "  5.09289503e-01]\n",
      " [5.10979008e-01 5.36437285e-01 4.99879242e-01 5.14327357e-01\n",
      "  5.09289502e-01]\n",
      " [5.10979008e-01 5.36437285e-01 4.99879242e-01 5.14327357e-01\n",
      "  5.09289502e-01]\n",
      " [5.10979008e-01 5.36437285e-01 4.99879242e-01 5.14327357e-01\n",
      "  5.09289502e-01]\n",
      " [5.10979007e-01 5.36437284e-01 4.99879242e-01 5.14327356e-01\n",
      "  5.09289502e-01]\n",
      " [5.10979007e-01 5.36437284e-01 4.99879241e-01 5.14327356e-01\n",
      "  5.09289502e-01]\n",
      " [5.10979006e-01 5.36437284e-01 4.99879241e-01 5.14327356e-01\n",
      "  5.09289501e-01]\n",
      " [5.10979006e-01 5.36437283e-01 4.99879240e-01 5.14327355e-01\n",
      "  5.09289500e-01]\n",
      " [5.10979004e-01 5.36437282e-01 4.99879239e-01 5.14327353e-01\n",
      "  5.09289499e-01]\n",
      " [5.10979002e-01 5.36437280e-01 4.99879237e-01 5.14327351e-01\n",
      "  5.09289497e-01]\n",
      " [5.10978999e-01 5.36437276e-01 4.99879233e-01 5.14327348e-01\n",
      "  5.09289494e-01]\n",
      " [5.10978993e-01 5.36437271e-01 4.99879228e-01 5.14327343e-01\n",
      "  5.09289488e-01]\n",
      " [5.10978984e-01 5.36437264e-01 4.99879220e-01 5.14327334e-01\n",
      "  5.09289480e-01]\n",
      " [5.10978970e-01 5.36437251e-01 4.99879206e-01 5.14327321e-01\n",
      "  5.09289466e-01]\n",
      " [5.10978948e-01 5.36437231e-01 4.99879185e-01 5.14327299e-01\n",
      "  5.09289445e-01]\n",
      " [5.10978913e-01 5.36437199e-01 4.99879151e-01 5.14327265e-01\n",
      "  5.09289410e-01]\n",
      " [5.10978857e-01 5.36437148e-01 4.99879096e-01 5.14327211e-01\n",
      "  5.09289356e-01]\n",
      " [5.10978768e-01 5.36437067e-01 4.99879010e-01 5.14327124e-01\n",
      "  5.09289269e-01]\n",
      " [5.10978625e-01 5.36436939e-01 4.99878873e-01 5.14326987e-01\n",
      "  5.09289131e-01]\n",
      " [5.10978399e-01 5.36436734e-01 4.99878654e-01 5.14326767e-01\n",
      "  5.09288910e-01]\n",
      " [5.10978039e-01 5.36436408e-01 4.99878306e-01 5.14326419e-01\n",
      "  5.09288560e-01]\n",
      " [5.10977467e-01 5.36435890e-01 4.99877753e-01 5.14325865e-01\n",
      "  5.09288003e-01]\n",
      " [5.10976557e-01 5.36435066e-01 4.99876873e-01 5.14324983e-01\n",
      "  5.09287118e-01]\n",
      " [5.10975110e-01 5.36433756e-01 4.99875475e-01 5.14323582e-01\n",
      "  5.09285711e-01]\n",
      " [5.10972811e-01 5.36431674e-01 4.99873253e-01 5.14321357e-01\n",
      "  5.09283475e-01]\n",
      " [5.10969162e-01 5.36428368e-01 4.99869726e-01 5.14317822e-01\n",
      "  5.09279924e-01]\n",
      " [5.10963371e-01 5.36423122e-01 4.99864130e-01 5.14312215e-01\n",
      "  5.09274291e-01]\n",
      " [5.10954192e-01 5.36414802e-01 4.99855258e-01 5.14303326e-01\n",
      "  5.09265360e-01]\n",
      " [5.10939658e-01 5.36401624e-01 4.99841211e-01 5.14289253e-01\n",
      "  5.09251220e-01]\n",
      " [5.10916679e-01 5.36380778e-01 4.99819002e-01 5.14267001e-01\n",
      "  5.09228861e-01]\n",
      " [5.10880415e-01 5.36347858e-01 4.99783951e-01 5.14231883e-01\n",
      "  5.09193572e-01]\n",
      " [5.10823315e-01 5.36295980e-01 4.99728758e-01 5.14176585e-01\n",
      "  5.09138001e-01]\n",
      " [5.10733662e-01 5.36214443e-01 4.99642099e-01 5.14089761e-01\n",
      "  5.09050738e-01]\n",
      " [5.10593399e-01 5.36086713e-01 4.99506510e-01 5.13953915e-01\n",
      "  5.08914190e-01]\n",
      " [5.10374921e-01 5.35887439e-01 4.99295297e-01 5.13742303e-01\n",
      "  5.08701454e-01]\n",
      " [5.10036470e-01 5.35578124e-01 4.98968064e-01 5.13414450e-01\n",
      "  5.08371804e-01]\n",
      " [5.09515679e-01 5.35100997e-01 4.98464462e-01 5.12909887e-01\n",
      "  5.07864384e-01]\n",
      " [5.08720893e-01 5.34370654e-01 4.97695752e-01 5.12139693e-01\n",
      "  5.07089667e-01]\n",
      " [5.07520057e-01 5.33263125e-01 4.96533993e-01 5.10975634e-01\n",
      "  5.05918524e-01]\n",
      " [5.05727534e-01 5.31602523e-01 4.94799148e-01 5.09237199e-01\n",
      "  5.04169153e-01]\n",
      " [5.03090143e-01 5.29146190e-01 4.92245329e-01 5.06677716e-01\n",
      "  5.01593128e-01]\n",
      " [4.99275277e-01 5.25570755e-01 4.88548884e-01 5.02972181e-01\n",
      "  4.97863266e-01]\n",
      " [4.93865792e-01 5.20463350e-01 4.83302827e-01 4.97711254e-01\n",
      "  4.92567888e-01]\n",
      " [4.86368130e-01 5.13324346e-01 4.76023908e-01 4.90407595e-01\n",
      "  4.85217803e-01]\n",
      " [4.76240591e-01 5.03589151e-01 4.66179247e-01 4.80521403e-01\n",
      "  4.75273009e-01]\n",
      " [4.62946667e-01 4.90675708e-01 4.53237708e-01 4.67510403e-01\n",
      "  4.62194303e-01]\n",
      " [4.46032701e-01 4.74059826e-01 4.36745967e-01 4.50904603e-01\n",
      "  4.45519706e-01]\n",
      " [4.25220578e-01 4.53372055e-01 4.16420691e-01 4.30398005e-01\n",
      "  4.24957156e-01]\n",
      " [4.00496804e-01 4.28499149e-01 3.92238634e-01 4.05940083e-01\n",
      "  4.00475331e-01]\n",
      " [3.72173630e-01 3.99664298e-01 3.64499890e-01 3.77803015e-01\n",
      "  3.72368074e-01]\n",
      " [3.40899704e-01 3.67458609e-01 3.33840710e-01 3.46600791e-01\n",
      "  3.41268894e-01]\n",
      " [3.07608861e-01 3.32805560e-01 3.01183430e-01 3.13246022e-01\n",
      "  3.08102777e-01]\n",
      " [2.73413412e-01 2.96859088e-01 2.67629567e-01 2.78847918e-01\n",
      "  2.73980604e-01]\n",
      " [2.39465743e-01 2.60857506e-01 2.34320547e-01 2.44573710e-01\n",
      "  2.40059832e-01]\n",
      " [2.06821367e-01 2.25969499e-01 2.02300218e-01 2.11507213e-01\n",
      "  2.07405259e-01]\n",
      " [1.76333577e-01 1.93168315e-01 1.72409877e-01 1.80536686e-01\n",
      "  1.76881047e-01]\n",
      " [1.48596733e-01 1.63157164e-01 1.45232698e-01 1.52291451e-01\n",
      "  1.49091887e-01]\n",
      " [1.23939033e-01 1.36350334e-01 1.21087824e-01 1.27129741e-01\n",
      "  1.24374491e-01]\n",
      " [1.02453231e-01 1.12899295e-01 1.00062036e-01 1.05166888e-01\n",
      "  1.02827865e-01]\n",
      " [8.40486212e-02 9.27457328e-02 8.20620255e-02 8.63268283e-02\n",
      "  8.43654017e-02]\n",
      " [6.85087962e-02 7.56838104e-02 6.68718567e-02 7.04007886e-02\n",
      "  6.87730316e-02]\n",
      " [5.55443831e-02 6.14187126e-02 5.42050240e-02 5.71015776e-02\n",
      "  5.57624326e-02]\n",
      " [4.48352019e-02 4.96144617e-02 4.37458159e-02 4.61074208e-02\n",
      "  4.50136185e-02]\n",
      " [3.60604537e-02 3.99288013e-02 3.51787598e-02 3.70936152e-02\n",
      "  3.62054669e-02]\n",
      " [2.89180556e-02 3.20360152e-02 2.82073624e-02 2.97529980e-02\n",
      "  2.90352977e-02]\n",
      " [2.31353569e-02 2.56399835e-02 2.25644079e-02 2.38074595e-02\n",
      "  2.32297512e-02]\n",
      " [1.84736564e-02 2.04801097e-02 1.80162157e-02 1.90129687e-02\n",
      "  1.85494049e-02]\n",
      " [1.47286414e-02 1.63324863e-02 1.43629453e-02 1.51603029e-02\n",
      "  1.47892687e-02]\n",
      " [1.17283925e-02 1.30081648e-02 1.14365563e-02 1.20731908e-02\n",
      "  1.17768171e-02]\n",
      " [9.33012686e-03 1.03498759e-02 9.09756275e-03 9.60509580e-03\n",
      "  9.36874179e-03]\n",
      " [7.41645162e-03 8.22809911e-03 7.23133140e-03 7.63545025e-03\n",
      "  7.44720427e-03]\n",
      " [5.89160429e-03 6.53704162e-03 5.74438265e-03 6.06584627e-03\n",
      "  5.91607043e-03]\n",
      " [4.67794525e-03 5.19084480e-03 4.56094798e-03 4.81646420e-03\n",
      "  4.69739422e-03]\n",
      " [3.71283017e-03 4.12017793e-03 3.61990573e-03 3.82287848e-03\n",
      "  3.72828089e-03]\n",
      " [2.94590456e-03 3.26927738e-03 2.87213360e-03 3.03328886e-03\n",
      "  2.95817275e-03]\n",
      " [2.33681306e-03 2.59343096e-03 2.27826899e-03 2.40617249e-03\n",
      "  2.34655033e-03]\n",
      " [1.85328968e-03 2.05687553e-03 1.80684299e-03 1.90832435e-03\n",
      "  1.86101570e-03]\n",
      " [1.46958406e-03 1.63106108e-03 1.43274343e-03 1.51324119e-03\n",
      "  1.47571270e-03]\n",
      " [1.16517577e-03 1.29323078e-03 1.13595981e-03 1.19980040e-03\n",
      "  1.17003632e-03]\n",
      " [9.23731036e-04 1.02526728e-03 9.00565075e-04 9.51187505e-04\n",
      "  9.27585278e-04]\n",
      " [7.32260475e-04 8.12760673e-04 7.13893787e-04 7.54029965e-04\n",
      "  7.35316361e-04]\n",
      " [5.80441777e-04 6.44258467e-04 5.65881427e-04 5.97700456e-04\n",
      "  5.82864436e-04]\n",
      " [4.60076805e-04 5.10664049e-04 4.48534794e-04 4.73758242e-04\n",
      "  4.61997299e-04]\n",
      " [3.64657419e-04 4.04755495e-04 3.55508573e-04 3.75502380e-04\n",
      "  3.66179741e-04]\n",
      " [2.89018954e-04 3.20801364e-04 2.81767393e-04 2.97615069e-04\n",
      "  2.90225596e-04]\n",
      " [2.29064052e-04 2.54254442e-04 2.23316525e-04 2.35877374e-04\n",
      "  2.30020438e-04]\n",
      " [1.81542832e-04 2.01507905e-04 1.76987519e-04 1.86942932e-04\n",
      "  1.82300842e-04]\n",
      " [1.43878061e-04 1.59701372e-04 1.40267743e-04 1.48157962e-04\n",
      "  1.44478828e-04]\n",
      " [1.14026224e-04 1.26566763e-04 1.11164913e-04 1.17418232e-04\n",
      "  1.14502357e-04]\n",
      " [9.03671748e-05 1.00305863e-04 8.80995115e-05 9.30554464e-05\n",
      "  9.07445242e-05]\n",
      " [7.16165396e-05 7.94931098e-05 6.98193781e-05 7.37470515e-05\n",
      "  7.19155967e-05]\n",
      " [5.67562012e-05 6.29984556e-05 5.53319330e-05 5.84446598e-05\n",
      "  5.69932076e-05]\n",
      " [4.49791469e-05 4.99261568e-05 4.38504082e-05 4.63172618e-05\n",
      "  4.51669759e-05]\n",
      " [3.56457247e-05 3.95662272e-05 3.47511995e-05 3.67061833e-05\n",
      "  3.57945794e-05]\n",
      " [2.82489538e-05 3.13559363e-05 2.75400459e-05 2.90893651e-05\n",
      "  2.83669208e-05]\n",
      " [2.23870179e-05 2.48492806e-05 2.18252129e-05 2.30530395e-05\n",
      "  2.24805061e-05]\n",
      " [1.77414576e-05 1.96927790e-05 1.72962321e-05 1.82692747e-05\n",
      "  1.78155463e-05]]\n",
      "[[ 5.22125846e-01  3.92101041e-01  5.63524068e-01  5.08779918e-01\n",
      "   5.28176046e-01]\n",
      " [ 5.22125836e-01  3.92101202e-01  5.63524000e-01  5.08779975e-01\n",
      "   5.28175970e-01]\n",
      " [ 5.22125824e-01  3.92101406e-01  5.63523915e-01  5.08780047e-01\n",
      "   5.28175873e-01]\n",
      " [ 5.22125808e-01  3.92101662e-01  5.63523808e-01  5.08780137e-01\n",
      "   5.28175751e-01]\n",
      " [ 5.22125787e-01  3.92101987e-01  5.63523672e-01  5.08780251e-01\n",
      "   5.28175598e-01]\n",
      " [ 5.22125762e-01  3.92102395e-01  5.63523501e-01  5.08780395e-01\n",
      "   5.28175404e-01]\n",
      " [ 5.22125730e-01  3.92102911e-01  5.63523285e-01  5.08780576e-01\n",
      "   5.28175159e-01]\n",
      " [ 5.22125689e-01  3.92103562e-01  5.63523012e-01  5.08780805e-01\n",
      "   5.28174851e-01]\n",
      " [ 5.22125638e-01  3.92104384e-01  5.63522668e-01  5.08781094e-01\n",
      "   5.28174461e-01]\n",
      " [ 5.22125573e-01  3.92105420e-01  5.63522234e-01  5.08781458e-01\n",
      "   5.28173969e-01]\n",
      " [ 5.22125491e-01  3.92106728e-01  5.63521686e-01  5.08781917e-01\n",
      "   5.28173349e-01]\n",
      " [ 5.22125387e-01  3.92108378e-01  5.63520994e-01  5.08782496e-01\n",
      "   5.28172565e-01]\n",
      " [ 5.22125255e-01  3.92110459e-01  5.63520120e-01  5.08783226e-01\n",
      "   5.28171577e-01]\n",
      " [ 5.22125089e-01  3.92113085e-01  5.63519017e-01  5.08784147e-01\n",
      "   5.28170328e-01]\n",
      " [ 5.22124877e-01  3.92116397e-01  5.63517624e-01  5.08785308e-01\n",
      "   5.28168752e-01]\n",
      " [ 5.22124609e-01  3.92120574e-01  5.63515864e-01  5.08786770e-01\n",
      "   5.28166761e-01]\n",
      " [ 5.22124267e-01  3.92125843e-01  5.63513642e-01  5.08788612e-01\n",
      "   5.28164247e-01]\n",
      " [ 5.22123831e-01  3.92132486e-01  5.63510832e-01  5.08790931e-01\n",
      "   5.28161071e-01]\n",
      " [ 5.22123273e-01  3.92140862e-01  5.63507281e-01  5.08793848e-01\n",
      "   5.28157056e-01]\n",
      " [ 5.22122557e-01  3.92151419e-01  5.63502788e-01  5.08797517e-01\n",
      "   5.28151981e-01]\n",
      " [ 5.22121636e-01  3.92164722e-01  5.63497101e-01  5.08802124e-01\n",
      "   5.28145561e-01]\n",
      " [ 5.22120443e-01  3.92181480e-01  5.63489898e-01  5.08807904e-01\n",
      "   5.28137435e-01]\n",
      " [ 5.22118890e-01  3.92202578e-01  5.63480764e-01  5.08815144e-01\n",
      "   5.28127141e-01]\n",
      " [ 5.22116855e-01  3.92229127e-01  5.63469169e-01  5.08824193e-01\n",
      "   5.28114089e-01]\n",
      " [ 5.22114168e-01  3.92262509e-01  5.63454426e-01  5.08835475e-01\n",
      "   5.28097520e-01]\n",
      " [ 5.22110587e-01  3.92304443e-01  5.63435646e-01  5.08849495e-01\n",
      "   5.28076453e-01]\n",
      " [ 5.22105766e-01  3.92357060e-01  5.63411667e-01  5.08866842e-01\n",
      "   5.28049618e-01]\n",
      " [ 5.22099203e-01  3.92422979e-01  5.63380966e-01  5.08888186e-01\n",
      "   5.28015358e-01]\n",
      " [ 5.22090164e-01  3.92505406e-01  5.63341521e-01  5.08914254e-01\n",
      "   5.27971494e-01]\n",
      " [ 5.22077556e-01  3.92608225e-01  5.63290633e-01  5.08945780e-01\n",
      "   5.27915145e-01]\n",
      " [ 5.22059750e-01  3.92736081e-01  5.63224662e-01  5.08983401e-01\n",
      "   5.27842462e-01]\n",
      " [ 5.22034293e-01  3.92894439e-01  5.63138648e-01  5.09027467e-01\n",
      "   5.27748261e-01]\n",
      " [ 5.21997470e-01  3.93089572e-01  5.63025760e-01  5.09077717e-01\n",
      "   5.27625488e-01]\n",
      " [ 5.21943644e-01  3.93328433e-01  5.62876502e-01  5.09132737e-01\n",
      "   5.27464452e-01]\n",
      " [ 5.21864237e-01  3.93618304e-01  5.62677549e-01  5.09189074e-01\n",
      "   5.27251721e-01]\n",
      " [ 5.21746211e-01  3.93966100e-01  5.62410054e-01  5.09239844e-01\n",
      "   5.26968517e-01]\n",
      " [ 5.21569801e-01  3.94377101e-01  5.62047209e-01  5.09272577e-01\n",
      "   5.26588430e-01]\n",
      " [ 5.21305190e-01  3.94852829e-01  5.61550755e-01  5.09265967e-01\n",
      "   5.26074149e-01]\n",
      " [ 5.20907748e-01  3.95387661e-01  5.60866086e-01  5.09185102e-01\n",
      "   5.25372909e-01]\n",
      " [ 5.20311384e-01  3.95963696e-01  5.59915549e-01  5.08974702e-01\n",
      "   5.24410274e-01]\n",
      " [ 5.19419626e-01  3.96543303e-01  5.58589597e-01  5.08549900e-01\n",
      "   5.23081946e-01]\n",
      " [ 5.18094237e-01  3.97058878e-01  5.56735688e-01  5.07784351e-01\n",
      "   5.21243511e-01]\n",
      " [ 5.16141751e-01  3.97399630e-01  5.54145365e-01  5.06495972e-01\n",
      "   5.18698535e-01]\n",
      " [ 5.13299312e-01  3.97395947e-01  5.50540946e-01  5.04431682e-01\n",
      "   5.15186350e-01]\n",
      " [ 5.09222781e-01  3.96803112e-01  5.45564740e-01  5.01254067e-01\n",
      "   5.10372250e-01]\n",
      " [ 5.03482046e-01  3.95288015e-01  5.38775554e-01  4.96534891e-01\n",
      "   5.03844568e-01]\n",
      " [ 4.95570245e-01  3.92424521e-01  5.29658895e-01  4.89762131e-01\n",
      "   4.95124618e-01]\n",
      " [ 4.84934076e-01  3.87704785e-01  5.17657730e-01  4.80367785e-01\n",
      "   4.83695877e-01]\n",
      " [ 4.71030115e-01  3.80573660e-01  5.02228592e-01  4.67781613e-01\n",
      "   4.69056731e-01]\n",
      " [ 4.53406033e-01  3.70490095e-01  4.82922283e-01  4.51510448e-01\n",
      "   4.50795854e-01]\n",
      " [ 4.31796375e-01  3.57012506e-01  4.59479689e-01  4.31234017e-01\n",
      "   4.28681023e-01]\n",
      " [ 4.06212911e-01  3.39895249e-01  4.31923575e-01  4.06898778e-01\n",
      "   4.02743368e-01]\n",
      " [ 3.77003970e-01  3.19173956e-01  4.00620881e-01  3.78784970e-01\n",
      "   3.73333547e-01]\n",
      " [ 3.44860046e-01  2.95213368e-01  3.66291561e-01  3.47523184e-01\n",
      "   3.41128197e-01]\n",
      " [ 3.10755513e-01  2.68696819e-01  3.29951697e-01  3.14047272e-01\n",
      "   3.07076030e-01]\n",
      " [ 2.75835054e-01  2.40552333e-01  2.92797801e-01  2.79488383e-01\n",
      "   2.72290410e-01]\n",
      " [ 2.41270807e-01  2.11830717e-01  2.56058342e-01  2.45033376e-01\n",
      "   2.37912362e-01]\n",
      " [ 2.08124434e-01  1.83566776e-01  2.20848419e-01  2.11781705e-01\n",
      "   2.04976783e-01]\n",
      " [ 1.77243866e-01  1.56657997e-01  1.88059797e-01  1.80632821e-01\n",
      "   1.74311171e-01]\n",
      " [ 1.49210406e-01  1.31785195e-01  1.58303842e-01  1.52223139e-01\n",
      "   1.46482937e-01]\n",
      " [ 1.24335542e-01  1.09383025e-01  1.31907252e-01  1.26914664e-01\n",
      "   1.21795315e-01]\n",
      " [ 1.02694914e-01  8.96532834e-02  1.08947529e-01  1.04824048e-01\n",
      "   1.00320015e-01]\n",
      " [ 8.41823690e-02  7.26057499e-02  8.93099952e-02  8.58749090e-02\n",
      "   8.19499291e-02]\n",
      " [ 6.85686856e-02  5.81104371e-02  7.27499487e-02  6.98571510e-02\n",
      "   6.64567537e-02]\n",
      " [ 5.55544950e-02  4.59488558e-02  5.89486978e-02  5.64817478e-02\n",
      "   5.35430675e-02]\n",
      " [ 4.48121730e-02  3.58571030e-02  4.75579272e-02  4.54249031e-02\n",
      "   4.28836525e-02]\n",
      " [ 3.60155714e-02  2.75580944e-02  3.82311618e-02  3.63599137e-02\n",
      "   3.41548601e-02]\n",
      " [ 2.88588681e-02  2.07832399e-02  3.06436930e-02  2.89777603e-02\n",
      "   2.70532486e-02]\n",
      " [ 2.30668551e-02  1.52853541e-02  2.45034313e-02  2.29986782e-02\n",
      "   2.13057609e-02]\n",
      " [ 1.83991116e-02  1.08450376e-02  1.95552840e-02  1.81772032e-02\n",
      "   1.66738549e-02]\n",
      " [ 1.46501836e-02  7.27260902e-03  1.55813095e-02  1.43028966e-02\n",
      "   1.29536783e-02]\n",
      " [ 1.16474023e-02  4.40726580e-03  1.23983772e-02  1.11984718e-02\n",
      "   9.97390419e-03]\n",
      " [ 9.24749620e-03  2.11470156e-03  9.85455692e-03  8.71655338e-03\n",
      "   7.59237153e-03]\n",
      " [ 7.33275579e-03  2.84014718e-04  7.82503923e-03  6.73588761e-03\n",
      "   5.69228059e-03]\n",
      " [ 5.80721426e-03 -1.17556396e-03  6.20807816e-03  5.15750894e-03\n",
      "   4.17840456e-03]\n",
      " [ 4.59310045e-03 -2.33781644e-03  4.92122495e-03  3.90114697e-03\n",
      "   2.97357080e-03]\n",
      " [ 3.62768548e-03 -3.26239467e-03  3.89798164e-03  2.90201335e-03\n",
      "   2.01553235e-03]\n",
      " [ 2.86056053e-03 -3.99732358e-03  3.08491295e-03  2.10801675e-03\n",
      "   1.25426718e-03]\n",
      " [ 2.25133526e-03 -4.58113928e-03  2.43920514e-03  1.47740139e-03\n",
      "   6.49694500e-04]\n",
      " [ 1.76772117e-03 -5.04468322e-03  1.92663336e-03  9.76776265e-04\n",
      "   1.69773044e-04]\n",
      " [ 1.38395329e-03 -5.41258778e-03  1.51988812e-03  5.79489799e-04\n",
      "  -2.11064996e-04]\n",
      " [ 1.07950173e-03 -5.70449437e-03  1.19720923e-03  2.64301300e-04\n",
      "  -5.13192514e-04]\n",
      " [ 8.38026538e-04 -5.93604454e-03  9.41277764e-04  1.43023551e-05\n",
      "  -7.52824571e-04]\n",
      " [ 6.46534240e-04 -6.11968191e-03  7.38321937e-04 -1.83954247e-04\n",
      "  -9.42855350e-04]\n",
      " [ 4.94699830e-04 -6.26529802e-03  5.77398364e-04 -3.41155147e-04\n",
      "  -1.09353099e-03]\n",
      " [ 3.74323358e-04 -6.38075074e-03  4.49816049e-04 -4.65788178e-04\n",
      "  -1.21298881e-03]\n",
      " [ 2.78895456e-04 -6.47227926e-03  3.48675858e-04 -5.64591659e-04\n",
      "  -1.30768848e-03]\n",
      " [ 2.03250618e-04 -6.54483555e-03  2.68503009e-04 -6.42913049e-04\n",
      "  -1.38275608e-03]\n",
      " [ 1.43290902e-04 -6.60234867e-03  2.04954219e-04 -7.04994807e-04\n",
      "  -1.44225825e-03]\n",
      " [ 9.57660153e-05 -6.64793532e-03  1.54584610e-04 -7.54201953e-04\n",
      "  -1.48942049e-03]\n",
      " [ 5.80984327e-05 -6.68406729e-03  1.14662357e-04 -7.93203060e-04\n",
      "  -1.52680065e-03]\n",
      " [ 2.82444255e-05 -6.71270460e-03  8.30213868e-05 -8.24114091e-04\n",
      "  -1.55642686e-03]\n",
      " [ 4.58369311e-06 -6.73540129e-03  5.79444076e-05 -8.48612640e-04\n",
      "  -1.57990705e-03]\n",
      " [-1.41682526e-05 -6.75338934e-03  3.80700418e-05 -8.68028631e-04\n",
      "  -1.59851591e-03]\n",
      " [-2.90296151e-05 -6.76764540e-03  2.23191374e-05 -8.83416295e-04\n",
      "  -1.61326388e-03]\n",
      " [-4.08074720e-05 -6.77894360e-03  9.83630669e-06 -8.95611272e-04\n",
      "  -1.62495187e-03]\n",
      " [-5.01415243e-05 -6.78789756e-03 -5.64424640e-08 -9.05275907e-04\n",
      "  -1.63421470e-03]\n",
      " [-5.75387910e-05 -6.79499362e-03 -7.89647751e-06 -9.12935169e-04\n",
      "  -1.64155552e-03]\n",
      " [-6.34011176e-05 -6.80061726e-03 -1.41096972e-05 -9.19005131e-04\n",
      "  -1.64737312e-03]\n",
      " [-6.80469860e-05 -6.80507398e-03 -1.90336466e-05 -9.23815552e-04\n",
      "  -1.65198354e-03]]\n"
     ]
    }
   ],
   "source": [
    "# Printing the result of both objects of validation curve\n",
    "\n",
    "print(train_scores)\n",
    "print(test_scores)"
   ]
  },
  {
   "cell_type": "code",
   "execution_count": 47,
   "id": "71c975e5",
   "metadata": {},
   "outputs": [],
   "source": [
    "# Calculating mean of the values across column\n",
    "\n",
    "train_mean = np.mean(train_scores, axis = 1)\n",
    "test_mean = np.mean(test_scores, axis = 1)"
   ]
  },
  {
   "cell_type": "code",
   "execution_count": 48,
   "id": "95612ec9",
   "metadata": {},
   "outputs": [],
   "source": [
    "# printing calculated mean values of r2 across column"
   ]
  },
  {
   "cell_type": "code",
   "execution_count": 49,
   "id": "7b54b6aa",
   "metadata": {},
   "outputs": [
    {
     "data": {
      "text/plain": [
       "array([5.14182479e-01, 5.14182479e-01, 5.14182479e-01, 5.14182479e-01,\n",
       "       5.14182479e-01, 5.14182479e-01, 5.14182479e-01, 5.14182478e-01,\n",
       "       5.14182478e-01, 5.14182478e-01, 5.14182477e-01, 5.14182475e-01,\n",
       "       5.14182473e-01, 5.14182470e-01, 5.14182465e-01, 5.14182456e-01,\n",
       "       5.14182443e-01, 5.14182422e-01, 5.14182388e-01, 5.14182334e-01,\n",
       "       5.14182248e-01, 5.14182111e-01, 5.14181893e-01, 5.14181547e-01,\n",
       "       5.14180996e-01, 5.14180119e-01, 5.14178727e-01, 5.14176514e-01,\n",
       "       5.14173001e-01, 5.14167426e-01, 5.14158588e-01, 5.14144593e-01,\n",
       "       5.14122464e-01, 5.14087536e-01, 5.14032528e-01, 5.13946141e-01,\n",
       "       5.13810946e-01, 5.13600283e-01, 5.13273782e-01, 5.12771082e-01,\n",
       "       5.12003332e-01, 5.10842267e-01, 5.09107111e-01, 5.06550501e-01,\n",
       "       5.02846073e-01, 4.97582222e-01, 4.90268356e-01, 4.80360680e-01,\n",
       "       4.67312958e-01, 4.50652561e-01, 4.30073697e-01, 4.05530000e-01,\n",
       "       3.77301781e-01, 3.46013741e-01, 3.12589330e-01, 2.78146118e-01,\n",
       "       2.43855468e-01, 2.10800711e-01, 1.79865901e-01, 1.51673986e-01,\n",
       "       1.26576285e-01, 1.04681863e-01, 8.59097219e-02, 7.00476567e-02,\n",
       "       5.68064260e-02, 4.58633038e-02, 3.68934194e-02, 2.95899458e-02,\n",
       "       2.36753918e-02, 1.89064711e-02, 1.50747289e-02, 1.20046243e-02,\n",
       "       9.55028061e-03, 7.59170733e-03, 6.03098905e-03, 4.78871929e-03,\n",
       "       3.80081464e-03, 3.01575543e-03, 2.39224716e-03, 1.89726965e-03,\n",
       "       1.50446849e-03, 1.19284062e-03, 9.45667234e-04, 7.49652252e-04,\n",
       "       5.94229313e-04, 4.71006238e-04, 3.73320722e-04, 2.95885675e-04,\n",
       "       2.34506566e-04, 1.85856406e-04, 1.47296793e-04, 1.16735698e-04,\n",
       "       9.25145039e-05, 7.33183351e-05, 5.81048914e-05, 4.60479899e-05,\n",
       "       3.64927828e-05, 2.89202444e-05, 2.29190114e-05, 1.81630579e-05])"
      ]
     },
     "execution_count": 49,
     "metadata": {},
     "output_type": "execute_result"
    }
   ],
   "source": [
    "train_mean"
   ]
  },
  {
   "cell_type": "code",
   "execution_count": 50,
   "id": "ddd83e5f",
   "metadata": {},
   "outputs": [
    {
     "data": {
      "text/plain": [
       "array([ 5.02941384e-01,  5.02941397e-01,  5.02941413e-01,  5.02941433e-01,\n",
       "        5.02941459e-01,  5.02941491e-01,  5.02941532e-01,  5.02941584e-01,\n",
       "        5.02941649e-01,  5.02941731e-01,  5.02941834e-01,  5.02941964e-01,\n",
       "        5.02942127e-01,  5.02942333e-01,  5.02942591e-01,  5.02942916e-01,\n",
       "        5.02943322e-01,  5.02943830e-01,  5.02944464e-01,  5.02945252e-01,\n",
       "        5.02946229e-01,  5.02947432e-01,  5.02948903e-01,  5.02950687e-01,\n",
       "        5.02952820e-01,  5.02955325e-01,  5.02958191e-01,  5.02961338e-01,\n",
       "        5.02964568e-01,  5.02967468e-01,  5.02969271e-01,  5.02968621e-01,\n",
       "        5.02963201e-01,  5.02949154e-01,  5.02920177e-01,  5.02866145e-01,\n",
       "        5.02771024e-01,  5.02609778e-01,  5.02343901e-01,  5.01915121e-01,\n",
       "        5.01236875e-01,  5.00183333e-01,  4.98576251e-01,  4.96170847e-01,\n",
       "        4.92643390e-01,  4.87585015e-01,  4.80508082e-01,  4.70872051e-01,\n",
       "        4.58134142e-01,  4.41824943e-01,  4.21640722e-01,  3.97534776e-01,\n",
       "        3.69783465e-01,  3.39003271e-01,  3.06105466e-01,  2.72192796e-01,\n",
       "        2.38421121e-01,  2.05859623e-01,  1.75381130e-01,  1.47601104e-01,\n",
       "        1.22867160e-01,  1.01287958e-01,  8.27845904e-02,  6.71485952e-02,\n",
       "        5.40953728e-02,  4.33071518e-02,  3.44639203e-02,  2.72633620e-02,\n",
       "        2.14320159e-02,  1.67300983e-02,  1.29521354e-02,  9.92508427e-03,\n",
       "        7.50513592e-03,  5.57399559e-03,  4.03512839e-03,  2.81024535e-03,\n",
       "        1.83616363e-03,  1.06208677e-03,  4.47299404e-04, -4.07558770e-05,\n",
       "       -4.28064314e-04, -7.35334924e-04, -9.79052491e-04, -1.17232707e-03,\n",
       "       -1.32557719e-03, -1.44707766e-03, -1.54339762e-03, -1.61975021e-03,\n",
       "       -1.68027132e-03, -1.72824143e-03, -1.76626204e-03, -1.79639595e-03,\n",
       "       -1.82027858e-03, -1.83920642e-03, -1.85420721e-03, -1.86609558e-03,\n",
       "       -1.87551723e-03, -1.88298392e-03, -1.88890127e-03, -1.89359074e-03])"
      ]
     },
     "execution_count": 50,
     "metadata": {},
     "output_type": "execute_result"
    }
   ],
   "source": [
    "test_mean"
   ]
  },
  {
   "cell_type": "code",
   "execution_count": 51,
   "id": "aee14012",
   "metadata": {},
   "outputs": [
    {
     "data": {
      "text/plain": [
       "<seaborn.axisgrid.JointGrid at 0x1e43d886c10>"
      ]
     },
     "execution_count": 51,
     "metadata": {},
     "output_type": "execute_result"
    },
    {
     "data": {
      "image/png": "[encoded data removed]",
      "text/plain": [
       "<Figure size 600x600 with 3 Axes>"
      ]
     },
     "metadata": {},
     "output_type": "display_data"
    }
   ],
   "source": [
    "# Visualization of the Validation curve (r2 vs alpha)\n",
    "\n",
    "sns.jointplot(x = np.log(param_range), y = test_mean)"
   ]
  },
  {
   "cell_type": "code",
   "execution_count": 52,
   "id": "f3395b94",
   "metadata": {},
   "outputs": [
    {
     "data": {
      "text/plain": [
       "(array([30], dtype=int64),)"
      ]
     },
     "execution_count": 52,
     "metadata": {},
     "output_type": "execute_result"
    }
   ],
   "source": [
    "# Finding the location of max mean test score value\n",
    "\n",
    "np.where(test_mean == max(test_mean))"
   ]
  },
  {
   "cell_type": "code",
   "execution_count": 53,
   "id": "f6e3b835",
   "metadata": {},
   "outputs": [
    {
     "data": {
      "text/plain": [
       "10.722672220103231"
      ]
     },
     "execution_count": 53,
     "metadata": {},
     "output_type": "execute_result"
    }
   ],
   "source": [
    "# Finding the lamda value of thid 30 index\n",
    "\n",
    "param_range[30]"
   ]
  },
  {
   "cell_type": "markdown",
   "id": "d20f88d1",
   "metadata": {},
   "source": [
    "this is the lamda value at which we are getting the max r-squared value."
   ]
  },
  {
   "cell_type": "code",
   "execution_count": 54,
   "id": "7b6bd51c",
   "metadata": {},
   "outputs": [],
   "source": [
    "# Creating Ridge Regression object using best lamda value\n",
    "\n",
    "lm_rid_best = Ridge(alpha = param_range[30])"
   ]
  },
  {
   "cell_type": "code",
   "execution_count": 55,
   "id": "c6223efd",
   "metadata": {},
   "outputs": [
    {
     "data": {
      "text/html": [
       "<style>#sk-container-id-3 {color: black;}#sk-container-id-3 pre{padding: 0;}#sk-container-id-3 div.sk-toggleable {background-color: white;}#sk-container-id-3 label.sk-toggleable__label {cursor: pointer;display: block;width: 100%;margin-bottom: 0;padding: 0.3em;box-sizing: border-box;text-align: center;}#sk-container-id-3 label.sk-toggleable__label-arrow:before {content: \"▸\";float: left;margin-right: 0.25em;color: #696969;}#sk-container-id-3 label.sk-toggleable__label-arrow:hover:before {color: black;}#sk-container-id-3 div.sk-estimator:hover label.sk-toggleable__label-arrow:before {color: black;}#sk-container-id-3 div.sk-toggleable__content {max-height: 0;max-width: 0;overflow: hidden;text-align: left;background-color: #f0f8ff;}#sk-container-id-3 div.sk-toggleable__content pre {margin: 0.2em;color: black;border-radius: 0.25em;background-color: #f0f8ff;}#sk-container-id-3 input.sk-toggleable__control:checked~div.sk-toggleable__content {max-height: 200px;max-width: 100%;overflow: auto;}#sk-container-id-3 input.sk-toggleable__control:checked~label.sk-toggleable__label-arrow:before {content: \"▾\";}#sk-container-id-3 div.sk-estimator input.sk-toggleable__control:checked~label.sk-toggleable__label {background-color: #d4ebff;}#sk-container-id-3 div.sk-label input.sk-toggleable__control:checked~label.sk-toggleable__label {background-color: #d4ebff;}#sk-container-id-3 input.sk-hidden--visually {border: 0;clip: rect(1px 1px 1px 1px);clip: rect(1px, 1px, 1px, 1px);height: 1px;margin: -1px;overflow: hidden;padding: 0;position: absolute;width: 1px;}#sk-container-id-3 div.sk-estimator {font-family: monospace;background-color: #f0f8ff;border: 1px dotted black;border-radius: 0.25em;box-sizing: border-box;margin-bottom: 0.5em;}#sk-container-id-3 div.sk-estimator:hover {background-color: #d4ebff;}#sk-container-id-3 div.sk-parallel-item::after {content: \"\";width: 100%;border-bottom: 1px solid gray;flex-grow: 1;}#sk-container-id-3 div.sk-label:hover label.sk-toggleable__label {background-color: #d4ebff;}#sk-container-id-3 div.sk-serial::before {content: \"\";position: absolute;border-left: 1px solid gray;box-sizing: border-box;top: 0;bottom: 0;left: 50%;z-index: 0;}#sk-container-id-3 div.sk-serial {display: flex;flex-direction: column;align-items: center;background-color: white;padding-right: 0.2em;padding-left: 0.2em;position: relative;}#sk-container-id-3 div.sk-item {position: relative;z-index: 1;}#sk-container-id-3 div.sk-parallel {display: flex;align-items: stretch;justify-content: center;background-color: white;position: relative;}#sk-container-id-3 div.sk-item::before, #sk-container-id-3 div.sk-parallel-item::before {content: \"\";position: absolute;border-left: 1px solid gray;box-sizing: border-box;top: 0;bottom: 0;left: 50%;z-index: -1;}#sk-container-id-3 div.sk-parallel-item {display: flex;flex-direction: column;z-index: 1;position: relative;background-color: white;}#sk-container-id-3 div.sk-parallel-item:first-child::after {align-self: flex-end;width: 50%;}#sk-container-id-3 div.sk-parallel-item:last-child::after {align-self: flex-start;width: 50%;}#sk-container-id-3 div.sk-parallel-item:only-child::after {width: 0;}#sk-container-id-3 div.sk-dashed-wrapped {border: 1px dashed gray;margin: 0 0.4em 0.5em 0.4em;box-sizing: border-box;padding-bottom: 0.4em;background-color: white;}#sk-container-id-3 div.sk-label label {font-family: monospace;font-weight: bold;display: inline-block;line-height: 1.2em;}#sk-container-id-3 div.sk-label-container {text-align: center;}#sk-container-id-3 div.sk-container {/* jupyter's `normalize.less` sets `[hidden] { display: none; }` but bootstrap.min.css set `[hidden] { display: none !important; }` so we also need the `!important` here to be able to override the default hidden behavior on the sphinx rendered scikit-learn.org. See: https://github.com/scikit-learn/scikit-learn/issues/21755 */display: inline-block !important;position: relative;}#sk-container-id-3 div.sk-text-repr-fallback {display: none;}</style><div id=\"sk-container-id-3\" class=\"sk-top-container\"><div class=\"sk-text-repr-fallback\"><pre>Ridge(alpha=10.722672220103231)</pre><b>In a Jupyter environment, please rerun this cell to show the HTML representation or trust the notebook. <br />On GitHub, the HTML representation is unable to render, please try loading this page with nbviewer.org.</b></div><div class=\"sk-container\" hidden><div class=\"sk-item\"><div class=\"sk-estimator sk-toggleable\"><input class=\"sk-toggleable__control sk-hidden--visually\" id=\"sk-estimator-id-3\" type=\"checkbox\" checked><label for=\"sk-estimator-id-3\" class=\"sk-toggleable__label sk-toggleable__label-arrow\">Ridge</label><div class=\"sk-toggleable__content\"><pre>Ridge(alpha=10.722672220103231)</pre></div></div></div></div></div>"
      ],
      "text/plain": [
       "Ridge(alpha=10.722672220103231)"
      ]
     },
     "execution_count": 55,
     "metadata": {},
     "output_type": "execute_result"
    }
   ],
   "source": [
    "# Fitting our best model on training data set\n",
    "\n",
    "lm_rid_best.fit(X_train_s, Y_train)"
   ]
  },
  {
   "cell_type": "code",
   "execution_count": 56,
   "id": "28caad7f",
   "metadata": {},
   "outputs": [
    {
     "name": "stdout",
     "output_type": "stream",
     "text": [
      "r2_score test set with best alpha value is 0.5924776982033093\n",
      "r2_score train set with best alpha value is 0.5137594243529842\n",
      "MSE of test set with best alpha value is 77529067.62698011\n"
     ]
    }
   ],
   "source": [
    "# Calcualting model accuracy for test and train data\n",
    "\n",
    "print('r2_score test set with best alpha value is', r2_score(Y_test, lm_rid_best.predict(X_test_s)))\n",
    "print('r2_score train set with best alpha value is', r2_score(Y_train, lm_rid_best.predict(X_train_s)))\n",
    "print('MSE of test set with best alpha value is', mean_squared_error(Y_test, lm_rid_best.predict(X_test_s)))\n"
   ]
  },
  {
   "cell_type": "markdown",
   "id": "95947d5e",
   "metadata": {},
   "source": [
    "#### Model Interpretation / evaluation"
   ]
  },
  {
   "cell_type": "markdown",
   "id": "1590e927",
   "metadata": {},
   "source": [
    "* In general, it is preferable that the Test R2 score be greater than the Train R2 value. It implies that the model is reasonably generalizing to new, unforeseen data.\n",
    "* Overall, the model's performance shows that it has some predictive potential and is not considerably overfitting to the training data, with R-squared values of 0.5924 (Test) and 0.5137 (Train)."
   ]
  },
  {
   "cell_type": "markdown",
   "id": "566d41f6",
   "metadata": {},
   "source": [
    "--------------------------------------------------------------------------------------------------------------------------------"
   ]
  },
  {
   "cell_type": "markdown",
   "id": "1a30bd82",
   "metadata": {},
   "source": [
    "* ## Lasso regression"
   ]
  },
  {
   "cell_type": "code",
   "execution_count": 57,
   "id": "cadf0061",
   "metadata": {},
   "outputs": [],
   "source": [
    "# Creating Ridge Regression model object\n",
    "\n",
    "lm_lasso = Lasso(alpha = 0.5)"
   ]
  },
  {
   "cell_type": "code",
   "execution_count": 58,
   "id": "bd22064c",
   "metadata": {},
   "outputs": [
    {
     "data": {
      "text/html": [
       "<style>#sk-container-id-4 {color: black;}#sk-container-id-4 pre{padding: 0;}#sk-container-id-4 div.sk-toggleable {background-color: white;}#sk-container-id-4 label.sk-toggleable__label {cursor: pointer;display: block;width: 100%;margin-bottom: 0;padding: 0.3em;box-sizing: border-box;text-align: center;}#sk-container-id-4 label.sk-toggleable__label-arrow:before {content: \"▸\";float: left;margin-right: 0.25em;color: #696969;}#sk-container-id-4 label.sk-toggleable__label-arrow:hover:before {color: black;}#sk-container-id-4 div.sk-estimator:hover label.sk-toggleable__label-arrow:before {color: black;}#sk-container-id-4 div.sk-toggleable__content {max-height: 0;max-width: 0;overflow: hidden;text-align: left;background-color: #f0f8ff;}#sk-container-id-4 div.sk-toggleable__content pre {margin: 0.2em;color: black;border-radius: 0.25em;background-color: #f0f8ff;}#sk-container-id-4 input.sk-toggleable__control:checked~div.sk-toggleable__content {max-height: 200px;max-width: 100%;overflow: auto;}#sk-container-id-4 input.sk-toggleable__control:checked~label.sk-toggleable__label-arrow:before {content: \"▾\";}#sk-container-id-4 div.sk-estimator input.sk-toggleable__control:checked~label.sk-toggleable__label {background-color: #d4ebff;}#sk-container-id-4 div.sk-label input.sk-toggleable__control:checked~label.sk-toggleable__label {background-color: #d4ebff;}#sk-container-id-4 input.sk-hidden--visually {border: 0;clip: rect(1px 1px 1px 1px);clip: rect(1px, 1px, 1px, 1px);height: 1px;margin: -1px;overflow: hidden;padding: 0;position: absolute;width: 1px;}#sk-container-id-4 div.sk-estimator {font-family: monospace;background-color: #f0f8ff;border: 1px dotted black;border-radius: 0.25em;box-sizing: border-box;margin-bottom: 0.5em;}#sk-container-id-4 div.sk-estimator:hover {background-color: #d4ebff;}#sk-container-id-4 div.sk-parallel-item::after {content: \"\";width: 100%;border-bottom: 1px solid gray;flex-grow: 1;}#sk-container-id-4 div.sk-label:hover label.sk-toggleable__label {background-color: #d4ebff;}#sk-container-id-4 div.sk-serial::before {content: \"\";position: absolute;border-left: 1px solid gray;box-sizing: border-box;top: 0;bottom: 0;left: 50%;z-index: 0;}#sk-container-id-4 div.sk-serial {display: flex;flex-direction: column;align-items: center;background-color: white;padding-right: 0.2em;padding-left: 0.2em;position: relative;}#sk-container-id-4 div.sk-item {position: relative;z-index: 1;}#sk-container-id-4 div.sk-parallel {display: flex;align-items: stretch;justify-content: center;background-color: white;position: relative;}#sk-container-id-4 div.sk-item::before, #sk-container-id-4 div.sk-parallel-item::before {content: \"\";position: absolute;border-left: 1px solid gray;box-sizing: border-box;top: 0;bottom: 0;left: 50%;z-index: -1;}#sk-container-id-4 div.sk-parallel-item {display: flex;flex-direction: column;z-index: 1;position: relative;background-color: white;}#sk-container-id-4 div.sk-parallel-item:first-child::after {align-self: flex-end;width: 50%;}#sk-container-id-4 div.sk-parallel-item:last-child::after {align-self: flex-start;width: 50%;}#sk-container-id-4 div.sk-parallel-item:only-child::after {width: 0;}#sk-container-id-4 div.sk-dashed-wrapped {border: 1px dashed gray;margin: 0 0.4em 0.5em 0.4em;box-sizing: border-box;padding-bottom: 0.4em;background-color: white;}#sk-container-id-4 div.sk-label label {font-family: monospace;font-weight: bold;display: inline-block;line-height: 1.2em;}#sk-container-id-4 div.sk-label-container {text-align: center;}#sk-container-id-4 div.sk-container {/* jupyter's `normalize.less` sets `[hidden] { display: none; }` but bootstrap.min.css set `[hidden] { display: none !important; }` so we also need the `!important` here to be able to override the default hidden behavior on the sphinx rendered scikit-learn.org. See: https://github.com/scikit-learn/scikit-learn/issues/21755 */display: inline-block !important;position: relative;}#sk-container-id-4 div.sk-text-repr-fallback {display: none;}</style><div id=\"sk-container-id-4\" class=\"sk-top-container\"><div class=\"sk-text-repr-fallback\"><pre>Lasso(alpha=0.5)</pre><b>In a Jupyter environment, please rerun this cell to show the HTML representation or trust the notebook. <br />On GitHub, the HTML representation is unable to render, please try loading this page with nbviewer.org.</b></div><div class=\"sk-container\" hidden><div class=\"sk-item\"><div class=\"sk-estimator sk-toggleable\"><input class=\"sk-toggleable__control sk-hidden--visually\" id=\"sk-estimator-id-4\" type=\"checkbox\" checked><label for=\"sk-estimator-id-4\" class=\"sk-toggleable__label sk-toggleable__label-arrow\">Lasso</label><div class=\"sk-toggleable__content\"><pre>Lasso(alpha=0.5)</pre></div></div></div></div></div>"
      ],
      "text/plain": [
       "Lasso(alpha=0.5)"
      ]
     },
     "execution_count": 58,
     "metadata": {},
     "output_type": "execute_result"
    }
   ],
   "source": [
    "# Fitting our model on Train data set \n",
    "\n",
    "lm_lasso.fit(X_train_s, Y_train)"
   ]
  },
  {
   "cell_type": "code",
   "execution_count": 59,
   "id": "7d83a898",
   "metadata": {},
   "outputs": [
    {
     "name": "stdout",
     "output_type": "stream",
     "text": [
      "r2_Score of test set : 0.5933343840895651\n",
      "r2_Score of train set : 0.5137747025114026\n",
      "MSE of test set : 77366087.44720155\n"
     ]
    }
   ],
   "source": [
    "# Calcualting model accuracy for test and train data\n",
    "\n",
    "print('r2_Score of test set :', r2_score(Y_test, lm_lasso.predict(X_test_s)))\n",
    "print('r2_Score of train set :', r2_score(Y_train, lm_lasso.predict(X_train_s)))\n",
    "print('MSE of test set :', mean_squared_error(Y_test, lm_lasso.predict(X_test_s)))"
   ]
  },
  {
   "cell_type": "markdown",
   "id": "2df62108",
   "metadata": {},
   "source": [
    "#### Model Interpretation / evaluation"
   ]
  },
  {
   "cell_type": "markdown",
   "id": "de8b8bad",
   "metadata": {},
   "source": [
    "* The test data's R2 score is 0.5933, which shows that a sizable proportion of the variation in the test data is captured by the model.\n",
    "\n",
    "* The model explains a moderate portion of the variation in the training data, according to the R2 score on the train data of 0.5137.\n",
    "\n",
    "* It is typically preferred that the R2 score for the test data be greater than the R2 value for the train data. It implies that the model is reasonably generalizing to fresh, unforeseen facts.\n",
    "\n",
    "* The model's predictions appear to be pretty close to the actual values based on the MSE of 77366087.44720155."
   ]
  },
  {
   "cell_type": "markdown",
   "id": "e6144ea3",
   "metadata": {},
   "source": [
    "--------------------------------------------------------------------------------------------------------------------------------"
   ]
  },
  {
   "cell_type": "markdown",
   "id": "bb222b54",
   "metadata": {},
   "source": [
    "* ## KNN (K- Nearest Neighbors) Regression"
   ]
  },
  {
   "cell_type": "code",
   "execution_count": 60,
   "id": "54a41b17",
   "metadata": {},
   "outputs": [],
   "source": [
    "# Creating scaler object which will store the scaling information of our X train\n",
    "\n",
    "scaler = preprocessing.StandardScaler().fit(X_train)"
   ]
  },
  {
   "cell_type": "code",
   "execution_count": 61,
   "id": "ff8244fd",
   "metadata": {},
   "outputs": [],
   "source": [
    "# Transforming our X_train to our X_train_scaler\n",
    "\n",
    "X_train_s = scaler.transform(X_train)"
   ]
  },
  {
   "cell_type": "code",
   "execution_count": 62,
   "id": "727838b0",
   "metadata": {},
   "outputs": [],
   "source": [
    "# Transforming our X_test to our X_test_scaler\n",
    "\n",
    "X_test_s = scaler.transform(X_test)"
   ]
  },
  {
   "cell_type": "code",
   "execution_count": 63,
   "id": "e122bdf4",
   "metadata": {},
   "outputs": [],
   "source": [
    "# Importing KNN regressor from sklearn\n",
    "\n",
    "from sklearn.neighbors import KNeighborsRegressor"
   ]
  },
  {
   "cell_type": "code",
   "execution_count": 64,
   "id": "636059a6",
   "metadata": {},
   "outputs": [],
   "source": [
    "# Creating KNN regressor model Object\n",
    "\n",
    "knn_reg = KNeighborsRegressor(n_neighbors = 3)"
   ]
  },
  {
   "cell_type": "code",
   "execution_count": 65,
   "id": "ef997125",
   "metadata": {},
   "outputs": [
    {
     "data": {
      "text/html": [
       "<style>#sk-container-id-5 {color: black;}#sk-container-id-5 pre{padding: 0;}#sk-container-id-5 div.sk-toggleable {background-color: white;}#sk-container-id-5 label.sk-toggleable__label {cursor: pointer;display: block;width: 100%;margin-bottom: 0;padding: 0.3em;box-sizing: border-box;text-align: center;}#sk-container-id-5 label.sk-toggleable__label-arrow:before {content: \"▸\";float: left;margin-right: 0.25em;color: #696969;}#sk-container-id-5 label.sk-toggleable__label-arrow:hover:before {color: black;}#sk-container-id-5 div.sk-estimator:hover label.sk-toggleable__label-arrow:before {color: black;}#sk-container-id-5 div.sk-toggleable__content {max-height: 0;max-width: 0;overflow: hidden;text-align: left;background-color: #f0f8ff;}#sk-container-id-5 div.sk-toggleable__content pre {margin: 0.2em;color: black;border-radius: 0.25em;background-color: #f0f8ff;}#sk-container-id-5 input.sk-toggleable__control:checked~div.sk-toggleable__content {max-height: 200px;max-width: 100%;overflow: auto;}#sk-container-id-5 input.sk-toggleable__control:checked~label.sk-toggleable__label-arrow:before {content: \"▾\";}#sk-container-id-5 div.sk-estimator input.sk-toggleable__control:checked~label.sk-toggleable__label {background-color: #d4ebff;}#sk-container-id-5 div.sk-label input.sk-toggleable__control:checked~label.sk-toggleable__label {background-color: #d4ebff;}#sk-container-id-5 input.sk-hidden--visually {border: 0;clip: rect(1px 1px 1px 1px);clip: rect(1px, 1px, 1px, 1px);height: 1px;margin: -1px;overflow: hidden;padding: 0;position: absolute;width: 1px;}#sk-container-id-5 div.sk-estimator {font-family: monospace;background-color: #f0f8ff;border: 1px dotted black;border-radius: 0.25em;box-sizing: border-box;margin-bottom: 0.5em;}#sk-container-id-5 div.sk-estimator:hover {background-color: #d4ebff;}#sk-container-id-5 div.sk-parallel-item::after {content: \"\";width: 100%;border-bottom: 1px solid gray;flex-grow: 1;}#sk-container-id-5 div.sk-label:hover label.sk-toggleable__label {background-color: #d4ebff;}#sk-container-id-5 div.sk-serial::before {content: \"\";position: absolute;border-left: 1px solid gray;box-sizing: border-box;top: 0;bottom: 0;left: 50%;z-index: 0;}#sk-container-id-5 div.sk-serial {display: flex;flex-direction: column;align-items: center;background-color: white;padding-right: 0.2em;padding-left: 0.2em;position: relative;}#sk-container-id-5 div.sk-item {position: relative;z-index: 1;}#sk-container-id-5 div.sk-parallel {display: flex;align-items: stretch;justify-content: center;background-color: white;position: relative;}#sk-container-id-5 div.sk-item::before, #sk-container-id-5 div.sk-parallel-item::before {content: \"\";position: absolute;border-left: 1px solid gray;box-sizing: border-box;top: 0;bottom: 0;left: 50%;z-index: -1;}#sk-container-id-5 div.sk-parallel-item {display: flex;flex-direction: column;z-index: 1;position: relative;background-color: white;}#sk-container-id-5 div.sk-parallel-item:first-child::after {align-self: flex-end;width: 50%;}#sk-container-id-5 div.sk-parallel-item:last-child::after {align-self: flex-start;width: 50%;}#sk-container-id-5 div.sk-parallel-item:only-child::after {width: 0;}#sk-container-id-5 div.sk-dashed-wrapped {border: 1px dashed gray;margin: 0 0.4em 0.5em 0.4em;box-sizing: border-box;padding-bottom: 0.4em;background-color: white;}#sk-container-id-5 div.sk-label label {font-family: monospace;font-weight: bold;display: inline-block;line-height: 1.2em;}#sk-container-id-5 div.sk-label-container {text-align: center;}#sk-container-id-5 div.sk-container {/* jupyter's `normalize.less` sets `[hidden] { display: none; }` but bootstrap.min.css set `[hidden] { display: none !important; }` so we also need the `!important` here to be able to override the default hidden behavior on the sphinx rendered scikit-learn.org. See: https://github.com/scikit-learn/scikit-learn/issues/21755 */display: inline-block !important;position: relative;}#sk-container-id-5 div.sk-text-repr-fallback {display: none;}</style><div id=\"sk-container-id-5\" class=\"sk-top-container\"><div class=\"sk-text-repr-fallback\"><pre>KNeighborsRegressor(n_neighbors=3)</pre><b>In a Jupyter environment, please rerun this cell to show the HTML representation or trust the notebook. <br />On GitHub, the HTML representation is unable to render, please try loading this page with nbviewer.org.</b></div><div class=\"sk-container\" hidden><div class=\"sk-item\"><div class=\"sk-estimator sk-toggleable\"><input class=\"sk-toggleable__control sk-hidden--visually\" id=\"sk-estimator-id-5\" type=\"checkbox\" checked><label for=\"sk-estimator-id-5\" class=\"sk-toggleable__label sk-toggleable__label-arrow\">KNeighborsRegressor</label><div class=\"sk-toggleable__content\"><pre>KNeighborsRegressor(n_neighbors=3)</pre></div></div></div></div></div>"
      ],
      "text/plain": [
       "KNeighborsRegressor(n_neighbors=3)"
      ]
     },
     "execution_count": 65,
     "metadata": {},
     "output_type": "execute_result"
    }
   ],
   "source": [
    "# Fitting our KNN model over train data set\n",
    "\n",
    "knn_reg.fit(X_train_s, Y_train)"
   ]
  },
  {
   "cell_type": "code",
   "execution_count": 66,
   "id": "9c53fa8b",
   "metadata": {},
   "outputs": [
    {
     "name": "stdout",
     "output_type": "stream",
     "text": [
      "Test set r2 score:  0.5314437638443239\n",
      "Train set r2 score:  0.7195551254349155\n",
      "test set MSE:  42160461.438740335\n"
     ]
    }
   ],
   "source": [
    "# Calcualting model accuracy for test and train data\n",
    "\n",
    "print('Test set r2 score: ', r2_score(Y_test, knn_reg.predict(X_test_s)))\n",
    "print('Train set r2 score: ', r2_score(Y_train, knn_reg.predict(X_train_s)))\n",
    "print('test set MSE: ', mean_squared_error(Y_train, knn_reg.predict(X_train_s)))"
   ]
  },
  {
   "cell_type": "markdown",
   "id": "4c251c31",
   "metadata": {},
   "source": [
    "#### Model Interpretation / evaluation"
   ]
  },
  {
   "cell_type": "markdown",
   "id": "26cc164e",
   "metadata": {},
   "source": [
    "* KNN Regression has a Test R-squared Score of 0.53144 and a Train R-squared Score of 0.7195. The Mean Squared Error (MSE) is also 42160461.438740335. Based on these data, the KNN Regression model looks to be overfitting, as the Train R-squared score is greater than the Test R-squared score. This is confirmed further by the relatively high MSE, which indicates that the model's predictions differ considerably from the actual values.\n",
    "\n",
    "* When the Train R-squared score exceeds the Test R-squared score, it indicates that the model is remembering the training data rather than generalizing effectively to new, unknown data. Because the KNN method is non-parametric, it can be sensitive to the size and distribution of the data points, and it may not be the best choice."
   ]
  },
  {
   "cell_type": "markdown",
   "id": "764ac3ea",
   "metadata": {},
   "source": [
    "* ### KNN - Using Grid search"
   ]
  },
  {
   "cell_type": "code",
   "execution_count": 67,
   "id": "a4e5099a",
   "metadata": {},
   "outputs": [],
   "source": [
    "# Importing Grid Search model from Sklearn\n",
    "\n",
    "from sklearn.model_selection import GridSearchCV"
   ]
  },
  {
   "cell_type": "code",
   "execution_count": 68,
   "id": "b268079c",
   "metadata": {},
   "outputs": [],
   "source": [
    "# Creating KNN model regressor object\n",
    "\n",
    "knn_reg2 = KNeighborsRegressor(n_jobs = -1)"
   ]
  },
  {
   "cell_type": "code",
   "execution_count": 69,
   "id": "8ed34a79",
   "metadata": {},
   "outputs": [],
   "source": [
    "# Creating param grid for GridSearchCV function\n",
    "\n",
    "param_grid = {'n_neighbors' : [1,2,3,5,6,7,8,9] } # Different values of K "
   ]
  },
  {
   "cell_type": "code",
   "execution_count": 70,
   "id": "fbff8245",
   "metadata": {},
   "outputs": [],
   "source": [
    "# Creating Grid Search function by estimating KNN model.\n",
    "\n",
    "grid_search = GridSearchCV(knn_reg2, param_grid, n_jobs = -1, cv = 5, scoring = 'r2')"
   ]
  },
  {
   "cell_type": "code",
   "execution_count": 71,
   "id": "85cfe37f",
   "metadata": {},
   "outputs": [
    {
     "data": {
      "text/html": [
       "<style>#sk-container-id-6 {color: black;}#sk-container-id-6 pre{padding: 0;}#sk-container-id-6 div.sk-toggleable {background-color: white;}#sk-container-id-6 label.sk-toggleable__label {cursor: pointer;display: block;width: 100%;margin-bottom: 0;padding: 0.3em;box-sizing: border-box;text-align: center;}#sk-container-id-6 label.sk-toggleable__label-arrow:before {content: \"▸\";float: left;margin-right: 0.25em;color: #696969;}#sk-container-id-6 label.sk-toggleable__label-arrow:hover:before {color: black;}#sk-container-id-6 div.sk-estimator:hover label.sk-toggleable__label-arrow:before {color: black;}#sk-container-id-6 div.sk-toggleable__content {max-height: 0;max-width: 0;overflow: hidden;text-align: left;background-color: #f0f8ff;}#sk-container-id-6 div.sk-toggleable__content pre {margin: 0.2em;color: black;border-radius: 0.25em;background-color: #f0f8ff;}#sk-container-id-6 input.sk-toggleable__control:checked~div.sk-toggleable__content {max-height: 200px;max-width: 100%;overflow: auto;}#sk-container-id-6 input.sk-toggleable__control:checked~label.sk-toggleable__label-arrow:before {content: \"▾\";}#sk-container-id-6 div.sk-estimator input.sk-toggleable__control:checked~label.sk-toggleable__label {background-color: #d4ebff;}#sk-container-id-6 div.sk-label input.sk-toggleable__control:checked~label.sk-toggleable__label {background-color: #d4ebff;}#sk-container-id-6 input.sk-hidden--visually {border: 0;clip: rect(1px 1px 1px 1px);clip: rect(1px, 1px, 1px, 1px);height: 1px;margin: -1px;overflow: hidden;padding: 0;position: absolute;width: 1px;}#sk-container-id-6 div.sk-estimator {font-family: monospace;background-color: #f0f8ff;border: 1px dotted black;border-radius: 0.25em;box-sizing: border-box;margin-bottom: 0.5em;}#sk-container-id-6 div.sk-estimator:hover {background-color: #d4ebff;}#sk-container-id-6 div.sk-parallel-item::after {content: \"\";width: 100%;border-bottom: 1px solid gray;flex-grow: 1;}#sk-container-id-6 div.sk-label:hover label.sk-toggleable__label {background-color: #d4ebff;}#sk-container-id-6 div.sk-serial::before {content: \"\";position: absolute;border-left: 1px solid gray;box-sizing: border-box;top: 0;bottom: 0;left: 50%;z-index: 0;}#sk-container-id-6 div.sk-serial {display: flex;flex-direction: column;align-items: center;background-color: white;padding-right: 0.2em;padding-left: 0.2em;position: relative;}#sk-container-id-6 div.sk-item {position: relative;z-index: 1;}#sk-container-id-6 div.sk-parallel {display: flex;align-items: stretch;justify-content: center;background-color: white;position: relative;}#sk-container-id-6 div.sk-item::before, #sk-container-id-6 div.sk-parallel-item::before {content: \"\";position: absolute;border-left: 1px solid gray;box-sizing: border-box;top: 0;bottom: 0;left: 50%;z-index: -1;}#sk-container-id-6 div.sk-parallel-item {display: flex;flex-direction: column;z-index: 1;position: relative;background-color: white;}#sk-container-id-6 div.sk-parallel-item:first-child::after {align-self: flex-end;width: 50%;}#sk-container-id-6 div.sk-parallel-item:last-child::after {align-self: flex-start;width: 50%;}#sk-container-id-6 div.sk-parallel-item:only-child::after {width: 0;}#sk-container-id-6 div.sk-dashed-wrapped {border: 1px dashed gray;margin: 0 0.4em 0.5em 0.4em;box-sizing: border-box;padding-bottom: 0.4em;background-color: white;}#sk-container-id-6 div.sk-label label {font-family: monospace;font-weight: bold;display: inline-block;line-height: 1.2em;}#sk-container-id-6 div.sk-label-container {text-align: center;}#sk-container-id-6 div.sk-container {/* jupyter's `normalize.less` sets `[hidden] { display: none; }` but bootstrap.min.css set `[hidden] { display: none !important; }` so we also need the `!important` here to be able to override the default hidden behavior on the sphinx rendered scikit-learn.org. See: https://github.com/scikit-learn/scikit-learn/issues/21755 */display: inline-block !important;position: relative;}#sk-container-id-6 div.sk-text-repr-fallback {display: none;}</style><div id=\"sk-container-id-6\" class=\"sk-top-container\"><div class=\"sk-text-repr-fallback\"><pre>GridSearchCV(cv=5, estimator=KNeighborsRegressor(n_jobs=-1), n_jobs=-1,\n",
       "             param_grid={&#x27;n_neighbors&#x27;: [1, 2, 3, 5, 6, 7, 8, 9]},\n",
       "             scoring=&#x27;r2&#x27;)</pre><b>In a Jupyter environment, please rerun this cell to show the HTML representation or trust the notebook. <br />On GitHub, the HTML representation is unable to render, please try loading this page with nbviewer.org.</b></div><div class=\"sk-container\" hidden><div class=\"sk-item sk-dashed-wrapped\"><div class=\"sk-label-container\"><div class=\"sk-label sk-toggleable\"><input class=\"sk-toggleable__control sk-hidden--visually\" id=\"sk-estimator-id-6\" type=\"checkbox\" ><label for=\"sk-estimator-id-6\" class=\"sk-toggleable__label sk-toggleable__label-arrow\">GridSearchCV</label><div class=\"sk-toggleable__content\"><pre>GridSearchCV(cv=5, estimator=KNeighborsRegressor(n_jobs=-1), n_jobs=-1,\n",
       "             param_grid={&#x27;n_neighbors&#x27;: [1, 2, 3, 5, 6, 7, 8, 9]},\n",
       "             scoring=&#x27;r2&#x27;)</pre></div></div></div><div class=\"sk-parallel\"><div class=\"sk-parallel-item\"><div class=\"sk-item\"><div class=\"sk-label-container\"><div class=\"sk-label sk-toggleable\"><input class=\"sk-toggleable__control sk-hidden--visually\" id=\"sk-estimator-id-7\" type=\"checkbox\" ><label for=\"sk-estimator-id-7\" class=\"sk-toggleable__label sk-toggleable__label-arrow\">estimator: KNeighborsRegressor</label><div class=\"sk-toggleable__content\"><pre>KNeighborsRegressor(n_jobs=-1)</pre></div></div></div><div class=\"sk-serial\"><div class=\"sk-item\"><div class=\"sk-estimator sk-toggleable\"><input class=\"sk-toggleable__control sk-hidden--visually\" id=\"sk-estimator-id-8\" type=\"checkbox\" ><label for=\"sk-estimator-id-8\" class=\"sk-toggleable__label sk-toggleable__label-arrow\">KNeighborsRegressor</label><div class=\"sk-toggleable__content\"><pre>KNeighborsRegressor(n_jobs=-1)</pre></div></div></div></div></div></div></div></div></div></div>"
      ],
      "text/plain": [
       "GridSearchCV(cv=5, estimator=KNeighborsRegressor(n_jobs=-1), n_jobs=-1,\n",
       "             param_grid={'n_neighbors': [1, 2, 3, 5, 6, 7, 8, 9]},\n",
       "             scoring='r2')"
      ]
     },
     "execution_count": 71,
     "metadata": {},
     "output_type": "execute_result"
    }
   ],
   "source": [
    "# Training our model over Train data set\n",
    "\n",
    "grid_search.fit(X_train_s, Y_train)"
   ]
  },
  {
   "cell_type": "code",
   "execution_count": 72,
   "id": "506500fb",
   "metadata": {},
   "outputs": [
    {
     "data": {
      "text/plain": [
       "{'n_neighbors': 9}"
      ]
     },
     "execution_count": 72,
     "metadata": {},
     "output_type": "execute_result"
    }
   ],
   "source": [
    "# Calculating & displaying best params\n",
    "\n",
    "grid_search.best_params_"
   ]
  },
  {
   "cell_type": "code",
   "execution_count": 73,
   "id": "92b22a54",
   "metadata": {},
   "outputs": [],
   "source": [
    "# Calculating and storing best estimator model in a new object\n",
    "\n",
    "grid_knn = grid_search.best_estimator_"
   ]
  },
  {
   "cell_type": "code",
   "execution_count": 74,
   "id": "911e00c9",
   "metadata": {},
   "outputs": [
    {
     "name": "stdout",
     "output_type": "stream",
     "text": [
      "Test set r2 score:  0.6177763546987296\n",
      "Train set r2 score:  0.6323815314777734\n",
      "test set MSE:  55265635.68093727\n"
     ]
    }
   ],
   "source": [
    "# Calcualting model accuracy for test and train data\n",
    "\n",
    "print('Test set r2 score: ', r2_score(Y_test, grid_knn.predict(X_test_s)))\n",
    "print('Train set r2 score: ', r2_score(Y_train, grid_knn.predict(X_train_s)))\n",
    "print('test set MSE: ', mean_squared_error(Y_train, grid_knn.predict(X_train_s)))"
   ]
  },
  {
   "cell_type": "markdown",
   "id": "9adc6e54",
   "metadata": {},
   "source": [
    "#### Model Interpretation / evaluation"
   ]
  },
  {
   "cell_type": "markdown",
   "id": "ad893a1f",
   "metadata": {},
   "source": [
    "* Our KNN model performs reasonably well on both the training and test datasets, as indicated by the R² scores and the test set MSE.\n",
    "\n",
    "* The R² scores of approximately 0.632 (train) and 0.617 (test) suggest that model explains a substantial portion of the variance in both datasets.\n",
    "\n",
    "* The test set MSE of 55265635.68093727 indicates that our model's predictions on the test data are reasonably accurate, but there may still be some room for improvement, depending on the specific context of problem."
   ]
  },
  {
   "cell_type": "markdown",
   "id": "08add02f",
   "metadata": {},
   "source": [
    "--------------------------------------------------------------------------------------------------------------------------------"
   ]
  },
  {
   "cell_type": "markdown",
   "id": "d405b34a",
   "metadata": {},
   "source": [
    "* ## Random Forest"
   ]
  },
  {
   "cell_type": "code",
   "execution_count": 75,
   "id": "bb7fe0cf",
   "metadata": {},
   "outputs": [],
   "source": [
    "# Importing Random forest regreesor model\n",
    "\n",
    "from sklearn.ensemble import RandomForestRegressor"
   ]
  },
  {
   "cell_type": "code",
   "execution_count": 76,
   "id": "f30fc004",
   "metadata": {},
   "outputs": [],
   "source": [
    "# Creating scaler object which will store the scaling information of our X_train\n",
    "\n",
    "scaler = preprocessing.StandardScaler().fit(X_train)"
   ]
  },
  {
   "cell_type": "code",
   "execution_count": 77,
   "id": "7f154321",
   "metadata": {},
   "outputs": [],
   "source": [
    "# Transforming our X_train to our X_train_scaler\n",
    "\n",
    "X_train_s = scaler.transform(X_train)"
   ]
  },
  {
   "cell_type": "code",
   "execution_count": 78,
   "id": "17ef7c0f",
   "metadata": {},
   "outputs": [],
   "source": [
    "# Transforming our X_test to our X_test_scaler\n",
    "\n",
    "X_test_s = scaler.transform(X_test)"
   ]
  },
  {
   "cell_type": "code",
   "execution_count": 79,
   "id": "a31c6118",
   "metadata": {},
   "outputs": [],
   "source": [
    "#Creating Random forest model object\n",
    "\n",
    "rf_reg = RandomForestRegressor(n_estimators = 1000, n_jobs = -1, random_state = 42)"
   ]
  },
  {
   "cell_type": "code",
   "execution_count": 80,
   "id": "ec6d056f",
   "metadata": {},
   "outputs": [
    {
     "data": {
      "text/html": [
       "<style>#sk-container-id-7 {color: black;}#sk-container-id-7 pre{padding: 0;}#sk-container-id-7 div.sk-toggleable {background-color: white;}#sk-container-id-7 label.sk-toggleable__label {cursor: pointer;display: block;width: 100%;margin-bottom: 0;padding: 0.3em;box-sizing: border-box;text-align: center;}#sk-container-id-7 label.sk-toggleable__label-arrow:before {content: \"▸\";float: left;margin-right: 0.25em;color: #696969;}#sk-container-id-7 label.sk-toggleable__label-arrow:hover:before {color: black;}#sk-container-id-7 div.sk-estimator:hover label.sk-toggleable__label-arrow:before {color: black;}#sk-container-id-7 div.sk-toggleable__content {max-height: 0;max-width: 0;overflow: hidden;text-align: left;background-color: #f0f8ff;}#sk-container-id-7 div.sk-toggleable__content pre {margin: 0.2em;color: black;border-radius: 0.25em;background-color: #f0f8ff;}#sk-container-id-7 input.sk-toggleable__control:checked~div.sk-toggleable__content {max-height: 200px;max-width: 100%;overflow: auto;}#sk-container-id-7 input.sk-toggleable__control:checked~label.sk-toggleable__label-arrow:before {content: \"▾\";}#sk-container-id-7 div.sk-estimator input.sk-toggleable__control:checked~label.sk-toggleable__label {background-color: #d4ebff;}#sk-container-id-7 div.sk-label input.sk-toggleable__control:checked~label.sk-toggleable__label {background-color: #d4ebff;}#sk-container-id-7 input.sk-hidden--visually {border: 0;clip: rect(1px 1px 1px 1px);clip: rect(1px, 1px, 1px, 1px);height: 1px;margin: -1px;overflow: hidden;padding: 0;position: absolute;width: 1px;}#sk-container-id-7 div.sk-estimator {font-family: monospace;background-color: #f0f8ff;border: 1px dotted black;border-radius: 0.25em;box-sizing: border-box;margin-bottom: 0.5em;}#sk-container-id-7 div.sk-estimator:hover {background-color: #d4ebff;}#sk-container-id-7 div.sk-parallel-item::after {content: \"\";width: 100%;border-bottom: 1px solid gray;flex-grow: 1;}#sk-container-id-7 div.sk-label:hover label.sk-toggleable__label {background-color: #d4ebff;}#sk-container-id-7 div.sk-serial::before {content: \"\";position: absolute;border-left: 1px solid gray;box-sizing: border-box;top: 0;bottom: 0;left: 50%;z-index: 0;}#sk-container-id-7 div.sk-serial {display: flex;flex-direction: column;align-items: center;background-color: white;padding-right: 0.2em;padding-left: 0.2em;position: relative;}#sk-container-id-7 div.sk-item {position: relative;z-index: 1;}#sk-container-id-7 div.sk-parallel {display: flex;align-items: stretch;justify-content: center;background-color: white;position: relative;}#sk-container-id-7 div.sk-item::before, #sk-container-id-7 div.sk-parallel-item::before {content: \"\";position: absolute;border-left: 1px solid gray;box-sizing: border-box;top: 0;bottom: 0;left: 50%;z-index: -1;}#sk-container-id-7 div.sk-parallel-item {display: flex;flex-direction: column;z-index: 1;position: relative;background-color: white;}#sk-container-id-7 div.sk-parallel-item:first-child::after {align-self: flex-end;width: 50%;}#sk-container-id-7 div.sk-parallel-item:last-child::after {align-self: flex-start;width: 50%;}#sk-container-id-7 div.sk-parallel-item:only-child::after {width: 0;}#sk-container-id-7 div.sk-dashed-wrapped {border: 1px dashed gray;margin: 0 0.4em 0.5em 0.4em;box-sizing: border-box;padding-bottom: 0.4em;background-color: white;}#sk-container-id-7 div.sk-label label {font-family: monospace;font-weight: bold;display: inline-block;line-height: 1.2em;}#sk-container-id-7 div.sk-label-container {text-align: center;}#sk-container-id-7 div.sk-container {/* jupyter's `normalize.less` sets `[hidden] { display: none; }` but bootstrap.min.css set `[hidden] { display: none !important; }` so we also need the `!important` here to be able to override the default hidden behavior on the sphinx rendered scikit-learn.org. See: https://github.com/scikit-learn/scikit-learn/issues/21755 */display: inline-block !important;position: relative;}#sk-container-id-7 div.sk-text-repr-fallback {display: none;}</style><div id=\"sk-container-id-7\" class=\"sk-top-container\"><div class=\"sk-text-repr-fallback\"><pre>RandomForestRegressor(n_estimators=1000, n_jobs=-1, random_state=42)</pre><b>In a Jupyter environment, please rerun this cell to show the HTML representation or trust the notebook. <br />On GitHub, the HTML representation is unable to render, please try loading this page with nbviewer.org.</b></div><div class=\"sk-container\" hidden><div class=\"sk-item\"><div class=\"sk-estimator sk-toggleable\"><input class=\"sk-toggleable__control sk-hidden--visually\" id=\"sk-estimator-id-9\" type=\"checkbox\" checked><label for=\"sk-estimator-id-9\" class=\"sk-toggleable__label sk-toggleable__label-arrow\">RandomForestRegressor</label><div class=\"sk-toggleable__content\"><pre>RandomForestRegressor(n_estimators=1000, n_jobs=-1, random_state=42)</pre></div></div></div></div></div>"
      ],
      "text/plain": [
       "RandomForestRegressor(n_estimators=1000, n_jobs=-1, random_state=42)"
      ]
     },
     "execution_count": 80,
     "metadata": {},
     "output_type": "execute_result"
    }
   ],
   "source": [
    "# training our model over train data set\n",
    "\n",
    "rf_reg.fit(X_train_s, Y_train)"
   ]
  },
  {
   "cell_type": "code",
   "execution_count": 81,
   "id": "4636c0d6",
   "metadata": {},
   "outputs": [
    {
     "name": "stdout",
     "output_type": "stream",
     "text": [
      "r2 score of test set:  0.6375190618183141\n",
      "r2 score of train set:  0.9501875357351006\n",
      "MSE of test set:  68960174.80731492\n"
     ]
    }
   ],
   "source": [
    "# Calcualting model accuracy for test and train data\n",
    "\n",
    "print('r2 score of test set: ', r2_score(Y_test, rf_reg.predict(X_test_s)))\n",
    "print('r2 score of train set: ', r2_score(Y_train, rf_reg.predict(X_train_s)))\n",
    "print('MSE of test set: ', mean_squared_error(Y_test, rf_reg.predict(X_test_s)))"
   ]
  },
  {
   "cell_type": "markdown",
   "id": "f350f892",
   "metadata": {},
   "source": [
    "#### Model Interpretation / evaluation"
   ]
  },
  {
   "cell_type": "markdown",
   "id": "af4e2e81",
   "metadata": {},
   "source": [
    "* The Test R-squared of 0.6375 indicates that the Random Forest model captures a significant percentage of the variation in the test data, implying high prediction performance on unknown data.\n",
    "\n",
    "* The Train R-squared of 0.9501 shows that the model fits the training data exceptionally well, explaining a considerable portion of the variation.\n",
    "\n",
    "* The R-squared of the Test is somewhat lower than the R-squared of the Train, which is to be anticipated. It implies that the model is not overfitting to the training data and is generalizing effectively to new, previously unknown data.\n"
   ]
  },
  {
   "cell_type": "markdown",
   "id": "202c24af",
   "metadata": {},
   "source": [
    "* ### Random forest - Grid Search"
   ]
  },
  {
   "cell_type": "code",
   "execution_count": 82,
   "id": "2ab631bd",
   "metadata": {},
   "outputs": [],
   "source": [
    "# creating random forest model object\n",
    "\n",
    "rf_reg2 = RandomForestRegressor(n_jobs = -1, random_state = 42)"
   ]
  },
  {
   "cell_type": "code",
   "execution_count": 83,
   "id": "26ece2b7",
   "metadata": {},
   "outputs": [],
   "source": [
    "# creating Dictionary of hyperparameters for random forest to use in grid search\n",
    "\n",
    "param_test1 = {'n_estimators' : [250, 500, 750, 1000], # No. of sub trees we want\n",
    "               'max_depth' : [None, 10,15,20],  # depth values of the tree\n",
    "               'min_samples_split' : [2,4,6,8,10], # min observation required in subnodes after a split\n",
    "               'min_samples_leaf' : [1,2,3]}  # min observation required in leaf node"
   ]
  },
  {
   "cell_type": "code",
   "execution_count": 84,
   "id": "42de741e",
   "metadata": {},
   "outputs": [],
   "source": [
    "# performing grid search with estimator : random forest and cross validation 5\n",
    "\n",
    "grid_search2 = GridSearchCV(rf_reg2, param_test1, n_jobs = -1, cv = 5, scoring = 'r2')"
   ]
  },
  {
   "cell_type": "code",
   "execution_count": 85,
   "id": "39a7b5af",
   "metadata": {},
   "outputs": [
    {
     "data": {
      "text/html": [
       "<style>#sk-container-id-8 {color: black;}#sk-container-id-8 pre{padding: 0;}#sk-container-id-8 div.sk-toggleable {background-color: white;}#sk-container-id-8 label.sk-toggleable__label {cursor: pointer;display: block;width: 100%;margin-bottom: 0;padding: 0.3em;box-sizing: border-box;text-align: center;}#sk-container-id-8 label.sk-toggleable__label-arrow:before {content: \"▸\";float: left;margin-right: 0.25em;color: #696969;}#sk-container-id-8 label.sk-toggleable__label-arrow:hover:before {color: black;}#sk-container-id-8 div.sk-estimator:hover label.sk-toggleable__label-arrow:before {color: black;}#sk-container-id-8 div.sk-toggleable__content {max-height: 0;max-width: 0;overflow: hidden;text-align: left;background-color: #f0f8ff;}#sk-container-id-8 div.sk-toggleable__content pre {margin: 0.2em;color: black;border-radius: 0.25em;background-color: #f0f8ff;}#sk-container-id-8 input.sk-toggleable__control:checked~div.sk-toggleable__content {max-height: 200px;max-width: 100%;overflow: auto;}#sk-container-id-8 input.sk-toggleable__control:checked~label.sk-toggleable__label-arrow:before {content: \"▾\";}#sk-container-id-8 div.sk-estimator input.sk-toggleable__control:checked~label.sk-toggleable__label {background-color: #d4ebff;}#sk-container-id-8 div.sk-label input.sk-toggleable__control:checked~label.sk-toggleable__label {background-color: #d4ebff;}#sk-container-id-8 input.sk-hidden--visually {border: 0;clip: rect(1px 1px 1px 1px);clip: rect(1px, 1px, 1px, 1px);height: 1px;margin: -1px;overflow: hidden;padding: 0;position: absolute;width: 1px;}#sk-container-id-8 div.sk-estimator {font-family: monospace;background-color: #f0f8ff;border: 1px dotted black;border-radius: 0.25em;box-sizing: border-box;margin-bottom: 0.5em;}#sk-container-id-8 div.sk-estimator:hover {background-color: #d4ebff;}#sk-container-id-8 div.sk-parallel-item::after {content: \"\";width: 100%;border-bottom: 1px solid gray;flex-grow: 1;}#sk-container-id-8 div.sk-label:hover label.sk-toggleable__label {background-color: #d4ebff;}#sk-container-id-8 div.sk-serial::before {content: \"\";position: absolute;border-left: 1px solid gray;box-sizing: border-box;top: 0;bottom: 0;left: 50%;z-index: 0;}#sk-container-id-8 div.sk-serial {display: flex;flex-direction: column;align-items: center;background-color: white;padding-right: 0.2em;padding-left: 0.2em;position: relative;}#sk-container-id-8 div.sk-item {position: relative;z-index: 1;}#sk-container-id-8 div.sk-parallel {display: flex;align-items: stretch;justify-content: center;background-color: white;position: relative;}#sk-container-id-8 div.sk-item::before, #sk-container-id-8 div.sk-parallel-item::before {content: \"\";position: absolute;border-left: 1px solid gray;box-sizing: border-box;top: 0;bottom: 0;left: 50%;z-index: -1;}#sk-container-id-8 div.sk-parallel-item {display: flex;flex-direction: column;z-index: 1;position: relative;background-color: white;}#sk-container-id-8 div.sk-parallel-item:first-child::after {align-self: flex-end;width: 50%;}#sk-container-id-8 div.sk-parallel-item:last-child::after {align-self: flex-start;width: 50%;}#sk-container-id-8 div.sk-parallel-item:only-child::after {width: 0;}#sk-container-id-8 div.sk-dashed-wrapped {border: 1px dashed gray;margin: 0 0.4em 0.5em 0.4em;box-sizing: border-box;padding-bottom: 0.4em;background-color: white;}#sk-container-id-8 div.sk-label label {font-family: monospace;font-weight: bold;display: inline-block;line-height: 1.2em;}#sk-container-id-8 div.sk-label-container {text-align: center;}#sk-container-id-8 div.sk-container {/* jupyter's `normalize.less` sets `[hidden] { display: none; }` but bootstrap.min.css set `[hidden] { display: none !important; }` so we also need the `!important` here to be able to override the default hidden behavior on the sphinx rendered scikit-learn.org. See: https://github.com/scikit-learn/scikit-learn/issues/21755 */display: inline-block !important;position: relative;}#sk-container-id-8 div.sk-text-repr-fallback {display: none;}</style><div id=\"sk-container-id-8\" class=\"sk-top-container\"><div class=\"sk-text-repr-fallback\"><pre>GridSearchCV(cv=5, estimator=RandomForestRegressor(n_jobs=-1, random_state=42),\n",
       "             n_jobs=-1,\n",
       "             param_grid={&#x27;max_depth&#x27;: [None, 10, 15, 20],\n",
       "                         &#x27;min_samples_leaf&#x27;: [1, 2, 3],\n",
       "                         &#x27;min_samples_split&#x27;: [2, 4, 6, 8, 10],\n",
       "                         &#x27;n_estimators&#x27;: [250, 500, 750, 1000]},\n",
       "             scoring=&#x27;r2&#x27;)</pre><b>In a Jupyter environment, please rerun this cell to show the HTML representation or trust the notebook. <br />On GitHub, the HTML representation is unable to render, please try loading this page with nbviewer.org.</b></div><div class=\"sk-container\" hidden><div class=\"sk-item sk-dashed-wrapped\"><div class=\"sk-label-container\"><div class=\"sk-label sk-toggleable\"><input class=\"sk-toggleable__control sk-hidden--visually\" id=\"sk-estimator-id-10\" type=\"checkbox\" ><label for=\"sk-estimator-id-10\" class=\"sk-toggleable__label sk-toggleable__label-arrow\">GridSearchCV</label><div class=\"sk-toggleable__content\"><pre>GridSearchCV(cv=5, estimator=RandomForestRegressor(n_jobs=-1, random_state=42),\n",
       "             n_jobs=-1,\n",
       "             param_grid={&#x27;max_depth&#x27;: [None, 10, 15, 20],\n",
       "                         &#x27;min_samples_leaf&#x27;: [1, 2, 3],\n",
       "                         &#x27;min_samples_split&#x27;: [2, 4, 6, 8, 10],\n",
       "                         &#x27;n_estimators&#x27;: [250, 500, 750, 1000]},\n",
       "             scoring=&#x27;r2&#x27;)</pre></div></div></div><div class=\"sk-parallel\"><div class=\"sk-parallel-item\"><div class=\"sk-item\"><div class=\"sk-label-container\"><div class=\"sk-label sk-toggleable\"><input class=\"sk-toggleable__control sk-hidden--visually\" id=\"sk-estimator-id-11\" type=\"checkbox\" ><label for=\"sk-estimator-id-11\" class=\"sk-toggleable__label sk-toggleable__label-arrow\">estimator: RandomForestRegressor</label><div class=\"sk-toggleable__content\"><pre>RandomForestRegressor(n_jobs=-1, random_state=42)</pre></div></div></div><div class=\"sk-serial\"><div class=\"sk-item\"><div class=\"sk-estimator sk-toggleable\"><input class=\"sk-toggleable__control sk-hidden--visually\" id=\"sk-estimator-id-12\" type=\"checkbox\" ><label for=\"sk-estimator-id-12\" class=\"sk-toggleable__label sk-toggleable__label-arrow\">RandomForestRegressor</label><div class=\"sk-toggleable__content\"><pre>RandomForestRegressor(n_jobs=-1, random_state=42)</pre></div></div></div></div></div></div></div></div></div></div>"
      ],
      "text/plain": [
       "GridSearchCV(cv=5, estimator=RandomForestRegressor(n_jobs=-1, random_state=42),\n",
       "             n_jobs=-1,\n",
       "             param_grid={'max_depth': [None, 10, 15, 20],\n",
       "                         'min_samples_leaf': [1, 2, 3],\n",
       "                         'min_samples_split': [2, 4, 6, 8, 10],\n",
       "                         'n_estimators': [250, 500, 750, 1000]},\n",
       "             scoring='r2')"
      ]
     },
     "execution_count": 85,
     "metadata": {},
     "output_type": "execute_result"
    }
   ],
   "source": [
    "# training model using train data set\n",
    "\n",
    "grid_search2.fit(X_train_s, Y_train)"
   ]
  },
  {
   "cell_type": "code",
   "execution_count": 86,
   "id": "a9c74b86",
   "metadata": {},
   "outputs": [
    {
     "data": {
      "text/plain": [
       "{'max_depth': None,\n",
       " 'min_samples_leaf': 1,\n",
       " 'min_samples_split': 2,\n",
       " 'n_estimators': 1000}"
      ]
     },
     "execution_count": 86,
     "metadata": {},
     "output_type": "execute_result"
    }
   ],
   "source": [
    "# calculating and displaying best params \n",
    "\n",
    "grid_search2.best_params_"
   ]
  },
  {
   "cell_type": "code",
   "execution_count": 87,
   "id": "98fcbbd2",
   "metadata": {},
   "outputs": [],
   "source": [
    "# accessing and storing best estimator model in an new object\n",
    "\n",
    "rf_best_reg = grid_search2.best_estimator_"
   ]
  },
  {
   "cell_type": "code",
   "execution_count": 88,
   "id": "532955fc",
   "metadata": {},
   "outputs": [
    {
     "name": "stdout",
     "output_type": "stream",
     "text": [
      "r2 score of test set :  0.6375190618183142\n",
      "r2 score of train set 0.9501875357351006\n",
      "MSE of test set 68960174.80731492\n"
     ]
    }
   ],
   "source": [
    "# Calcualting model accuracy for test and train data\n",
    "\n",
    "print('r2 score of test set : ', r2_score(Y_test, rf_best_reg.predict(X_test_s)))\n",
    "print('r2 score of train set', r2_score(Y_train, rf_best_reg.predict(X_train_s)))\n",
    "print('MSE of test set', mean_squared_error(Y_test, rf_best_reg.predict(X_test_s)))"
   ]
  },
  {
   "cell_type": "markdown",
   "id": "27911c6c",
   "metadata": {},
   "source": [
    "#### Model Interpretation / evaluation"
   ]
  },
  {
   "cell_type": "markdown",
   "id": "f5c3579b",
   "metadata": {},
   "source": [
    "* Our random forest model has an excellent R² score on the training data (approximately 0.95), indicating a very good fit to the training data. However, this high training R² score could be a sign of overfitting.\n",
    "* The R² score on the test data (approximately 0.63) suggests that Our model generalizes reasonably well to new, unseen data, but there may still be room for improvement in its predictive performance.\n",
    "* The test set MSE of 68960174.80731492 indicates that Our model's predictions on the test data are reasonably accurate, though further model tuning and regularization may be beneficial to improve generalization."
   ]
  },
  {
   "cell_type": "markdown",
   "id": "1d75942f",
   "metadata": {},
   "source": [
    "--------------------------------------------------------------------------------------------------------------------------------"
   ]
  },
  {
   "cell_type": "markdown",
   "id": "89c15a80",
   "metadata": {},
   "source": [
    "* ## Gradient Boosting"
   ]
  },
  {
   "cell_type": "code",
   "execution_count": 89,
   "id": "dc249e82",
   "metadata": {},
   "outputs": [],
   "source": [
    "# Importing library - gradient boost regressor\n",
    "\n",
    "from sklearn.ensemble import GradientBoostingRegressor"
   ]
  },
  {
   "cell_type": "code",
   "execution_count": 90,
   "id": "bfb81dac",
   "metadata": {},
   "outputs": [],
   "source": [
    "# Creating scaler object which will store the scaling information of our X_train\n",
    "\n",
    "scaler = preprocessing.StandardScaler().fit(X_train)"
   ]
  },
  {
   "cell_type": "code",
   "execution_count": 91,
   "id": "2718a3f2",
   "metadata": {},
   "outputs": [],
   "source": [
    "# Transforming our X_train to our X_train_scaler\n",
    "\n",
    "X_train_s = scaler.transform(X_train)"
   ]
  },
  {
   "cell_type": "code",
   "execution_count": 92,
   "id": "82cbec17",
   "metadata": {},
   "outputs": [],
   "source": [
    "# Transforming our X_test to our X_test_scaler\n",
    "\n",
    "X_test_s = scaler.transform(X_test)"
   ]
  },
  {
   "cell_type": "code",
   "execution_count": 93,
   "id": "08cf80e9",
   "metadata": {},
   "outputs": [],
   "source": [
    "# Creating Gradient Boost regressor model object\n",
    "\n",
    "gb_reg = GradientBoostingRegressor(n_estimators = 1000, learning_rate = 0.1, random_state = 42)"
   ]
  },
  {
   "cell_type": "code",
   "execution_count": 94,
   "id": "a6d290f3",
   "metadata": {},
   "outputs": [
    {
     "data": {
      "text/html": [
       "<style>#sk-container-id-9 {color: black;}#sk-container-id-9 pre{padding: 0;}#sk-container-id-9 div.sk-toggleable {background-color: white;}#sk-container-id-9 label.sk-toggleable__label {cursor: pointer;display: block;width: 100%;margin-bottom: 0;padding: 0.3em;box-sizing: border-box;text-align: center;}#sk-container-id-9 label.sk-toggleable__label-arrow:before {content: \"▸\";float: left;margin-right: 0.25em;color: #696969;}#sk-container-id-9 label.sk-toggleable__label-arrow:hover:before {color: black;}#sk-container-id-9 div.sk-estimator:hover label.sk-toggleable__label-arrow:before {color: black;}#sk-container-id-9 div.sk-toggleable__content {max-height: 0;max-width: 0;overflow: hidden;text-align: left;background-color: #f0f8ff;}#sk-container-id-9 div.sk-toggleable__content pre {margin: 0.2em;color: black;border-radius: 0.25em;background-color: #f0f8ff;}#sk-container-id-9 input.sk-toggleable__control:checked~div.sk-toggleable__content {max-height: 200px;max-width: 100%;overflow: auto;}#sk-container-id-9 input.sk-toggleable__control:checked~label.sk-toggleable__label-arrow:before {content: \"▾\";}#sk-container-id-9 div.sk-estimator input.sk-toggleable__control:checked~label.sk-toggleable__label {background-color: #d4ebff;}#sk-container-id-9 div.sk-label input.sk-toggleable__control:checked~label.sk-toggleable__label {background-color: #d4ebff;}#sk-container-id-9 input.sk-hidden--visually {border: 0;clip: rect(1px 1px 1px 1px);clip: rect(1px, 1px, 1px, 1px);height: 1px;margin: -1px;overflow: hidden;padding: 0;position: absolute;width: 1px;}#sk-container-id-9 div.sk-estimator {font-family: monospace;background-color: #f0f8ff;border: 1px dotted black;border-radius: 0.25em;box-sizing: border-box;margin-bottom: 0.5em;}#sk-container-id-9 div.sk-estimator:hover {background-color: #d4ebff;}#sk-container-id-9 div.sk-parallel-item::after {content: \"\";width: 100%;border-bottom: 1px solid gray;flex-grow: 1;}#sk-container-id-9 div.sk-label:hover label.sk-toggleable__label {background-color: #d4ebff;}#sk-container-id-9 div.sk-serial::before {content: \"\";position: absolute;border-left: 1px solid gray;box-sizing: border-box;top: 0;bottom: 0;left: 50%;z-index: 0;}#sk-container-id-9 div.sk-serial {display: flex;flex-direction: column;align-items: center;background-color: white;padding-right: 0.2em;padding-left: 0.2em;position: relative;}#sk-container-id-9 div.sk-item {position: relative;z-index: 1;}#sk-container-id-9 div.sk-parallel {display: flex;align-items: stretch;justify-content: center;background-color: white;position: relative;}#sk-container-id-9 div.sk-item::before, #sk-container-id-9 div.sk-parallel-item::before {content: \"\";position: absolute;border-left: 1px solid gray;box-sizing: border-box;top: 0;bottom: 0;left: 50%;z-index: -1;}#sk-container-id-9 div.sk-parallel-item {display: flex;flex-direction: column;z-index: 1;position: relative;background-color: white;}#sk-container-id-9 div.sk-parallel-item:first-child::after {align-self: flex-end;width: 50%;}#sk-container-id-9 div.sk-parallel-item:last-child::after {align-self: flex-start;width: 50%;}#sk-container-id-9 div.sk-parallel-item:only-child::after {width: 0;}#sk-container-id-9 div.sk-dashed-wrapped {border: 1px dashed gray;margin: 0 0.4em 0.5em 0.4em;box-sizing: border-box;padding-bottom: 0.4em;background-color: white;}#sk-container-id-9 div.sk-label label {font-family: monospace;font-weight: bold;display: inline-block;line-height: 1.2em;}#sk-container-id-9 div.sk-label-container {text-align: center;}#sk-container-id-9 div.sk-container {/* jupyter's `normalize.less` sets `[hidden] { display: none; }` but bootstrap.min.css set `[hidden] { display: none !important; }` so we also need the `!important` here to be able to override the default hidden behavior on the sphinx rendered scikit-learn.org. See: https://github.com/scikit-learn/scikit-learn/issues/21755 */display: inline-block !important;position: relative;}#sk-container-id-9 div.sk-text-repr-fallback {display: none;}</style><div id=\"sk-container-id-9\" class=\"sk-top-container\"><div class=\"sk-text-repr-fallback\"><pre>GradientBoostingRegressor(n_estimators=1000, random_state=42)</pre><b>In a Jupyter environment, please rerun this cell to show the HTML representation or trust the notebook. <br />On GitHub, the HTML representation is unable to render, please try loading this page with nbviewer.org.</b></div><div class=\"sk-container\" hidden><div class=\"sk-item\"><div class=\"sk-estimator sk-toggleable\"><input class=\"sk-toggleable__control sk-hidden--visually\" id=\"sk-estimator-id-13\" type=\"checkbox\" checked><label for=\"sk-estimator-id-13\" class=\"sk-toggleable__label sk-toggleable__label-arrow\">GradientBoostingRegressor</label><div class=\"sk-toggleable__content\"><pre>GradientBoostingRegressor(n_estimators=1000, random_state=42)</pre></div></div></div></div></div>"
      ],
      "text/plain": [
       "GradientBoostingRegressor(n_estimators=1000, random_state=42)"
      ]
     },
     "execution_count": 94,
     "metadata": {},
     "output_type": "execute_result"
    }
   ],
   "source": [
    "# Fitting Gradient Boost model over Train data set\n",
    "\n",
    "gb_reg.fit(X_train_s, Y_train)"
   ]
  },
  {
   "cell_type": "code",
   "execution_count": 95,
   "id": "a63ce3b9",
   "metadata": {},
   "outputs": [
    {
     "name": "stdout",
     "output_type": "stream",
     "text": [
      "r2 score of test set 0.6441093611891296\n",
      "r2 score of train set 0.9461178456190225\n",
      "MSE of test set 67706403.50854336\n"
     ]
    }
   ],
   "source": [
    "# Calcualting model accuracy for test and train data\n",
    "\n",
    "print('r2 score of test set', r2_score(Y_test, gb_reg.predict(X_test_s)))\n",
    "print('r2 score of train set', r2_score(Y_train, gb_reg.predict(X_train_s)))\n",
    "print('MSE of test set', mean_squared_error(Y_test, gb_reg.predict(X_test_s)))"
   ]
  },
  {
   "cell_type": "markdown",
   "id": "1b5b4a2b",
   "metadata": {},
   "source": [
    "#### Model Interpretation / evaluation"
   ]
  },
  {
   "cell_type": "markdown",
   "id": "3ef8ef8d",
   "metadata": {},
   "source": [
    "* Our gradient boosting model has an excellent R² score on the training data (approximately 0.946), indicating a very good fit to the training data. However, this high training R² score could be a sign of overfitting.\n",
    "\n",
    "* The R² score on the test data (approximately 0.644) suggests that your model generalizes reasonably well to new, unseen data, but there may still be room for improvement in its predictive performance.\n",
    "\n",
    "* The test set MSE of 67706403.50854336 indicates that your model's predictions on the test data are reasonably accurate, though further model tuning and regularization may be beneficial to improve generalization and potentially mitigate overfitting."
   ]
  },
  {
   "cell_type": "markdown",
   "id": "d8c157f5",
   "metadata": {},
   "source": [
    "--------------------------------------------------------------------------------------------------------------------------------"
   ]
  },
  {
   "cell_type": "markdown",
   "id": "08b9fd0a",
   "metadata": {},
   "source": [
    "* ## XG Boost regressor"
   ]
  },
  {
   "cell_type": "code",
   "execution_count": 96,
   "id": "2db2a4e6",
   "metadata": {},
   "outputs": [],
   "source": [
    "# Creating scaler object which will store the scaling information of our X train\n",
    "\n",
    "scaler = preprocessing.StandardScaler().fit(X_train)"
   ]
  },
  {
   "cell_type": "code",
   "execution_count": 97,
   "id": "8eb2a044",
   "metadata": {},
   "outputs": [],
   "source": [
    "# Transforming our X_train to our X_train_scaler\n",
    "\n",
    "X_train_s = scaler.transform(X_train)"
   ]
  },
  {
   "cell_type": "code",
   "execution_count": 98,
   "id": "0b93acb9",
   "metadata": {},
   "outputs": [],
   "source": [
    "# Transforming our X_test to our X_test_scaler\n",
    "\n",
    "X_test_s = scaler.transform(X_test)"
   ]
  },
  {
   "cell_type": "code",
   "execution_count": 99,
   "id": "f7536cf9",
   "metadata": {},
   "outputs": [],
   "source": [
    "# Importing XG Boost\n",
    "\n",
    "import xgboost as xgb"
   ]
  },
  {
   "cell_type": "code",
   "execution_count": 100,
   "id": "b1a73529",
   "metadata": {},
   "outputs": [],
   "source": [
    "# Creating XG Boost regressor object\n",
    "\n",
    "xgb_reg = xgb.XGBRegressor(n_estimators = 2000, learning_rate = 0.02, random_state = 42)"
   ]
  },
  {
   "cell_type": "code",
   "execution_count": 101,
   "id": "1f86249b",
   "metadata": {},
   "outputs": [
    {
     "data": {
      "text/html": [
       "<style>#sk-container-id-10 {color: black;}#sk-container-id-10 pre{padding: 0;}#sk-container-id-10 div.sk-toggleable {background-color: white;}#sk-container-id-10 label.sk-toggleable__label {cursor: pointer;display: block;width: 100%;margin-bottom: 0;padding: 0.3em;box-sizing: border-box;text-align: center;}#sk-container-id-10 label.sk-toggleable__label-arrow:before {content: \"▸\";float: left;margin-right: 0.25em;color: #696969;}#sk-container-id-10 label.sk-toggleable__label-arrow:hover:before {color: black;}#sk-container-id-10 div.sk-estimator:hover label.sk-toggleable__label-arrow:before {color: black;}#sk-container-id-10 div.sk-toggleable__content {max-height: 0;max-width: 0;overflow: hidden;text-align: left;background-color: #f0f8ff;}#sk-container-id-10 div.sk-toggleable__content pre {margin: 0.2em;color: black;border-radius: 0.25em;background-color: #f0f8ff;}#sk-container-id-10 input.sk-toggleable__control:checked~div.sk-toggleable__content {max-height: 200px;max-width: 100%;overflow: auto;}#sk-container-id-10 input.sk-toggleable__control:checked~label.sk-toggleable__label-arrow:before {content: \"▾\";}#sk-container-id-10 div.sk-estimator input.sk-toggleable__control:checked~label.sk-toggleable__label {background-color: #d4ebff;}#sk-container-id-10 div.sk-label input.sk-toggleable__control:checked~label.sk-toggleable__label {background-color: #d4ebff;}#sk-container-id-10 input.sk-hidden--visually {border: 0;clip: rect(1px 1px 1px 1px);clip: rect(1px, 1px, 1px, 1px);height: 1px;margin: -1px;overflow: hidden;padding: 0;position: absolute;width: 1px;}#sk-container-id-10 div.sk-estimator {font-family: monospace;background-color: #f0f8ff;border: 1px dotted black;border-radius: 0.25em;box-sizing: border-box;margin-bottom: 0.5em;}#sk-container-id-10 div.sk-estimator:hover {background-color: #d4ebff;}#sk-container-id-10 div.sk-parallel-item::after {content: \"\";width: 100%;border-bottom: 1px solid gray;flex-grow: 1;}#sk-container-id-10 div.sk-label:hover label.sk-toggleable__label {background-color: #d4ebff;}#sk-container-id-10 div.sk-serial::before {content: \"\";position: absolute;border-left: 1px solid gray;box-sizing: border-box;top: 0;bottom: 0;left: 50%;z-index: 0;}#sk-container-id-10 div.sk-serial {display: flex;flex-direction: column;align-items: center;background-color: white;padding-right: 0.2em;padding-left: 0.2em;position: relative;}#sk-container-id-10 div.sk-item {position: relative;z-index: 1;}#sk-container-id-10 div.sk-parallel {display: flex;align-items: stretch;justify-content: center;background-color: white;position: relative;}#sk-container-id-10 div.sk-item::before, #sk-container-id-10 div.sk-parallel-item::before {content: \"\";position: absolute;border-left: 1px solid gray;box-sizing: border-box;top: 0;bottom: 0;left: 50%;z-index: -1;}#sk-container-id-10 div.sk-parallel-item {display: flex;flex-direction: column;z-index: 1;position: relative;background-color: white;}#sk-container-id-10 div.sk-parallel-item:first-child::after {align-self: flex-end;width: 50%;}#sk-container-id-10 div.sk-parallel-item:last-child::after {align-self: flex-start;width: 50%;}#sk-container-id-10 div.sk-parallel-item:only-child::after {width: 0;}#sk-container-id-10 div.sk-dashed-wrapped {border: 1px dashed gray;margin: 0 0.4em 0.5em 0.4em;box-sizing: border-box;padding-bottom: 0.4em;background-color: white;}#sk-container-id-10 div.sk-label label {font-family: monospace;font-weight: bold;display: inline-block;line-height: 1.2em;}#sk-container-id-10 div.sk-label-container {text-align: center;}#sk-container-id-10 div.sk-container {/* jupyter's `normalize.less` sets `[hidden] { display: none; }` but bootstrap.min.css set `[hidden] { display: none !important; }` so we also need the `!important` here to be able to override the default hidden behavior on the sphinx rendered scikit-learn.org. See: https://github.com/scikit-learn/scikit-learn/issues/21755 */display: inline-block !important;position: relative;}#sk-container-id-10 div.sk-text-repr-fallback {display: none;}</style><div id=\"sk-container-id-10\" class=\"sk-top-container\"><div class=\"sk-text-repr-fallback\"><pre>XGBRegressor(base_score=None, booster=None, callbacks=None,\n",
       "             colsample_bylevel=None, colsample_bynode=None,\n",
       "             colsample_bytree=None, early_stopping_rounds=None,\n",
       "             enable_categorical=False, eval_metric=None, feature_types=None,\n",
       "             gamma=None, gpu_id=None, grow_policy=None, importance_type=None,\n",
       "             interaction_constraints=None, learning_rate=0.02, max_bin=None,\n",
       "             max_cat_threshold=None, max_cat_to_onehot=None,\n",
       "             max_delta_step=None, max_depth=None, max_leaves=None,\n",
       "             min_child_weight=None, missing=nan, monotone_constraints=None,\n",
       "             n_estimators=2000, n_jobs=None, num_parallel_tree=None,\n",
       "             predictor=None, random_state=42, ...)</pre><b>In a Jupyter environment, please rerun this cell to show the HTML representation or trust the notebook. <br />On GitHub, the HTML representation is unable to render, please try loading this page with nbviewer.org.</b></div><div class=\"sk-container\" hidden><div class=\"sk-item\"><div class=\"sk-estimator sk-toggleable\"><input class=\"sk-toggleable__control sk-hidden--visually\" id=\"sk-estimator-id-14\" type=\"checkbox\" checked><label for=\"sk-estimator-id-14\" class=\"sk-toggleable__label sk-toggleable__label-arrow\">XGBRegressor</label><div class=\"sk-toggleable__content\"><pre>XGBRegressor(base_score=None, booster=None, callbacks=None,\n",
       "             colsample_bylevel=None, colsample_bynode=None,\n",
       "             colsample_bytree=None, early_stopping_rounds=None,\n",
       "             enable_categorical=False, eval_metric=None, feature_types=None,\n",
       "             gamma=None, gpu_id=None, grow_policy=None, importance_type=None,\n",
       "             interaction_constraints=None, learning_rate=0.02, max_bin=None,\n",
       "             max_cat_threshold=None, max_cat_to_onehot=None,\n",
       "             max_delta_step=None, max_depth=None, max_leaves=None,\n",
       "             min_child_weight=None, missing=nan, monotone_constraints=None,\n",
       "             n_estimators=2000, n_jobs=None, num_parallel_tree=None,\n",
       "             predictor=None, random_state=42, ...)</pre></div></div></div></div></div>"
      ],
      "text/plain": [
       "XGBRegressor(base_score=None, booster=None, callbacks=None,\n",
       "             colsample_bylevel=None, colsample_bynode=None,\n",
       "             colsample_bytree=None, early_stopping_rounds=None,\n",
       "             enable_categorical=False, eval_metric=None, feature_types=None,\n",
       "             gamma=None, gpu_id=None, grow_policy=None, importance_type=None,\n",
       "             interaction_constraints=None, learning_rate=0.02, max_bin=None,\n",
       "             max_cat_threshold=None, max_cat_to_onehot=None,\n",
       "             max_delta_step=None, max_depth=None, max_leaves=None,\n",
       "             min_child_weight=None, missing=nan, monotone_constraints=None,\n",
       "             n_estimators=2000, n_jobs=None, num_parallel_tree=None,\n",
       "             predictor=None, random_state=42, ...)"
      ]
     },
     "execution_count": 101,
     "metadata": {},
     "output_type": "execute_result"
    }
   ],
   "source": [
    "# Fitting our XG Boost model over train data set\n",
    "\n",
    "xgb_reg.fit(X_train_s, Y_train)"
   ]
  },
  {
   "cell_type": "code",
   "execution_count": 102,
   "id": "1efce937",
   "metadata": {},
   "outputs": [
    {
     "name": "stdout",
     "output_type": "stream",
     "text": [
      "r2 score of test set 0.6526175646079968\n",
      "r2 score of train set 0.9894116828352455\n",
      "MSE of test set 66087760.61381771\n"
     ]
    }
   ],
   "source": [
    "# Calcualting model accuracy for test and train data\n",
    "\n",
    "print('r2 score of test set', r2_score(Y_test, xgb_reg.predict(X_test_s)))\n",
    "print('r2 score of train set', r2_score(Y_train, xgb_reg.predict(X_train_s)))\n",
    "print('MSE of test set', mean_squared_error(Y_test, xgb_reg.predict(X_test_s)))"
   ]
  },
  {
   "cell_type": "markdown",
   "id": "b19d1676",
   "metadata": {},
   "source": [
    "#### Model Interpretation / evaluation"
   ]
  },
  {
   "cell_type": "markdown",
   "id": "6963f351",
   "metadata": {},
   "source": [
    "* The high R2 score on the training set (0.9894) indicates that the model is fitting the training data very well. This could be a sign of overfitting, where the model may perform exceptionally well on the training data but not generalize well to unseen data.\n",
    "\n",
    "* The R2 score on the test set (0.6526) is significantly lower than the training set, which suggests that the model might be overfitting. In an ideal scenario, you would want both the training and test R2 scores to be close to each other.\n",
    "\n",
    "* The high MSE on the test set (66087760.61) indicates that the model's predictions on the test data have relatively large errors. This could be due to overfitting and a lack of generalization."
   ]
  },
  {
   "cell_type": "markdown",
   "id": "43e4bce3",
   "metadata": {},
   "source": [
    "* ## XG Boost regressor - Grid Search"
   ]
  },
  {
   "cell_type": "code",
   "execution_count": 103,
   "id": "4e14cc03",
   "metadata": {},
   "outputs": [],
   "source": [
    "# Craeting XG Boost regressor model object\n",
    "\n",
    "xgb_reg2 = xgb.XGBRegressor(random_state = 42)"
   ]
  },
  {
   "cell_type": "code",
   "execution_count": 104,
   "id": "c6d41ab6",
   "metadata": {},
   "outputs": [],
   "source": [
    "# creating Dictionary of hyperparameters for XG Boost to use in grid search\n",
    "\n",
    "param_test = {'n_estimators' : [500, 1000, 1500, 2000], # Number of sub trees we want\n",
    "              'learning_rate': np.arange(0.01,0.1,0.01), # fixing learning rate value 0.01 to 0.1\n",
    "              }"
   ]
  },
  {
   "cell_type": "code",
   "execution_count": 105,
   "id": "9a55eb8e",
   "metadata": {},
   "outputs": [],
   "source": [
    "# performing grid search with estimator : XG Boost and cross validation 5\n",
    "\n",
    "grid_search3 = GridSearchCV(xgb_reg2, param_test, cv = 5, n_jobs = -1)"
   ]
  },
  {
   "cell_type": "code",
   "execution_count": 106,
   "id": "b9a8f3ea",
   "metadata": {},
   "outputs": [
    {
     "data": {
      "text/html": [
       "<style>#sk-container-id-11 {color: black;}#sk-container-id-11 pre{padding: 0;}#sk-container-id-11 div.sk-toggleable {background-color: white;}#sk-container-id-11 label.sk-toggleable__label {cursor: pointer;display: block;width: 100%;margin-bottom: 0;padding: 0.3em;box-sizing: border-box;text-align: center;}#sk-container-id-11 label.sk-toggleable__label-arrow:before {content: \"▸\";float: left;margin-right: 0.25em;color: #696969;}#sk-container-id-11 label.sk-toggleable__label-arrow:hover:before {color: black;}#sk-container-id-11 div.sk-estimator:hover label.sk-toggleable__label-arrow:before {color: black;}#sk-container-id-11 div.sk-toggleable__content {max-height: 0;max-width: 0;overflow: hidden;text-align: left;background-color: #f0f8ff;}#sk-container-id-11 div.sk-toggleable__content pre {margin: 0.2em;color: black;border-radius: 0.25em;background-color: #f0f8ff;}#sk-container-id-11 input.sk-toggleable__control:checked~div.sk-toggleable__content {max-height: 200px;max-width: 100%;overflow: auto;}#sk-container-id-11 input.sk-toggleable__control:checked~label.sk-toggleable__label-arrow:before {content: \"▾\";}#sk-container-id-11 div.sk-estimator input.sk-toggleable__control:checked~label.sk-toggleable__label {background-color: #d4ebff;}#sk-container-id-11 div.sk-label input.sk-toggleable__control:checked~label.sk-toggleable__label {background-color: #d4ebff;}#sk-container-id-11 input.sk-hidden--visually {border: 0;clip: rect(1px 1px 1px 1px);clip: rect(1px, 1px, 1px, 1px);height: 1px;margin: -1px;overflow: hidden;padding: 0;position: absolute;width: 1px;}#sk-container-id-11 div.sk-estimator {font-family: monospace;background-color: #f0f8ff;border: 1px dotted black;border-radius: 0.25em;box-sizing: border-box;margin-bottom: 0.5em;}#sk-container-id-11 div.sk-estimator:hover {background-color: #d4ebff;}#sk-container-id-11 div.sk-parallel-item::after {content: \"\";width: 100%;border-bottom: 1px solid gray;flex-grow: 1;}#sk-container-id-11 div.sk-label:hover label.sk-toggleable__label {background-color: #d4ebff;}#sk-container-id-11 div.sk-serial::before {content: \"\";position: absolute;border-left: 1px solid gray;box-sizing: border-box;top: 0;bottom: 0;left: 50%;z-index: 0;}#sk-container-id-11 div.sk-serial {display: flex;flex-direction: column;align-items: center;background-color: white;padding-right: 0.2em;padding-left: 0.2em;position: relative;}#sk-container-id-11 div.sk-item {position: relative;z-index: 1;}#sk-container-id-11 div.sk-parallel {display: flex;align-items: stretch;justify-content: center;background-color: white;position: relative;}#sk-container-id-11 div.sk-item::before, #sk-container-id-11 div.sk-parallel-item::before {content: \"\";position: absolute;border-left: 1px solid gray;box-sizing: border-box;top: 0;bottom: 0;left: 50%;z-index: -1;}#sk-container-id-11 div.sk-parallel-item {display: flex;flex-direction: column;z-index: 1;position: relative;background-color: white;}#sk-container-id-11 div.sk-parallel-item:first-child::after {align-self: flex-end;width: 50%;}#sk-container-id-11 div.sk-parallel-item:last-child::after {align-self: flex-start;width: 50%;}#sk-container-id-11 div.sk-parallel-item:only-child::after {width: 0;}#sk-container-id-11 div.sk-dashed-wrapped {border: 1px dashed gray;margin: 0 0.4em 0.5em 0.4em;box-sizing: border-box;padding-bottom: 0.4em;background-color: white;}#sk-container-id-11 div.sk-label label {font-family: monospace;font-weight: bold;display: inline-block;line-height: 1.2em;}#sk-container-id-11 div.sk-label-container {text-align: center;}#sk-container-id-11 div.sk-container {/* jupyter's `normalize.less` sets `[hidden] { display: none; }` but bootstrap.min.css set `[hidden] { display: none !important; }` so we also need the `!important` here to be able to override the default hidden behavior on the sphinx rendered scikit-learn.org. See: https://github.com/scikit-learn/scikit-learn/issues/21755 */display: inline-block !important;position: relative;}#sk-container-id-11 div.sk-text-repr-fallback {display: none;}</style><div id=\"sk-container-id-11\" class=\"sk-top-container\"><div class=\"sk-text-repr-fallback\"><pre>GridSearchCV(cv=5,\n",
       "             estimator=XGBRegressor(base_score=None, booster=None,\n",
       "                                    callbacks=None, colsample_bylevel=None,\n",
       "                                    colsample_bynode=None,\n",
       "                                    colsample_bytree=None,\n",
       "                                    early_stopping_rounds=None,\n",
       "                                    enable_categorical=False, eval_metric=None,\n",
       "                                    feature_types=None, gamma=None, gpu_id=None,\n",
       "                                    grow_policy=None, importance_type=None,\n",
       "                                    interaction_constraints=None,\n",
       "                                    learning_rate=None, m...\n",
       "                                    max_cat_to_onehot=None, max_delta_step=None,\n",
       "                                    max_depth=None, max_leaves=None,\n",
       "                                    min_child_weight=None, missing=nan,\n",
       "                                    monotone_constraints=None, n_estimators=100,\n",
       "                                    n_jobs=None, num_parallel_tree=None,\n",
       "                                    predictor=None, random_state=42, ...),\n",
       "             n_jobs=-1,\n",
       "             param_grid={&#x27;learning_rate&#x27;: array([0.01, 0.02, 0.03, 0.04, 0.05, 0.06, 0.07, 0.08, 0.09]),\n",
       "                         &#x27;n_estimators&#x27;: [500, 1000, 1500, 2000]})</pre><b>In a Jupyter environment, please rerun this cell to show the HTML representation or trust the notebook. <br />On GitHub, the HTML representation is unable to render, please try loading this page with nbviewer.org.</b></div><div class=\"sk-container\" hidden><div class=\"sk-item sk-dashed-wrapped\"><div class=\"sk-label-container\"><div class=\"sk-label sk-toggleable\"><input class=\"sk-toggleable__control sk-hidden--visually\" id=\"sk-estimator-id-15\" type=\"checkbox\" ><label for=\"sk-estimator-id-15\" class=\"sk-toggleable__label sk-toggleable__label-arrow\">GridSearchCV</label><div class=\"sk-toggleable__content\"><pre>GridSearchCV(cv=5,\n",
       "             estimator=XGBRegressor(base_score=None, booster=None,\n",
       "                                    callbacks=None, colsample_bylevel=None,\n",
       "                                    colsample_bynode=None,\n",
       "                                    colsample_bytree=None,\n",
       "                                    early_stopping_rounds=None,\n",
       "                                    enable_categorical=False, eval_metric=None,\n",
       "                                    feature_types=None, gamma=None, gpu_id=None,\n",
       "                                    grow_policy=None, importance_type=None,\n",
       "                                    interaction_constraints=None,\n",
       "                                    learning_rate=None, m...\n",
       "                                    max_cat_to_onehot=None, max_delta_step=None,\n",
       "                                    max_depth=None, max_leaves=None,\n",
       "                                    min_child_weight=None, missing=nan,\n",
       "                                    monotone_constraints=None, n_estimators=100,\n",
       "                                    n_jobs=None, num_parallel_tree=None,\n",
       "                                    predictor=None, random_state=42, ...),\n",
       "             n_jobs=-1,\n",
       "             param_grid={&#x27;learning_rate&#x27;: array([0.01, 0.02, 0.03, 0.04, 0.05, 0.06, 0.07, 0.08, 0.09]),\n",
       "                         &#x27;n_estimators&#x27;: [500, 1000, 1500, 2000]})</pre></div></div></div><div class=\"sk-parallel\"><div class=\"sk-parallel-item\"><div class=\"sk-item\"><div class=\"sk-label-container\"><div class=\"sk-label sk-toggleable\"><input class=\"sk-toggleable__control sk-hidden--visually\" id=\"sk-estimator-id-16\" type=\"checkbox\" ><label for=\"sk-estimator-id-16\" class=\"sk-toggleable__label sk-toggleable__label-arrow\">estimator: XGBRegressor</label><div class=\"sk-toggleable__content\"><pre>XGBRegressor(base_score=None, booster=None, callbacks=None,\n",
       "             colsample_bylevel=None, colsample_bynode=None,\n",
       "             colsample_bytree=None, early_stopping_rounds=None,\n",
       "             enable_categorical=False, eval_metric=None, feature_types=None,\n",
       "             gamma=None, gpu_id=None, grow_policy=None, importance_type=None,\n",
       "             interaction_constraints=None, learning_rate=None, max_bin=None,\n",
       "             max_cat_threshold=None, max_cat_to_onehot=None,\n",
       "             max_delta_step=None, max_depth=None, max_leaves=None,\n",
       "             min_child_weight=None, missing=nan, monotone_constraints=None,\n",
       "             n_estimators=100, n_jobs=None, num_parallel_tree=None,\n",
       "             predictor=None, random_state=42, ...)</pre></div></div></div><div class=\"sk-serial\"><div class=\"sk-item\"><div class=\"sk-estimator sk-toggleable\"><input class=\"sk-toggleable__control sk-hidden--visually\" id=\"sk-estimator-id-17\" type=\"checkbox\" ><label for=\"sk-estimator-id-17\" class=\"sk-toggleable__label sk-toggleable__label-arrow\">XGBRegressor</label><div class=\"sk-toggleable__content\"><pre>XGBRegressor(base_score=None, booster=None, callbacks=None,\n",
       "             colsample_bylevel=None, colsample_bynode=None,\n",
       "             colsample_bytree=None, early_stopping_rounds=None,\n",
       "             enable_categorical=False, eval_metric=None, feature_types=None,\n",
       "             gamma=None, gpu_id=None, grow_policy=None, importance_type=None,\n",
       "             interaction_constraints=None, learning_rate=None, max_bin=None,\n",
       "             max_cat_threshold=None, max_cat_to_onehot=None,\n",
       "             max_delta_step=None, max_depth=None, max_leaves=None,\n",
       "             min_child_weight=None, missing=nan, monotone_constraints=None,\n",
       "             n_estimators=100, n_jobs=None, num_parallel_tree=None,\n",
       "             predictor=None, random_state=42, ...)</pre></div></div></div></div></div></div></div></div></div></div>"
      ],
      "text/plain": [
       "GridSearchCV(cv=5,\n",
       "             estimator=XGBRegressor(base_score=None, booster=None,\n",
       "                                    callbacks=None, colsample_bylevel=None,\n",
       "                                    colsample_bynode=None,\n",
       "                                    colsample_bytree=None,\n",
       "                                    early_stopping_rounds=None,\n",
       "                                    enable_categorical=False, eval_metric=None,\n",
       "                                    feature_types=None, gamma=None, gpu_id=None,\n",
       "                                    grow_policy=None, importance_type=None,\n",
       "                                    interaction_constraints=None,\n",
       "                                    learning_rate=None, m...\n",
       "                                    max_cat_to_onehot=None, max_delta_step=None,\n",
       "                                    max_depth=None, max_leaves=None,\n",
       "                                    min_child_weight=None, missing=nan,\n",
       "                                    monotone_constraints=None, n_estimators=100,\n",
       "                                    n_jobs=None, num_parallel_tree=None,\n",
       "                                    predictor=None, random_state=42, ...),\n",
       "             n_jobs=-1,\n",
       "             param_grid={'learning_rate': array([0.01, 0.02, 0.03, 0.04, 0.05, 0.06, 0.07, 0.08, 0.09]),\n",
       "                         'n_estimators': [500, 1000, 1500, 2000]})"
      ]
     },
     "execution_count": 106,
     "metadata": {},
     "output_type": "execute_result"
    }
   ],
   "source": [
    "# Fitting our XG Boost model over Train data set\n",
    "\n",
    "grid_search3.fit(X_train_s, Y_train)"
   ]
  },
  {
   "cell_type": "code",
   "execution_count": 107,
   "id": "426c8ca0",
   "metadata": {},
   "outputs": [
    {
     "data": {
      "text/plain": [
       "{'learning_rate': 0.02, 'n_estimators': 500}"
      ]
     },
     "execution_count": 107,
     "metadata": {},
     "output_type": "execute_result"
    }
   ],
   "source": [
    "# Calculating and displaying best params \n",
    "\n",
    "grid_search3.best_params_"
   ]
  },
  {
   "cell_type": "code",
   "execution_count": 108,
   "id": "6740131e",
   "metadata": {},
   "outputs": [],
   "source": [
    "# Calculating and storing best estimator model in a new object\n",
    "\n",
    "gs_xgb_reg = grid_search3.best_estimator_"
   ]
  },
  {
   "cell_type": "code",
   "execution_count": 109,
   "id": "38529648",
   "metadata": {},
   "outputs": [
    {
     "name": "stdout",
     "output_type": "stream",
     "text": [
      "r2 score of test set 0.6449823158879611\n",
      "r2 score of train set 0.877531431212449\n",
      "MSE of test set 67540328.26902248\n"
     ]
    }
   ],
   "source": [
    "# Calcualting model accuracy for test and train data\n",
    "\n",
    "print('r2 score of test set', r2_score(Y_test, gs_xgb_reg.predict(X_test_s)))\n",
    "print('r2 score of train set', r2_score(Y_train, gs_xgb_reg.predict(X_train_s)))\n",
    "print('MSE of test set', mean_squared_error(Y_test, gs_xgb_reg.predict(X_test_s)))"
   ]
  },
  {
   "cell_type": "markdown",
   "id": "b36adc5a",
   "metadata": {},
   "source": [
    "#### Model Interpretation / evaluation"
   ]
  },
  {
   "cell_type": "markdown",
   "id": "3d9afd1c",
   "metadata": {},
   "source": [
    "* Our XG Boost regression model performs quite well on the training data, as indicated by the high R² score of approximately 0.878.\n",
    "* The R² score on the test data (approximately 0.645) suggests that model generalizes reasonably well to new, new data, but there may still be room for improvement in its predictive performance.\n",
    "* The test set MSE of 67540328.26902248 indicates that model's predictions on the test data are reasonably accurate, though further model tuning and regularization may be beneficial to improve generalization and potentially reduce the MSE."
   ]
  },
  {
   "cell_type": "markdown",
   "id": "cea47130",
   "metadata": {},
   "source": [
    "--------------------------------------------------------------------------------------------------------------------------------"
   ]
  },
  {
   "cell_type": "markdown",
   "id": "438afec0",
   "metadata": {},
   "source": [
    "# Plotting visualization of MSE & R-Squared of all models"
   ]
  },
  {
   "cell_type": "code",
   "execution_count": 115,
   "id": "5573deec",
   "metadata": {},
   "outputs": [],
   "source": [
    "# Importing matplot library\n",
    "\n",
    "import matplotlib.pyplot as plt"
   ]
  },
  {
   "cell_type": "code",
   "execution_count": 121,
   "id": "b77f388d",
   "metadata": {},
   "outputs": [
    {
     "data": {
      "image/png": "[encoded data removed]",
      "text/plain": [
       "<Figure size 1000x600 with 1 Axes>"
      ]
     },
     "metadata": {},
     "output_type": "display_data"
    },
    {
     "data": {
      "image/png": "[encoded data removed]",
      "text/plain": [
       "<Figure size 1000x600 with 1 Axes>"
      ]
     },
     "metadata": {},
     "output_type": "display_data"
    }
   ],
   "source": [
    "# Storing all models performance metrics in a DataFrame\n",
    "models = ['linear_model', 'Ridge','Ridge_VC','Lasso','KKN','KNN_GS','Random_forest','RandomF_GS','Gradient_B','XG_Boost', 'XGB_GS']  # Replace with actual model names\n",
    "mse_values = [77362774.94, 77370466.68, 77529067.62, 77366087.44, 42160461.43, 55265635.68, 68960174.80, 68960174.80, 67706403.50, 66087760.61, 67540328.26]  # Replace with actual MSE values\n",
    "r2_values = [0.5933517958385074, 0.5933113651558912, 0.5924776982033093, 0.5933343840895651,0.5314437638443239,0.6177763546987296, 0.6375190618183141,0.6375190618183142,0.6441093611891296, 0.6526175646079968, 0.6449823158879611]  # Replace with actual R-squared values\n",
    "\n",
    "# Plotting Mean Squared Error of each model\n",
    "plt.figure(figsize=(10, 6))\n",
    "plt.bar(models, mse_values, color='orange')\n",
    "plt.xlabel('Model')\n",
    "plt.ylabel('Mean Squared Error (MSE)')\n",
    "plt.title('Mean Squared Error for Each Model')\n",
    "plt.xticks(rotation=45, ha='right')\n",
    "plt.tight_layout()\n",
    "plt.show()\n",
    "\n",
    "# Plotting r2 of each model\n",
    "plt.figure(figsize=(10, 6))\n",
    "plt.bar(models, r2_values, color='pink')\n",
    "plt.xlabel('Model')\n",
    "plt.ylabel('R-squared')\n",
    "plt.title('R-squared for Each Model')\n",
    "# Set the x-axis label alignment to center\n",
    "plt.xticks(rotation=45, ha='right')\n",
    "plt.tight_layout()"
   ]
  },
  {
   "cell_type": "markdown",
   "id": "2c42b16e",
   "metadata": {},
   "source": [
    "### Evaluation :\n",
    "I discovered that XG Boost is the best model for accuracy after comparing the visualisation graphs of mean_squared_error and coefficient of determination (r-squared) for each model. Among all the models, the XG Boost model has the greatest R2 score and the lowest MSE."
   ]
  },
  {
   "cell_type": "markdown",
   "id": "36224423",
   "metadata": {},
   "source": [
    "--------------------------------------------------------------------------------------------------------------------------------"
   ]
  },
  {
   "cell_type": "markdown",
   "id": "f9ffd0d3",
   "metadata": {},
   "source": [
    "# Model prediction on Demo data"
   ]
  },
  {
   "cell_type": "code",
   "execution_count": 122,
   "id": "a9ca58c8",
   "metadata": {},
   "outputs": [],
   "source": [
    "# Creating data set for prediction (CTC)\n",
    "\n",
    "demo_data = pd.DataFrame({'College' : [2,1,3],\n",
    "                          'City' : [1,0,1],\n",
    "                          'Previous CTC' : [67000, 58000, 72000],\n",
    "                          'Previous job change' : [4,2,3],\n",
    "                          'Graduation Marks' : [75, 62, 59],\n",
    "                          'EXP (Month)' : [12, 16, 24],\n",
    "                          'Role_Executive' : [0, 1, 1],\n",
    "                          'Role_Manager' : [1, 0, 1]\n",
    "                         })"
   ]
  },
  {
   "cell_type": "code",
   "execution_count": 125,
   "id": "858f6c2e",
   "metadata": {},
   "outputs": [
    {
     "data": {
      "text/html": [
       "<div>\n",
       "<style scoped>\n",
       "    .dataframe tbody tr th:only-of-type {\n",
       "        vertical-align: middle;\n",
       "    }\n",
       "\n",
       "    .dataframe tbody tr th {\n",
       "        vertical-align: top;\n",
       "    }\n",
       "\n",
       "    .dataframe thead th {\n",
       "        text-align: right;\n",
       "    }\n",
       "</style>\n",
       "<table border=\"1\" class=\"dataframe\">\n",
       "  <thead>\n",
       "    <tr style=\"text-align: right;\">\n",
       "      <th></th>\n",
       "      <th>College</th>\n",
       "      <th>City</th>\n",
       "      <th>Previous CTC</th>\n",
       "      <th>Previous job change</th>\n",
       "      <th>Graduation Marks</th>\n",
       "      <th>EXP (Month)</th>\n",
       "      <th>Role_Executive</th>\n",
       "      <th>Role_Manager</th>\n",
       "    </tr>\n",
       "  </thead>\n",
       "  <tbody>\n",
       "    <tr>\n",
       "      <th>0</th>\n",
       "      <td>2</td>\n",
       "      <td>1</td>\n",
       "      <td>67000</td>\n",
       "      <td>4</td>\n",
       "      <td>75</td>\n",
       "      <td>12</td>\n",
       "      <td>0</td>\n",
       "      <td>1</td>\n",
       "    </tr>\n",
       "    <tr>\n",
       "      <th>1</th>\n",
       "      <td>1</td>\n",
       "      <td>0</td>\n",
       "      <td>58000</td>\n",
       "      <td>2</td>\n",
       "      <td>62</td>\n",
       "      <td>16</td>\n",
       "      <td>1</td>\n",
       "      <td>0</td>\n",
       "    </tr>\n",
       "    <tr>\n",
       "      <th>2</th>\n",
       "      <td>3</td>\n",
       "      <td>1</td>\n",
       "      <td>72000</td>\n",
       "      <td>3</td>\n",
       "      <td>59</td>\n",
       "      <td>24</td>\n",
       "      <td>1</td>\n",
       "      <td>1</td>\n",
       "    </tr>\n",
       "  </tbody>\n",
       "</table>\n",
       "</div>"
      ],
      "text/plain": [
       "   College  City  Previous CTC  Previous job change  Graduation Marks  \\\n",
       "0        2     1         67000                    4                75   \n",
       "1        1     0         58000                    2                62   \n",
       "2        3     1         72000                    3                59   \n",
       "\n",
       "   EXP (Month)  Role_Executive  Role_Manager  \n",
       "0           12               0             1  \n",
       "1           16               1             0  \n",
       "2           24               1             1  "
      ]
     },
     "execution_count": 125,
     "metadata": {},
     "output_type": "execute_result"
    }
   ],
   "source": [
    "# Printing demo_Data\n",
    "\n",
    "demo_data"
   ]
  },
  {
   "cell_type": "code",
   "execution_count": 126,
   "id": "c5672c53",
   "metadata": {},
   "outputs": [],
   "source": [
    "# Standardizing our demo data set \n",
    "\n",
    "scaler = preprocessing.StandardScaler().fit(demo_data)"
   ]
  },
  {
   "cell_type": "code",
   "execution_count": 127,
   "id": "f99a14fc",
   "metadata": {},
   "outputs": [],
   "source": [
    "# transfering scaled properties using scaler in demo_data_s object\n",
    "\n",
    "demo_data_s = scaler.transform(demo_data)"
   ]
  },
  {
   "cell_type": "code",
   "execution_count": 128,
   "id": "1b3dcc8a",
   "metadata": {},
   "outputs": [
    {
     "data": {
      "text/plain": [
       "array([[ 0.        ,  0.70710678,  0.23017414,  1.22474487,  1.39204455,\n",
       "        -1.06904497, -1.41421356,  0.70710678],\n",
       "       [-1.22474487, -1.41421356, -1.32350128, -1.22474487, -0.48001536,\n",
       "        -0.26726124,  0.70710678, -1.41421356],\n",
       "       [ 1.22474487,  0.70710678,  1.09332714,  0.        , -0.91202919,\n",
       "         1.33630621,  0.70710678,  0.70710678]])"
      ]
     },
     "execution_count": 128,
     "metadata": {},
     "output_type": "execute_result"
    }
   ],
   "source": [
    "# Printing scaled variable values\n",
    "\n",
    "demo_data_s"
   ]
  },
  {
   "cell_type": "markdown",
   "id": "6c014495",
   "metadata": {},
   "source": [
    "--------------------------------------------------------------------------------------------------------------------------------"
   ]
  },
  {
   "cell_type": "markdown",
   "id": "d059c26e",
   "metadata": {},
   "source": [
    "### Prediciting salary using my best model - XG Boost"
   ]
  },
  {
   "cell_type": "code",
   "execution_count": 129,
   "id": "d6b8dd63",
   "metadata": {},
   "outputs": [],
   "source": [
    "# Predicting salary using XG Boost and storing it in a variable.\n",
    "\n",
    "predicted_ctc = xgb_reg.predict(demo_data_s)"
   ]
  },
  {
   "cell_type": "code",
   "execution_count": 133,
   "id": "66d529d8",
   "metadata": {},
   "outputs": [
    {
     "name": "stdout",
     "output_type": "stream",
     "text": [
      "Predicted CTC values are : \n",
      " [84576.15  61011.617 76883.29 ]\n"
     ]
    }
   ],
   "source": [
    "# Printing predicted salary\n",
    "\n",
    "print('Predicted CTC values are : \\n', predicted_ctc)"
   ]
  },
  {
   "cell_type": "markdown",
   "id": "c01dadfe",
   "metadata": {},
   "source": [
    "--------------------------------------------------------------------------------------------------------------------------------"
   ]
  },
  {
   "cell_type": "markdown",
   "id": "96ce916e",
   "metadata": {},
   "source": [
    "# 1. Your views about the problem statement?"
   ]
  },
  {
   "cell_type": "markdown",
   "id": "8478aeb5",
   "metadata": {},
   "source": [
    "The issue is well-defined, and it covers a real-world scenario in which a corporation wishes to establish employee compensation in a fair and competitive manner. The work entails regression modeling, which is an appropriate method for this situation. This is a standard regression job in which we attempt to predict a continuous target variable (salary) based on multiple employee traits and qualities. The organization needs to make sure that its pay packages are competitive and fair, taking into account elements including the employee's experience, credentials, and performance, as well as market trends."
   ]
  },
  {
   "cell_type": "markdown",
   "id": "ae0b8a74",
   "metadata": {},
   "source": [
    "# 2.  What will be your approach to solving this task?"
   ]
  },
  {
   "cell_type": "markdown",
   "id": "f8c5c171",
   "metadata": {},
   "source": [
    "**As per my opinion and as on the basis of what i have learned yet, i would like to follow the approach data importing, data preprocessing, model selection, model evaluation, Model finalization and Improvement Suggestions.**\n",
    "\n",
    "#### Data Loading and Exploration:\n",
    "\n",
    "* Load the provided employee data into a pandas DataFrame.\n",
    "\n",
    "* Explore the dataset to understand its structure, features, and data types.\n",
    "\n",
    "* Perform descriptive statistics to gain insights into the data.\n",
    "\n",
    "#### Data Preprocessing:\n",
    "\n",
    "* Convert the \"College\" field into a numerical data type by assigning weights to different college tiers (e.g., Tier 1, Tier 2, Tier 3).\n",
    "* Convert the \"City\" field into a numerical data type (e.g., 0 for non-metro and 1 for metro cities).\n",
    "* Create dummy variables for the \"Role\" field using one-hot encoding.\n",
    "* Check for missing values and outliers\n",
    "\n",
    "#### Model Selection:\n",
    "\n",
    "* Choose and implement multiple regression & ensemble models, such as Linear Regression, Ridge Regression, Lasso Regression, KNN Random Forest, Gradient Boosting, and XG Boost.\n",
    "* Evaluate each model's performance using appropriate metrics (e.g., Mean Squared Error, R-squared) on the training and test data.\n",
    "\n",
    "#### Model Evaluation:\n",
    "\n",
    "* Compare the metrics of each model to evaluate its performance.\n",
    "* Based on the problem's unique needs and criteria, choose the model that gives the greatest performance.\n",
    "\n",
    "#### Model finalization:\n",
    "\n",
    "* Choose the model with the greatest performance on the assessment measures, taking into account characteristics such as accuracy, interpretability, and computational complexity.\n",
    "\n",
    "#### Improvement Suggestions:\n",
    "\n",
    "* Make ideas for increasing the model's performance, such as adding more features, gathering more data, experimenting with other modeling approaches, and employing ensemble methods."
   ]
  },
  {
   "cell_type": "markdown",
   "id": "37a517b9",
   "metadata": {},
   "source": [
    "# 3. What were the available ML model options you had to perform this task?"
   ]
  },
  {
   "cell_type": "markdown",
   "id": "a303016e",
   "metadata": {},
   "source": [
    "For regression tasks like predicting employee salaries, several machine learning models are available. Linear Regression, Ridge Regression, Lasso Regression, KNN, Random Forest, Gradient Boosting, XG Boost other regression techniques are among the ML model possibilities. \n",
    "\n",
    "Each model has its strengths and may perform differently based on the characteristics of the dataset. During model selection, we can experiment with different models and assess their performance using appropriate evaluation metrics. The goal is to choose the model that provides the most accurate salary predictions for the given dataset."
   ]
  },
  {
   "cell_type": "markdown",
   "id": "73fe921c",
   "metadata": {},
   "source": [
    "# 4. Which model’s performance is best and what could be the possible reason for that?\n"
   ]
  },
  {
   "cell_type": "markdown",
   "id": "088edc91",
   "metadata": {},
   "source": [
    "**I** considered one of the best models XGBoost for this regression task. Only XGBoost model explains the 65% variability on the test data. which is the highest accuracy then the other models. \n",
    "\n",
    "Here are some reasons why i think XGBoost might be the best choice for predicting employee salaries:\n",
    "\n",
    "**Performance:** XGBoost is known for its exceptional predictive performance. It typically provides highly accurate predictions, making it suitable for regression tasks.\n",
    "\n",
    "**Handling Non-linearity:** XGBoost can capture complex, non-linear relationships between features and the target variable. It's effective at modeling salary predictions, which can depend on a combination of factors in a non-linear manner.\n",
    "\n",
    "**Regularization:** XGBoost offers built-in L1 (Lasso) and L2 (Ridge) regularization techniques, which help prevent overfitting. This is important when working with real-world data, as it can improve the model's generalization to new data.\n",
    "\n",
    "**Speed and Scalability:** XGBoost is highly efficient and scalable, making it capable of handling larger datasets and providing fast predictions. This is important when dealing with a substantial number of employee records.\n",
    "\n",
    "**Customizable:** XGBoost allows fine-grained control over hyperparameters, which can be tuned to optimize the model's performance.\n",
    "\n",
    "**Ensemble Learning:** XGBoost can be used in ensemble learning, combining multiple models to improve prediction accuracy. By stacking or boosting multiple XGBoost models, you can potentially achieve even better results.\n",
    "\n"
   ]
  },
  {
   "cell_type": "markdown",
   "id": "184de778",
   "metadata": {},
   "source": [
    "# 5. What steps can you take to improve this selected model’s performance even further?\n"
   ]
  },
  {
   "cell_type": "markdown",
   "id": "cf192f5c",
   "metadata": {},
   "source": [
    "* To fine-tune the model's performance, we can optimize its hyperparameters. Adjusting parameters such as learning rate, max depth, number of trees (n_estimators), subsample, and colsample_bytree are all part of this.\n",
    "\n",
    "* Grid search or randomized search can be used to systematically explore different combinations of hyperparameters.\n",
    "\n",
    "* We can experiment with several types of regularization, such as L1 (Lasso) and L2 (Ridge), to avoid overfitting.   \n",
    "\n",
    "* Also Regularization can help the model generalize to new data more effectively.\n",
    "\n",
    "* To acquire a better assessment of the model's performance, we can use more complex cross-validation approaches such as k-fold cross-validation. This can assist you in avoiding over- and under-fitting.\n",
    "\n",
    "* Examine how outliers in the dataset were handled. we may either delete them, alter them, or develop a different model to forecast and correct outliers.\n",
    "\n",
    "* We can collect extra data if possible to expand the size and variety of the collection. It is critical to ensure data quality, thus properly clean and preprocess the data.\n",
    "\n",
    "* As new data becomes available, continue to update the model. Employee compensation patterns might shift over time, and retraining the model on a regular basis can help it adjust."
   ]
  }
 ],
 "metadata": {
  "kernelspec": {
   "display_name": "Python 3 (ipykernel)",
   "language": "python",
   "name": "python3"
  },
  "language_info": {
   "codemirror_mode": {
    "name": "ipython",
    "version": 3
   },
   "file_extension": ".py",
   "mimetype": "text/x-python",
   "name": "python",
   "nbconvert_exporter": "python",
   "pygments_lexer": "ipython3",
   "version": "3.11.5"
  }
 },
 "nbformat": 4,
 "nbformat_minor": 5
}
